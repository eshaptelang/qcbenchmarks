{
 "cells": [
  {
   "cell_type": "code",
   "execution_count": null,
   "id": "a988e7f2-38e3-4ea2-a4c8-f6461514a64d",
   "metadata": {
    "tags": []
   },
   "outputs": [],
   "source": [
    "# Importing standard Qiskit libraries\n",
    "from qiskit import QuantumCircuit, transpile\n",
    "from qiskit.tools.jupyter import *\n",
    "from qiskit.visualization import *\n",
    "from ibm_quantum_widgets import *\n",
    "\n",
    "# qiskit-ibmq-provider has been deprecated.\n",
    "# Please see the Migration Guides in https://ibm.biz/provider_migration_guide for more detail.\n",
    "from qiskit_ibm_runtime import QiskitRuntimeService, Sampler, Estimator, Session, Options\n",
    "\n",
    "# Loading your IBM Quantum account(s)\n",
    "service = QiskitRuntimeService(channel=\"ibm_quantum\")\n",
    "\n",
    "# Invoke a primitive. For more details see https://qiskit.org/documentation/partners/qiskit_ibm_runtime/tutorials.html\n",
    "# result = Sampler(\"ibmq_qasm_simulator\").run(circuits).result()"
   ]
  },
  {
   "cell_type": "code",
   "execution_count": null,
   "id": "584ee21c-1bad-4b0f-a640-ead6af862324",
   "metadata": {
    "tags": []
   },
   "outputs": [],
   "source": [
    "qc = QuantumCircuit(1)\n",
    "qc.x(0)\n",
    "qc.h(0)\n",
    "qc.x(0)\n",
    "qc.h(0)\n",
    "duration = 1\n",
    "QuantumCircuit.delay(3, qarg=None, unit='dt')\n",
    "print(qc)"
   ]
  },
  {
   "cell_type": "code",
   "execution_count": null,
   "id": "04054b39-9eb9-422c-9a1b-23985e7551cf",
   "metadata": {},
   "outputs": [],
   "source": []
  }
 ],
 "metadata": {
  "kernelspec": {
   "display_name": "Python 3 (ipykernel)",
   "language": "python",
   "name": "python3"
  },
  "language_info": {
   "codemirror_mode": {
    "name": "ipython",
    "version": 3
   },
   "file_extension": ".py",
   "mimetype": "text/x-python",
   "name": "python",
   "nbconvert_exporter": "python",
   "pygments_lexer": "ipython3",
   "version": "3.10.8"
  },
  "widgets": {
   "application/vnd.jupyter.widget-state+json": {
    "state": {
     "0f459308de294c4db44e84b2a82c5067": {
      "model_module": "@jupyter-widgets/controls",
      "model_module_version": "2.0.0",
      "model_name": "HTMLModel",
      "state": {
       "layout": "IPY_MODEL_a35604d57100458898dbd101f077e0a3",
       "style": "IPY_MODEL_ec3899287fe746a294af2c339cc8eeb4",
       "value": "<h5>Job ID</h5>"
      }
     },
     "190d7adc5b4c4720ad453cccc89945d9": {
      "model_module": "@jupyter-widgets/controls",
      "model_module_version": "2.0.0",
      "model_name": "GridBoxModel",
      "state": {
       "children": [
        "IPY_MODEL_b72d26ced5d649699d93f0eac0c6ab1d"
       ],
       "layout": "IPY_MODEL_1f152c3e4b8444f9bb41137b368f7715"
      }
     },
     "1c76cfe7ed9345a99482abe29d400ab4": {
      "model_module": "@jupyter-widgets/controls",
      "model_module_version": "2.0.0",
      "model_name": "HTMLStyleModel",
      "state": {
       "description_width": "",
       "font_size": null,
       "text_color": null
      }
     },
     "1f152c3e4b8444f9bb41137b368f7715": {
      "model_module": "@jupyter-widgets/base",
      "model_module_version": "2.0.0",
      "model_name": "LayoutModel",
      "state": {
       "grid_template_areas": "\n                                       \". . . . right \"\n                                        ",
       "grid_template_columns": "20% 20% 20% 20% 20%",
       "width": "100%"
      }
     },
     "240e2836479a401186b4c359e655d91c": {
      "model_module": "@jupyter-widgets/base",
      "model_module_version": "2.0.0",
      "model_name": "LayoutModel",
      "state": {
       "width": "95px"
      }
     },
     "388ad0fd0c3045f78711d584a9d90485": {
      "model_module": "@jupyter-widgets/base",
      "model_module_version": "2.0.0",
      "model_name": "LayoutModel",
      "state": {
       "width": "145px"
      }
     },
     "4a2f22ddee754837a3c7abbde890d49f": {
      "model_module": "@jupyter-widgets/controls",
      "model_module_version": "2.0.0",
      "model_name": "HTMLModel",
      "state": {
       "layout": "IPY_MODEL_240e2836479a401186b4c359e655d91c",
       "style": "IPY_MODEL_b69ba4bfe2a94ba3b82dfdbbfaa5c758",
       "value": "<h5>Status</h5>"
      }
     },
     "52227b1c72e54be3b9580a31fc931d4f": {
      "model_module": "@jupyter-widgets/controls",
      "model_module_version": "2.0.0",
      "model_name": "HTMLModel",
      "state": {
       "layout": "IPY_MODEL_388ad0fd0c3045f78711d584a9d90485",
       "style": "IPY_MODEL_1c76cfe7ed9345a99482abe29d400ab4",
       "value": "<h5>Backend</h5>"
      }
     },
     "59f1b77a318c435ba1fc85ff7a35a975": {
      "model_module": "@jupyter-widgets/controls",
      "model_module_version": "2.0.0",
      "model_name": "HTMLModel",
      "state": {
       "layout": "IPY_MODEL_b308585fff9a4ca0909e2c18122e95d0",
       "style": "IPY_MODEL_ff2b65bb960042778a169b7d88e31edd",
       "value": "<p style='font-family: IBM Plex Sans, Arial, Helvetica, sans-serif; font-size: 20px; font-weight: medium;'>Circuit Properties</p>"
      }
     },
     "6897217fd08a4e719c6dfde2d1087bef": {
      "model_module": "@jupyter-widgets/controls",
      "model_module_version": "2.0.0",
      "model_name": "HTMLModel",
      "state": {
       "layout": "IPY_MODEL_ce17bc10ae9f4d18a195ad99e09518d5",
       "style": "IPY_MODEL_eb6c35c5e181498da1de1b4ca235ab99",
       "value": "<h5>Queue</h5>"
      }
     },
     "a35604d57100458898dbd101f077e0a3": {
      "model_module": "@jupyter-widgets/base",
      "model_module_version": "2.0.0",
      "model_name": "LayoutModel",
      "state": {
       "width": "190px"
      }
     },
     "aca1ee8bca44460b9b055e4c7fe70ce5": {
      "model_module": "@jupyter-widgets/base",
      "model_module_version": "2.0.0",
      "model_name": "LayoutModel",
      "state": {}
     },
     "af41bcb583a74088bd62fa1d1aa773c6": {
      "model_module": "@jupyter-widgets/base",
      "model_module_version": "2.0.0",
      "model_name": "LayoutModel",
      "state": {
       "grid_area": "right",
       "padding": "0px 0px 0px 0px",
       "width": "70px"
      }
     },
     "b308585fff9a4ca0909e2c18122e95d0": {
      "model_module": "@jupyter-widgets/base",
      "model_module_version": "2.0.0",
      "model_name": "LayoutModel",
      "state": {
       "margin": "0px 0px 10px 0px"
      }
     },
     "b69ba4bfe2a94ba3b82dfdbbfaa5c758": {
      "model_module": "@jupyter-widgets/controls",
      "model_module_version": "2.0.0",
      "model_name": "HTMLStyleModel",
      "state": {
       "description_width": "",
       "font_size": null,
       "text_color": null
      }
     },
     "b72d26ced5d649699d93f0eac0c6ab1d": {
      "model_module": "@jupyter-widgets/controls",
      "model_module_version": "2.0.0",
      "model_name": "ButtonModel",
      "state": {
       "button_style": "primary",
       "description": "Clear",
       "layout": "IPY_MODEL_af41bcb583a74088bd62fa1d1aa773c6",
       "style": "IPY_MODEL_d6381942a37e4dc28dbe5a61a10af699",
       "tooltip": null
      }
     },
     "ce17bc10ae9f4d18a195ad99e09518d5": {
      "model_module": "@jupyter-widgets/base",
      "model_module_version": "2.0.0",
      "model_name": "LayoutModel",
      "state": {
       "width": "70px"
      }
     },
     "d6381942a37e4dc28dbe5a61a10af699": {
      "model_module": "@jupyter-widgets/controls",
      "model_module_version": "2.0.0",
      "model_name": "ButtonStyleModel",
      "state": {
       "font_family": null,
       "font_size": null,
       "font_style": null,
       "font_variant": null,
       "font_weight": null,
       "text_color": null,
       "text_decoration": null
      }
     },
     "d93fe6dc81b5453e82d412169be29246": {
      "model_module": "@jupyter-widgets/controls",
      "model_module_version": "2.0.0",
      "model_name": "HTMLModel",
      "state": {
       "layout": "IPY_MODEL_aca1ee8bca44460b9b055e4c7fe70ce5",
       "style": "IPY_MODEL_e8447e7c0fc345d48b9ac708fa5f851a",
       "value": "<h5>Message</h5>"
      }
     },
     "e8447e7c0fc345d48b9ac708fa5f851a": {
      "model_module": "@jupyter-widgets/controls",
      "model_module_version": "2.0.0",
      "model_name": "HTMLStyleModel",
      "state": {
       "description_width": "",
       "font_size": null,
       "text_color": null
      }
     },
     "ea1023d441424291811ecf8458ed5f94": {
      "model_module": "@jupyter-widgets/controls",
      "model_module_version": "2.0.0",
      "model_name": "HBoxModel",
      "state": {
       "children": [
        "IPY_MODEL_0f459308de294c4db44e84b2a82c5067",
        "IPY_MODEL_52227b1c72e54be3b9580a31fc931d4f",
        "IPY_MODEL_4a2f22ddee754837a3c7abbde890d49f",
        "IPY_MODEL_6897217fd08a4e719c6dfde2d1087bef",
        "IPY_MODEL_d93fe6dc81b5453e82d412169be29246"
       ],
       "layout": "IPY_MODEL_f8b267cdbf514e0e82e1efb3618a0efe"
      }
     },
     "eb6c35c5e181498da1de1b4ca235ab99": {
      "model_module": "@jupyter-widgets/controls",
      "model_module_version": "2.0.0",
      "model_name": "HTMLStyleModel",
      "state": {
       "description_width": "",
       "font_size": null,
       "text_color": null
      }
     },
     "ec3899287fe746a294af2c339cc8eeb4": {
      "model_module": "@jupyter-widgets/controls",
      "model_module_version": "2.0.0",
      "model_name": "HTMLStyleModel",
      "state": {
       "description_width": "",
       "font_size": null,
       "text_color": null
      }
     },
     "f8b267cdbf514e0e82e1efb3618a0efe": {
      "model_module": "@jupyter-widgets/base",
      "model_module_version": "2.0.0",
      "model_name": "LayoutModel",
      "state": {
       "margin": "0px 0px 0px 37px",
       "width": "600px"
      }
     },
     "ff2b65bb960042778a169b7d88e31edd": {
      "model_module": "@jupyter-widgets/controls",
      "model_module_version": "2.0.0",
      "model_name": "HTMLStyleModel",
      "state": {
       "description_width": "",
       "font_size": null,
       "text_color": null
      }
     }
    },
    "version_major": 2,
    "version_minor": 0
   }
  }
 },
 "nbformat": 4,
 "nbformat_minor": 5
}
