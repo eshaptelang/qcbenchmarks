{
 "cells": [
  {
   "cell_type": "code",
   "execution_count": 2,
   "id": "651fd3bf-8aa9-4339-8ab9-6d32fc413487",
   "metadata": {
    "tags": []
   },
   "outputs": [],
   "source": [
    "# Importing standard Qiskit libraries\n",
    "from qiskit import QuantumCircuit, transpile\n",
    "from qiskit.tools.jupyter import *\n",
    "from qiskit.visualization import *\n",
    "from ibm_quantum_widgets import *\n",
    "import math\n",
    "\n",
    "# qiskit-ibmq-provider has been deprecated.\n",
    "# Please see the Migration Guides in https://ibm.biz/provider_migration_guide for more detail.\n",
    "from qiskit_ibm_runtime import QiskitRuntimeService, Sampler, Estimator, Session, Options\n",
    "from qiskit.quantum_info import *\n",
    "# Loading your IBM Quantum account(s)\n",
    "service = QiskitRuntimeService(channel=\"ibm_quantum\")\n",
    "\n",
    "# Invoke a primitive. For more details see https://qiskit.org/documentation/partners/qiskit_ibm_runtime/tutorials.html\n",
    "# result = Sampler(\"ibmq_qasm_simulator\").run(circuits).result()"
   ]
  },
  {
   "cell_type": "code",
   "execution_count": 3,
   "id": "692d6183-18c4-4c24-b7c3-caaf993e437f",
   "metadata": {
    "tags": []
   },
   "outputs": [
    {
     "name": "stdout",
     "output_type": "stream",
     "text": [
      "1.0000000000000002\n"
     ]
    }
   ],
   "source": [
    "a = Statevector([1/math.sqrt(2), 0, 0, 1/math.sqrt(2)])\n",
    "x = concurrence(a)\n",
    "print(x)"
   ]
  }
 ],
 "metadata": {
  "kernelspec": {
   "display_name": "Python 3 (ipykernel)",
   "language": "python",
   "name": "python3"
  },
  "language_info": {
   "codemirror_mode": {
    "name": "ipython",
    "version": 3
   },
   "file_extension": ".py",
   "mimetype": "text/x-python",
   "name": "python",
   "nbconvert_exporter": "python",
   "pygments_lexer": "ipython3",
   "version": "3.10.8"
  },
  "widgets": {
   "application/vnd.jupyter.widget-state+json": {
    "state": {
     "11ab89305e6047b39dc0f648cdc5f7c7": {
      "model_module": "@jupyter-widgets/controls",
      "model_module_version": "2.0.0",
      "model_name": "HTMLStyleModel",
      "state": {
       "description_width": "",
       "font_size": null,
       "text_color": null
      }
     },
     "15642dfa32954b92924871bbc43bb151": {
      "model_module": "@jupyter-widgets/base",
      "model_module_version": "2.0.0",
      "model_name": "LayoutModel",
      "state": {
       "width": "145px"
      }
     },
     "17276fb748cf458b88662292a908ee74": {
      "model_module": "@jupyter-widgets/controls",
      "model_module_version": "2.0.0",
      "model_name": "HTMLModel",
      "state": {
       "layout": "IPY_MODEL_3902324177a44d809e1cdea583f08af6",
       "style": "IPY_MODEL_11ab89305e6047b39dc0f648cdc5f7c7",
       "value": "<h5>Queue</h5>"
      }
     },
     "17f3b8de9f13422b945f9102d6606a3c": {
      "model_module": "@jupyter-widgets/controls",
      "model_module_version": "2.0.0",
      "model_name": "HTMLStyleModel",
      "state": {
       "description_width": "",
       "font_size": null,
       "text_color": null
      }
     },
     "26c7b51acd914cbf913eaf0553f9e153": {
      "model_module": "@jupyter-widgets/controls",
      "model_module_version": "2.0.0",
      "model_name": "HBoxModel",
      "state": {
       "children": [
        "IPY_MODEL_d6e5c7dc1a2d4ebb9aa88373749c0510",
        "IPY_MODEL_a2d11684760a46bb9272642e12e9636c",
        "IPY_MODEL_3275c1b37c424c83894eb11c2e678977",
        "IPY_MODEL_17276fb748cf458b88662292a908ee74",
        "IPY_MODEL_49bd8aafa4d54b5c885c6ceacc1202ec"
       ],
       "layout": "IPY_MODEL_2da5447c9b42413b9794671e05736389"
      }
     },
     "2da5447c9b42413b9794671e05736389": {
      "model_module": "@jupyter-widgets/base",
      "model_module_version": "2.0.0",
      "model_name": "LayoutModel",
      "state": {
       "margin": "0px 0px 0px 37px",
       "width": "600px"
      }
     },
     "3275c1b37c424c83894eb11c2e678977": {
      "model_module": "@jupyter-widgets/controls",
      "model_module_version": "2.0.0",
      "model_name": "HTMLModel",
      "state": {
       "layout": "IPY_MODEL_9296046b8fdd490aae72062c6322841d",
       "style": "IPY_MODEL_b026891ef2bc485ca0f3b98ab6430a1c",
       "value": "<h5>Status</h5>"
      }
     },
     "3902324177a44d809e1cdea583f08af6": {
      "model_module": "@jupyter-widgets/base",
      "model_module_version": "2.0.0",
      "model_name": "LayoutModel",
      "state": {
       "width": "70px"
      }
     },
     "39df734625a648caa5f238f3aae1edfd": {
      "model_module": "@jupyter-widgets/controls",
      "model_module_version": "2.0.0",
      "model_name": "HTMLStyleModel",
      "state": {
       "description_width": "",
       "font_size": null,
       "text_color": null
      }
     },
     "49bd8aafa4d54b5c885c6ceacc1202ec": {
      "model_module": "@jupyter-widgets/controls",
      "model_module_version": "2.0.0",
      "model_name": "HTMLModel",
      "state": {
       "layout": "IPY_MODEL_d75e0d4d2530483fb210ccf74bdcd3c0",
       "style": "IPY_MODEL_39df734625a648caa5f238f3aae1edfd",
       "value": "<h5>Message</h5>"
      }
     },
     "4c19b9f1b22646479cbcce5ada278fc9": {
      "model_module": "@jupyter-widgets/base",
      "model_module_version": "2.0.0",
      "model_name": "LayoutModel",
      "state": {
       "margin": "0px 0px 10px 0px"
      }
     },
     "5ea45a0f560e4115a4f6752bec763434": {
      "model_module": "@jupyter-widgets/controls",
      "model_module_version": "2.0.0",
      "model_name": "HTMLModel",
      "state": {
       "layout": "IPY_MODEL_4c19b9f1b22646479cbcce5ada278fc9",
       "style": "IPY_MODEL_cf957ac17e4f48e4ad32f70931bf69b1",
       "value": "<p style='font-family: IBM Plex Sans, Arial, Helvetica, sans-serif; font-size: 20px; font-weight: medium;'>Circuit Properties</p>"
      }
     },
     "8ba07901ccd44088804762ba54731e90": {
      "model_module": "@jupyter-widgets/controls",
      "model_module_version": "2.0.0",
      "model_name": "HTMLStyleModel",
      "state": {
       "description_width": "",
       "font_size": null,
       "text_color": null
      }
     },
     "9296046b8fdd490aae72062c6322841d": {
      "model_module": "@jupyter-widgets/base",
      "model_module_version": "2.0.0",
      "model_name": "LayoutModel",
      "state": {
       "width": "95px"
      }
     },
     "974b0a23cdbe4fb582e39b9329442734": {
      "model_module": "@jupyter-widgets/base",
      "model_module_version": "2.0.0",
      "model_name": "LayoutModel",
      "state": {
       "width": "190px"
      }
     },
     "a2d11684760a46bb9272642e12e9636c": {
      "model_module": "@jupyter-widgets/controls",
      "model_module_version": "2.0.0",
      "model_name": "HTMLModel",
      "state": {
       "layout": "IPY_MODEL_15642dfa32954b92924871bbc43bb151",
       "style": "IPY_MODEL_8ba07901ccd44088804762ba54731e90",
       "value": "<h5>Backend</h5>"
      }
     },
     "b026891ef2bc485ca0f3b98ab6430a1c": {
      "model_module": "@jupyter-widgets/controls",
      "model_module_version": "2.0.0",
      "model_name": "HTMLStyleModel",
      "state": {
       "description_width": "",
       "font_size": null,
       "text_color": null
      }
     },
     "b358dcbd74d541de805137f36c37ccff": {
      "model_module": "@jupyter-widgets/controls",
      "model_module_version": "2.0.0",
      "model_name": "ButtonStyleModel",
      "state": {
       "font_family": null,
       "font_size": null,
       "font_style": null,
       "font_variant": null,
       "font_weight": null,
       "text_color": null,
       "text_decoration": null
      }
     },
     "b9d18d6739594718b7e3572f081ae9e1": {
      "model_module": "@jupyter-widgets/controls",
      "model_module_version": "2.0.0",
      "model_name": "ButtonModel",
      "state": {
       "button_style": "primary",
       "description": "Clear",
       "layout": "IPY_MODEL_d0f00a3457a04a6e82c13a1a5efcaecd",
       "style": "IPY_MODEL_b358dcbd74d541de805137f36c37ccff",
       "tooltip": null
      }
     },
     "cf957ac17e4f48e4ad32f70931bf69b1": {
      "model_module": "@jupyter-widgets/controls",
      "model_module_version": "2.0.0",
      "model_name": "HTMLStyleModel",
      "state": {
       "description_width": "",
       "font_size": null,
       "text_color": null
      }
     },
     "d0f00a3457a04a6e82c13a1a5efcaecd": {
      "model_module": "@jupyter-widgets/base",
      "model_module_version": "2.0.0",
      "model_name": "LayoutModel",
      "state": {
       "grid_area": "right",
       "padding": "0px 0px 0px 0px",
       "width": "70px"
      }
     },
     "d6e5c7dc1a2d4ebb9aa88373749c0510": {
      "model_module": "@jupyter-widgets/controls",
      "model_module_version": "2.0.0",
      "model_name": "HTMLModel",
      "state": {
       "layout": "IPY_MODEL_974b0a23cdbe4fb582e39b9329442734",
       "style": "IPY_MODEL_17f3b8de9f13422b945f9102d6606a3c",
       "value": "<h5>Job ID</h5>"
      }
     },
     "d75e0d4d2530483fb210ccf74bdcd3c0": {
      "model_module": "@jupyter-widgets/base",
      "model_module_version": "2.0.0",
      "model_name": "LayoutModel",
      "state": {}
     },
     "e5e8e57bb557493a9a82e1e7d5869672": {
      "model_module": "@jupyter-widgets/controls",
      "model_module_version": "2.0.0",
      "model_name": "GridBoxModel",
      "state": {
       "children": [
        "IPY_MODEL_b9d18d6739594718b7e3572f081ae9e1"
       ],
       "layout": "IPY_MODEL_e6b1790ffdd8464cb97adf1df9140456"
      }
     },
     "e6b1790ffdd8464cb97adf1df9140456": {
      "model_module": "@jupyter-widgets/base",
      "model_module_version": "2.0.0",
      "model_name": "LayoutModel",
      "state": {
       "grid_template_areas": "\n                                       \". . . . right \"\n                                        ",
       "grid_template_columns": "20% 20% 20% 20% 20%",
       "width": "100%"
      }
     }
    },
    "version_major": 2,
    "version_minor": 0
   }
  }
 },
 "nbformat": 4,
 "nbformat_minor": 5
}
