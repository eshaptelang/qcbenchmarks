{
 "cells": [
  {
   "cell_type": "code",
   "execution_count": 3,
   "id": "5afaef71-904a-4c79-8923-0750dbd3f76e",
   "metadata": {
    "tags": []
   },
   "outputs": [],
   "source": [
    "#initialization\n",
    "import matplotlib.pyplot as plt\n",
    "import numpy as np\n",
    "import math\n",
    "\n",
    "# importing Qiskit\n",
    "from qiskit import IBMQ, Aer, transpile, execute\n",
    "from qiskit import QuantumCircuit, ClassicalRegister, QuantumRegister\n",
    "from qiskit.providers.ibmq import least_busy\n",
    "\n",
    "# import basic plot tools\n",
    "from qiskit.visualization import plot_histogram"
   ]
  },
  {
   "cell_type": "code",
   "execution_count": 4,
   "id": "1bcd3da2-9b9e-4ae4-914b-bb8bccb30032",
   "metadata": {
    "tags": []
   },
   "outputs": [],
   "source": [
    "grover_circuit = QuantumCircuit(2)"
   ]
  },
  {
   "cell_type": "code",
   "execution_count": 5,
   "id": "59c2b758-13ad-4793-8bb0-6fbf5f9d208b",
   "metadata": {
    "tags": []
   },
   "outputs": [],
   "source": [
    "def initialize_s(qc, qubits):\n",
    "    \"\"\"Apply a H-gate to 'qubits' in qc\"\"\"\n",
    "    for q in qubits:\n",
    "        qc.h(q)\n",
    "    return qc"
   ]
  },
  {
   "cell_type": "code",
   "execution_count": 6,
   "id": "35e3b3c8-f552-45c3-a05a-05d2884a55cc",
   "metadata": {
    "tags": []
   },
   "outputs": [
    {
     "data": {
      "image/png": "[encoded data removed]",
      "text/plain": [
       "<Figure size 203.683x200.667 with 1 Axes>"
      ]
     },
     "execution_count": 6,
     "metadata": {},
     "output_type": "execute_result"
    }
   ],
   "source": [
    "grover_circuit = initialize_s(grover_circuit, [0,1])\n",
    "grover_circuit.draw()"
   ]
  },
  {
   "cell_type": "code",
   "execution_count": 7,
   "id": "15c2ead4-6944-4617-9783-0042ecc67863",
   "metadata": {
    "tags": []
   },
   "outputs": [
    {
     "data": {
      "image/png": "[encoded data removed]",
      "text/plain": [
       "<Figure size 287.294x200.667 with 1 Axes>"
      ]
     },
     "execution_count": 7,
     "metadata": {},
     "output_type": "execute_result"
    }
   ],
   "source": [
    "grover_circuit.cz(0,1)\n",
    "grover_circuit.draw()"
   ]
  },
  {
   "cell_type": "code",
   "execution_count": 8,
   "id": "6d9f9b3a-4245-47ea-96c1-17f52a86a790",
   "metadata": {
    "tags": []
   },
   "outputs": [
    {
     "data": {
      "image/png": "[encoded data removed]",
      "text/plain": [
       "<Figure size 621.739x200.667 with 1 Axes>"
      ]
     },
     "execution_count": 8,
     "metadata": {},
     "output_type": "execute_result"
    }
   ],
   "source": [
    "grover_circuit.h([0,1])\n",
    "grover_circuit.z([0,1])\n",
    "grover_circuit.cz(0,1)\n",
    "grover_circuit.h([0,1])\n",
    "grover_circuit.draw()"
   ]
  },
  {
   "cell_type": "code",
   "execution_count": 11,
   "id": "1c2ebecb-a4f9-494d-aa72-33c335f00a27",
   "metadata": {
    "tags": []
   },
   "outputs": [
    {
     "data": {
      "image/png": "[encoded data removed]",
      "text/plain": [
       "<Figure size 700x500 with 1 Axes>"
      ]
     },
     "execution_count": 11,
     "metadata": {},
     "output_type": "execute_result"
    }
   ],
   "source": [
    "grover_circuit.measure_all()\n",
    "\n",
    "qasm_sim = Aer.get_backend('qasm_simulator')\n",
    "result = qasm_sim.run(grover_circuit).result()\n",
    "counts = result.get_counts()\n",
    "plot_histogram(counts)"
   ]
  },
  {
   "cell_type": "code",
   "execution_count": 12,
   "id": "5f4a717c-a6ff-403e-8238-feb4aa3f06d5",
   "metadata": {
    "tags": []
   },
   "outputs": [
    {
     "name": "stdout",
     "output_type": "stream",
     "text": [
      "ibm_nairobi\n"
     ]
    }
   ],
   "source": [
    "from qiskit.providers.ibmq import least_busy\n",
    "backend = least_busy(provider.backends(filters=lambda x: x.configuration().n_qubits >= 2 and\n",
    "not x.configuration().simulator and x.status().operational==True)) # Find the least busy QC\n",
    "print(backend)\n",
    "\n",
    "job = execute(grover_circuit,backend, shots = 1024) # Put in the name of your quantum circuit where it says qc, and the number of shots you want to use\n",
    "result = job.result()"
   ]
  },
  {
   "cell_type": "code",
   "execution_count": null,
   "id": "fb939323-6c5a-4d94-ba06-3d70a1255203",
   "metadata": {},
   "outputs": [],
   "source": []
  }
 ],
 "metadata": {
  "kernelspec": {
   "display_name": "Python 3 (ipykernel)",
   "language": "python",
   "name": "python3"
  },
  "language_info": {
   "codemirror_mode": {
    "name": "ipython",
    "version": 3
   },
   "file_extension": ".py",
   "mimetype": "text/x-python",
   "name": "python",
   "nbconvert_exporter": "python",
   "pygments_lexer": "ipython3",
   "version": "3.10.8"
  },
  "widgets": {
   "application/vnd.jupyter.widget-state+json": {
    "state": {
     "02161cfc66754bc0982f58371fdebdf2": {
      "model_module": "@jupyter-widgets/controls",
      "model_module_version": "2.0.0",
      "model_name": "ButtonModel",
      "state": {
       "icon": "close",
       "layout": "IPY_MODEL_3e7fbe9ab2b0474e90584ff81bd88a1d",
       "style": "IPY_MODEL_0a55bf77eda842569b2169407439a7a4",
       "tooltip": null
      }
     },
     "036ce66cc42649849e750ca42955c220": {
      "model_module": "@jupyter-widgets/controls",
      "model_module_version": "2.0.0",
      "model_name": "HTMLModel",
      "state": {
       "layout": "IPY_MODEL_2b2a07f57b3f4b34a532611b170dea92",
       "style": "IPY_MODEL_18e14a56c4f54bafb3edfb4f0bfa0c1e",
       "value": "-"
      }
     },
     "083ba3350d4f42a381892a5730eb9155": {
      "model_module": "@jupyter-widgets/controls",
      "model_module_version": "2.0.0",
      "model_name": "HTMLModel",
      "state": {
       "layout": "IPY_MODEL_2158ccf8f9d14bd3bad756047ab5a74f",
       "style": "IPY_MODEL_e1a46cc323624748b21f1602bba25b7e",
       "value": "<h5>Backend</h5>"
      }
     },
     "0a55bf77eda842569b2169407439a7a4": {
      "model_module": "@jupyter-widgets/controls",
      "model_module_version": "2.0.0",
      "model_name": "ButtonStyleModel",
      "state": {
       "button_color": "white",
       "font_family": null,
       "font_size": null,
       "font_style": null,
       "font_variant": null,
       "font_weight": null,
       "text_color": null,
       "text_decoration": null
      }
     },
     "0a92049ddba5492e9f037f9d29fcf2d3": {
      "model_module": "@jupyter-widgets/controls",
      "model_module_version": "2.0.0",
      "model_name": "HTMLStyleModel",
      "state": {
       "description_width": "",
       "font_size": null,
       "text_color": null
      }
     },
     "11f8d4c3979c4f27b9cbce6c2643ea8d": {
      "model_module": "@jupyter-widgets/controls",
      "model_module_version": "2.0.0",
      "model_name": "GridBoxModel",
      "state": {
       "children": [
        "IPY_MODEL_25b99b2f143f414dbb433410715e36b5"
       ],
       "layout": "IPY_MODEL_ef09728508c54158bbd915ac9064ad9d"
      }
     },
     "1489a531565444d8bff0f18877773fbb": {
      "model_module": "@jupyter-widgets/controls",
      "model_module_version": "2.0.0",
      "model_name": "HTMLModel",
      "state": {
       "layout": "IPY_MODEL_4c698214b1954c8aa4160c288d2e0697",
       "style": "IPY_MODEL_6a25f73bd061416a89ef69f17fe27aa5",
       "value": "ciqm35sb0ilk0bbjp5g0"
      }
     },
     "180f3117bab2493a895b4ec85932c8a7": {
      "model_module": "@jupyter-widgets/base",
      "model_module_version": "2.0.0",
      "model_name": "LayoutModel",
      "state": {
       "width": "95px"
      }
     },
     "18e14a56c4f54bafb3edfb4f0bfa0c1e": {
      "model_module": "@jupyter-widgets/controls",
      "model_module_version": "2.0.0",
      "model_name": "HTMLStyleModel",
      "state": {
       "description_width": "",
       "font_size": null,
       "text_color": null
      }
     },
     "1c23ef2a6e704baeaa40f578fffaad78": {
      "model_module": "@jupyter-widgets/controls",
      "model_module_version": "2.0.0",
      "model_name": "HTMLStyleModel",
      "state": {
       "description_width": "",
       "font_size": null,
       "text_color": null
      }
     },
     "1d8b57981f9a403997b7dcc25f9803c6": {
      "model_module": "@jupyter-widgets/controls",
      "model_module_version": "2.0.0",
      "model_name": "HTMLModel",
      "state": {
       "layout": "IPY_MODEL_dfd92c82885649f09516d8c17cdfb74f",
       "style": "IPY_MODEL_585295a0b7e04ec5b717da979d96c9ac",
       "value": "job has successfully run"
      }
     },
     "1e56c27bb094416ba8b5f3633b14189e": {
      "model_module": "@jupyter-widgets/controls",
      "model_module_version": "2.0.0",
      "model_name": "HTMLModel",
      "state": {
       "layout": "IPY_MODEL_d0c06eaf09be4f34b84224388175b17f",
       "style": "IPY_MODEL_b5b56186f64e449eb8775a764b4f1989",
       "value": "<p style='font-family: IBM Plex Sans, Arial, Helvetica, sans-serif; font-size: 20px; font-weight: medium;'>Circuit Properties</p>"
      }
     },
     "2158ccf8f9d14bd3bad756047ab5a74f": {
      "model_module": "@jupyter-widgets/base",
      "model_module_version": "2.0.0",
      "model_name": "LayoutModel",
      "state": {
       "width": "145px"
      }
     },
     "25b99b2f143f414dbb433410715e36b5": {
      "model_module": "@jupyter-widgets/controls",
      "model_module_version": "2.0.0",
      "model_name": "ButtonModel",
      "state": {
       "button_style": "primary",
       "description": "Clear",
       "layout": "IPY_MODEL_dcd08596f75b44dbb9cc18de9e761871",
       "style": "IPY_MODEL_9a3788c272f64e5f9ae62db6bc5a41a4",
       "tooltip": null
      }
     },
     "2b1cb5e870fa4d499b5f2b229a68e79f": {
      "model_module": "@jupyter-widgets/base",
      "model_module_version": "2.0.0",
      "model_name": "LayoutModel",
      "state": {
       "max_width": "700px",
       "min_width": "700px"
      }
     },
     "2b2a07f57b3f4b34a532611b170dea92": {
      "model_module": "@jupyter-widgets/base",
      "model_module_version": "2.0.0",
      "model_name": "LayoutModel",
      "state": {
       "width": "70px"
      }
     },
     "2e5e5e5bfef843ec851c70c8e14d794d": {
      "model_module": "@jupyter-widgets/base",
      "model_module_version": "2.0.0",
      "model_name": "LayoutModel",
      "state": {
       "width": "145px"
      }
     },
     "3e7fbe9ab2b0474e90584ff81bd88a1d": {
      "model_module": "@jupyter-widgets/base",
      "model_module_version": "2.0.0",
      "model_name": "LayoutModel",
      "state": {
       "margin": "0px 5px 0px 0px",
       "width": "32px"
      }
     },
     "40b10ab243334062afc867d63fc26796": {
      "model_module": "@jupyter-widgets/controls",
      "model_module_version": "2.0.0",
      "model_name": "HTMLModel",
      "state": {
       "layout": "IPY_MODEL_9b4b897b5702463d90f43b4c9e4ffd24",
       "style": "IPY_MODEL_51bcaa40ad3743668077cc0ceaa32298",
       "value": "<h5>Job ID</h5>"
      }
     },
     "4bce127191174b3db09116b84ae2da1d": {
      "model_module": "@jupyter-widgets/base",
      "model_module_version": "2.0.0",
      "model_name": "LayoutModel",
      "state": {
       "width": "70px"
      }
     },
     "4c698214b1954c8aa4160c288d2e0697": {
      "model_module": "@jupyter-widgets/base",
      "model_module_version": "2.0.0",
      "model_name": "LayoutModel",
      "state": {
       "width": "190px"
      }
     },
     "4deb0d960ae645c3adfa9d0cbb8a8fd6": {
      "model_module": "@jupyter-widgets/base",
      "model_module_version": "2.0.0",
      "model_name": "LayoutModel",
      "state": {
       "width": "95px"
      }
     },
     "51bcaa40ad3743668077cc0ceaa32298": {
      "model_module": "@jupyter-widgets/controls",
      "model_module_version": "2.0.0",
      "model_name": "HTMLStyleModel",
      "state": {
       "description_width": "",
       "font_size": null,
       "text_color": null
      }
     },
     "585295a0b7e04ec5b717da979d96c9ac": {
      "model_module": "@jupyter-widgets/controls",
      "model_module_version": "2.0.0",
      "model_name": "HTMLStyleModel",
      "state": {
       "description_width": "",
       "font_size": null,
       "text_color": null
      }
     },
     "61737f91e7ed474e991d9c7c6c8ae4e3": {
      "model_module": "@jupyter-widgets/controls",
      "model_module_version": "2.0.0",
      "model_name": "HBoxModel",
      "state": {
       "children": [
        "IPY_MODEL_02161cfc66754bc0982f58371fdebdf2",
        "IPY_MODEL_1489a531565444d8bff0f18877773fbb",
        "IPY_MODEL_adb63d92637f43bd8913685c76675086",
        "IPY_MODEL_c2879a1e16a24cc2be48713a769d1247",
        "IPY_MODEL_036ce66cc42649849e750ca42955c220",
        "IPY_MODEL_1d8b57981f9a403997b7dcc25f9803c6"
       ],
       "layout": "IPY_MODEL_2b1cb5e870fa4d499b5f2b229a68e79f"
      }
     },
     "620d646533b34f3b8734825e72c80812": {
      "model_module": "@jupyter-widgets/controls",
      "model_module_version": "2.0.0",
      "model_name": "HTMLStyleModel",
      "state": {
       "description_width": "",
       "font_size": null,
       "text_color": null
      }
     },
     "6a25f73bd061416a89ef69f17fe27aa5": {
      "model_module": "@jupyter-widgets/controls",
      "model_module_version": "2.0.0",
      "model_name": "HTMLStyleModel",
      "state": {
       "description_width": "",
       "font_size": null,
       "text_color": null
      }
     },
     "6c762268f70940c9af0869bf5a3e4efc": {
      "model_module": "@jupyter-widgets/controls",
      "model_module_version": "2.0.0",
      "model_name": "HTMLModel",
      "state": {
       "layout": "IPY_MODEL_180f3117bab2493a895b4ec85932c8a7",
       "style": "IPY_MODEL_1c23ef2a6e704baeaa40f578fffaad78",
       "value": "<h5>Status</h5>"
      }
     },
     "8346299257cb41dbbb355f34643f121c": {
      "model_module": "@jupyter-widgets/base",
      "model_module_version": "2.0.0",
      "model_name": "LayoutModel",
      "state": {}
     },
     "9a3788c272f64e5f9ae62db6bc5a41a4": {
      "model_module": "@jupyter-widgets/controls",
      "model_module_version": "2.0.0",
      "model_name": "ButtonStyleModel",
      "state": {
       "font_family": null,
       "font_size": null,
       "font_style": null,
       "font_variant": null,
       "font_weight": null,
       "text_color": null,
       "text_decoration": null
      }
     },
     "9b4b897b5702463d90f43b4c9e4ffd24": {
      "model_module": "@jupyter-widgets/base",
      "model_module_version": "2.0.0",
      "model_name": "LayoutModel",
      "state": {
       "width": "190px"
      }
     },
     "9c7c0f2377bf44baabc85fe6233924b3": {
      "model_module": "@jupyter-widgets/controls",
      "model_module_version": "2.0.0",
      "model_name": "HTMLModel",
      "state": {
       "layout": "IPY_MODEL_8346299257cb41dbbb355f34643f121c",
       "style": "IPY_MODEL_620d646533b34f3b8734825e72c80812",
       "value": "<h5>Message</h5>"
      }
     },
     "adb63d92637f43bd8913685c76675086": {
      "model_module": "@jupyter-widgets/controls",
      "model_module_version": "2.0.0",
      "model_name": "HTMLModel",
      "state": {
       "layout": "IPY_MODEL_2e5e5e5bfef843ec851c70c8e14d794d",
       "style": "IPY_MODEL_c561903a26e3442e890f16357bddb728",
       "value": "ibm_nairobi"
      }
     },
     "af66b785bac84ec9aa1738daed054ad0": {
      "model_module": "@jupyter-widgets/controls",
      "model_module_version": "2.0.0",
      "model_name": "HBoxModel",
      "state": {
       "children": [
        "IPY_MODEL_40b10ab243334062afc867d63fc26796",
        "IPY_MODEL_083ba3350d4f42a381892a5730eb9155",
        "IPY_MODEL_6c762268f70940c9af0869bf5a3e4efc",
        "IPY_MODEL_c820375a01944eeabf4f108b647ceb34",
        "IPY_MODEL_9c7c0f2377bf44baabc85fe6233924b3"
       ],
       "layout": "IPY_MODEL_b1edabe7c7ef4cf79caa88575de44f64"
      }
     },
     "b1edabe7c7ef4cf79caa88575de44f64": {
      "model_module": "@jupyter-widgets/base",
      "model_module_version": "2.0.0",
      "model_name": "LayoutModel",
      "state": {
       "margin": "0px 0px 0px 37px",
       "width": "600px"
      }
     },
     "b5b56186f64e449eb8775a764b4f1989": {
      "model_module": "@jupyter-widgets/controls",
      "model_module_version": "2.0.0",
      "model_name": "HTMLStyleModel",
      "state": {
       "description_width": "",
       "font_size": null,
       "text_color": null
      }
     },
     "c2879a1e16a24cc2be48713a769d1247": {
      "model_module": "@jupyter-widgets/controls",
      "model_module_version": "2.0.0",
      "model_name": "HTMLModel",
      "state": {
       "layout": "IPY_MODEL_4deb0d960ae645c3adfa9d0cbb8a8fd6",
       "style": "IPY_MODEL_0a92049ddba5492e9f037f9d29fcf2d3",
       "value": "<font style='color:#34BC6E'>DONE</font>"
      }
     },
     "c561903a26e3442e890f16357bddb728": {
      "model_module": "@jupyter-widgets/controls",
      "model_module_version": "2.0.0",
      "model_name": "HTMLStyleModel",
      "state": {
       "description_width": "",
       "font_size": null,
       "text_color": null
      }
     },
     "c820375a01944eeabf4f108b647ceb34": {
      "model_module": "@jupyter-widgets/controls",
      "model_module_version": "2.0.0",
      "model_name": "HTMLModel",
      "state": {
       "layout": "IPY_MODEL_4bce127191174b3db09116b84ae2da1d",
       "style": "IPY_MODEL_d0526a158ade4e34ac8eab0851f3b5b1",
       "value": "<h5>Queue</h5>"
      }
     },
     "d0526a158ade4e34ac8eab0851f3b5b1": {
      "model_module": "@jupyter-widgets/controls",
      "model_module_version": "2.0.0",
      "model_name": "HTMLStyleModel",
      "state": {
       "description_width": "",
       "font_size": null,
       "text_color": null
      }
     },
     "d0c06eaf09be4f34b84224388175b17f": {
      "model_module": "@jupyter-widgets/base",
      "model_module_version": "2.0.0",
      "model_name": "LayoutModel",
      "state": {
       "margin": "0px 0px 10px 0px"
      }
     },
     "dcd08596f75b44dbb9cc18de9e761871": {
      "model_module": "@jupyter-widgets/base",
      "model_module_version": "2.0.0",
      "model_name": "LayoutModel",
      "state": {
       "grid_area": "right",
       "padding": "0px 0px 0px 0px",
       "width": "70px"
      }
     },
     "dfd92c82885649f09516d8c17cdfb74f": {
      "model_module": "@jupyter-widgets/base",
      "model_module_version": "2.0.0",
      "model_name": "LayoutModel",
      "state": {}
     },
     "e1a46cc323624748b21f1602bba25b7e": {
      "model_module": "@jupyter-widgets/controls",
      "model_module_version": "2.0.0",
      "model_name": "HTMLStyleModel",
      "state": {
       "description_width": "",
       "font_size": null,
       "text_color": null
      }
     },
     "ef09728508c54158bbd915ac9064ad9d": {
      "model_module": "@jupyter-widgets/base",
      "model_module_version": "2.0.0",
      "model_name": "LayoutModel",
      "state": {
       "grid_template_areas": "\n                                       \". . . . right \"\n                                        ",
       "grid_template_columns": "20% 20% 20% 20% 20%",
       "width": "100%"
      }
     }
    },
    "version_major": 2,
    "version_minor": 0
   }
  }
 },
 "nbformat": 4,
 "nbformat_minor": 5
}
