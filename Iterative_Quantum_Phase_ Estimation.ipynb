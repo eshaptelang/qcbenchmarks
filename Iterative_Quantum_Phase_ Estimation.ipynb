{
 "cells": [
  {
   "cell_type": "code",
   "execution_count": 1,
   "id": "6c50b054-8513-44ea-a0f6-44899e4977d4",
   "metadata": {
    "tags": []
   },
   "outputs": [],
   "source": [
    "from qiskit import QuantumCircuit, transpile\n",
    "from qiskit.tools.jupyter import *\n",
    "from qiskit.visualization import *\n",
    "from ibm_quantum_widgets import *\n",
    "\n",
    "# qiskit-ibmq-provider has been deprecated.\n",
    "# Please see the Migration Guides in https://ibm.biz/provider_migration_guide for more detail.\n",
    "from qiskit_ibm_runtime import QiskitRuntimeService, Sampler, Estimator, Session, Options\n",
    "\n",
    "# Loading your IBM Quantum account(s)\n",
    "service = QiskitRuntimeService(channel=\"ibm_quantum\")\n",
    "\n",
    "# Invoke a primitive. For more details see https://qiskit.org/documentation/partners/qiskit_ibm_runtime/tutorials.html\n",
    "# result = Sampler(\"ibmq_qasm_simulator\").run(circuits).result()\n",
    "import math\n",
    "import os\n",
    "import math\n",
    "import numpy as np\n",
    "import matplotlib.pyplot as plt\n",
    "import scipy.stats"
   ]
  },
  {
   "cell_type": "code",
   "execution_count": 2,
   "id": "258da177-b61d-4cac-9acc-e9d9ef77a928",
   "metadata": {
    "tags": []
   },
   "outputs": [
    {
     "name": "stderr",
     "output_type": "stream",
     "text": [
      "/tmp/ipykernel_570/4216617415.py:24: DeprecationWarning: The qiskit.IBMQ entrypoint and the qiskit-ibmq-provider package (accessible from 'qiskit.providers.ibmq`) are deprecated and will be removed in a future release. Instead you should use the qiskit-ibm-provider package which is accessible from 'qiskit_ibm_provider'. You can install it with 'pip install qiskit_ibm_provider'. Just replace 'qiskit.IBMQ' with 'qiskit_ibm_provider.IBMProvider'\n",
      "  provider = IBMQ.load_account()\n"
     ]
    }
   ],
   "source": [
    "from qiskit.tools.jupyter import *\n",
    "from qiskit.visualization import *\n",
    "from ibm_quantum_widgets import *\n",
    "\n",
    "# qiskit-ibmq-provider has been deprecated.\n",
    "# Please see the Migration Guides in https://ibm.biz/provider_migration_guide for more detail.\n",
    "from qiskit_ibm_runtime import QiskitRuntimeService, Sampler, Estimator, Session, Options\n",
    "\n",
    "# Loading your IBM Quantum account(s)\n",
    "service = QiskitRuntimeService(channel=\"ibm_quantum\")\n",
    "\n",
    "# Invoke a primitive. For more details see https://qiskit.org/documentation/partners/qiskit_ibm_runtime/tutorials.html\n",
    "# result = Sampler(\"ibmq_qasm_simulator\").run(circuits).result()\n",
    "\n",
    "import numpy as np\n",
    "\n",
    "# Importing standard Qiskit libraries\n",
    "from qiskit import QuantumCircuit, transpile, execute, Aer, IBMQ\n",
    "from qiskit.providers.aer import QasmSimulator\n",
    "from qiskit.providers.aer.noise import NoiseModel\n",
    "import matplotlib.pyplot as plt\n",
    "\n",
    "# Loading your IBM Quantum account(s)\n",
    "provider = IBMQ.load_account()"
   ]
  },
  {
   "cell_type": "code",
   "execution_count": 3,
   "id": "4733ea60-9193-4c1c-9729-a94abb48d767",
   "metadata": {
    "tags": []
   },
   "outputs": [
    {
     "name": "stdout",
     "output_type": "stream",
     "text": [
      "Traceback \u001b[1;36m(most recent call last)\u001b[0m:\n",
      "\u001b[1;36m  Cell \u001b[1;32mIn[3], line 8\u001b[1;36m\n",
      "\u001b[1;33m    job = sampler.run(qc_S)\u001b[1;36m\n",
      "\u001b[1;31mNameError\u001b[0m\u001b[1;31m:\u001b[0m name 'qc_S' is not defined\n",
      "\n",
      "Use %tb to get the full traceback.\n"
     ]
    },
    {
     "data": {
      "text/html": [
       "\n",
       "<style>\n",
       ".button {\n",
       "  border: none;\n",
       "  color: white;\n",
       "  padding: 4px 8px;\n",
       "  text-align: center;\n",
       "  text-decoration: none;\n",
       "  display: inline-block;\n",
       "  font-size: 12px;\n",
       "  margin: 4px 2px;\n",
       "  transition-duration: 0.2s;\n",
       "  cursor: pointer;\n",
       "}\n",
       ".iqx-button {\n",
       "  background-color: #0f62fe; \n",
       "  color: white; \n",
       "}\n",
       ".iqx-button:hover {\n",
       "  background-color: #0043ce;\n",
       "  color: white;\n",
       "}\n",
       "</style>\n",
       "<a href=\"https://stackoverflow.com/search?q=NameError: name 'qc_S' is not defined\" target='_blank'><button class='button iqx-button'>Search for solution online</button></a>\n"
      ],
      "text/plain": [
       "<IPython.core.display.HTML object>"
      ]
     },
     "metadata": {},
     "output_type": "display_data"
    }
   ],
   "source": [
    "import matplotlib.pyplot as plt\n",
    "\n",
    "from qiskit.tools.visualization import plot_histogram\n",
    "from qiskit_aer.primitives import Sampler\n",
    "\n",
    "sampler = Sampler()\n",
    "\n",
    "job = sampler.run(qc_S)\n",
    "result = job.result()\n",
    "\n",
    "dist0 = result.quasi_dists[0]\n",
    "\n",
    "key_new = [str(key/2**m) for key in list(dist0.keys())]\n",
    "dist1 = dict(zip(key_new, dist0.values()))\n",
    "\n",
    "fig, ax = plt.subplots(1,2)\n",
    "plot_histogram(dist0, ax=ax[0])\n",
    "plot_histogram(dist1, ax=ax[1])\n",
    "plt.tight_layout()"
   ]
  },
  {
   "cell_type": "code",
   "execution_count": null,
   "id": "1904dc51-606c-468e-975f-73e3a18b161a",
   "metadata": {
    "tags": []
   },
   "outputs": [],
   "source": [
    "qc = QuantumCircuit(1, 1)\n",
    "qc.h(0)\n",
    "qc.measure(0,0)\n",
    "qc.x(0).c_if(0, 0)\n",
    "qc.draw(output='mpl')"
   ]
  },
  {
   "cell_type": "code",
   "execution_count": null,
   "id": "0bedfe53-1f71-4d6e-bd8c-bb61ef77ff99",
   "metadata": {
    "tags": []
   },
   "outputs": [],
   "source": [
    "from qiskit import QuantumRegister, ClassicalRegister\n",
    "\n",
    "q = QuantumRegister(3, 'q')\n",
    "c = ClassicalRegister(3, 'c')\n",
    "qc = QuantumCircuit(q, c)\n",
    "\n",
    "qc.h([0, 1, 2])\n",
    "qc.barrier()\n",
    "qc.measure(q, c)\n",
    "\n",
    "qc.draw('mpl')"
   ]
  },
  {
   "cell_type": "code",
   "execution_count": null,
   "id": "2b35e7ad-e9cf-434d-a41a-b8ef047fcef3",
   "metadata": {
    "tags": []
   },
   "outputs": [],
   "source": [
    "print(bin(3))\n",
    "print(bin(7))"
   ]
  },
  {
   "cell_type": "code",
   "execution_count": null,
   "id": "f4ae8ea7-8382-4dae-a79e-6a1d26e31020",
   "metadata": {
    "tags": []
   },
   "outputs": [],
   "source": [
    "qc.x(2).c_if(c, 3) # for the 011 case\n",
    "qc.x(2).c_if(c, 7) # for the 111 case\n",
    "\n",
    "qc.draw(output='mpl')"
   ]
  },
  {
   "cell_type": "code",
   "execution_count": null,
   "id": "e3c6e2f2-f4c0-4c0b-8c43-b3d2a2a60419",
   "metadata": {
    "tags": []
   },
   "outputs": [],
   "source": [
    "nq = 2\n",
    "m = 2\n",
    "q = QuantumRegister(nq, 'q')\n",
    "c = ClassicalRegister(m, 'c')\n",
    "\n",
    "qc_S = QuantumCircuit(q,c)"
   ]
  },
  {
   "cell_type": "code",
   "execution_count": null,
   "id": "19aef2ad-423e-4899-8230-f5dcf163220e",
   "metadata": {
    "tags": []
   },
   "outputs": [],
   "source": [
    "qc_S.h(0)\n",
    "qc_S.x(1)\n",
    "qc_S.draw('mpl')"
   ]
  },
  {
   "cell_type": "code",
   "execution_count": null,
   "id": "57e0012a-49e9-4e31-9db0-15989152af2b",
   "metadata": {
    "tags": []
   },
   "outputs": [],
   "source": [
    "from math import pi\n",
    "\n",
    "cu_circ = QuantumCircuit(2)\n",
    "cu_circ.cp(pi/2, 0, 1)\n",
    "cu_circ.draw('mpl')"
   ]
  },
  {
   "cell_type": "code",
   "execution_count": null,
   "id": "6ad2c4a3-aead-41f6-aeae-f7c5306a3a07",
   "metadata": {
    "tags": []
   },
   "outputs": [],
   "source": [
    "for _ in range(2 ** (m - 1)):\n",
    "    qc_S.cp(pi/2, 0, 1)\n",
    "qc_S.draw('mpl')"
   ]
  },
  {
   "cell_type": "code",
   "execution_count": null,
   "id": "0e567af8-bc02-4c24-bac7-07bde7d45960",
   "metadata": {
    "tags": []
   },
   "outputs": [],
   "source": [
    "def x_measurement(qc, qubit, cbit):\n",
    "    \"\"\"Measure 'qubit' in the X-basis, and store the result in 'cbit'\"\"\"\n",
    "    qc.h(qubit)\n",
    "    qc.measure(qubit, cbit)"
   ]
  },
  {
   "cell_type": "code",
   "execution_count": null,
   "id": "bb7e385f-b9cf-427a-a54c-61ed4c4e6a27",
   "metadata": {
    "tags": []
   },
   "outputs": [],
   "source": [
    "x_measurement(qc_S, q[0], c[0])\n",
    "qc_S.draw('mpl')"
   ]
  },
  {
   "cell_type": "code",
   "execution_count": null,
   "id": "9869a14f-85f7-4e80-aacc-9978049f276b",
   "metadata": {
    "tags": []
   },
   "outputs": [],
   "source": [
    "qc_S.reset(0)\n",
    "qc_S.h(0)\n",
    "qc_S.draw('mpl')"
   ]
  },
  {
   "cell_type": "code",
   "execution_count": null,
   "id": "a1b50546-1d6b-4380-ab60-dfba2a1f5a68",
   "metadata": {
    "tags": []
   },
   "outputs": [],
   "source": [
    "qc_S.p(-pi/2, 0).c_if(c, 1)\n",
    "qc_S.draw('mpl')"
   ]
  },
  {
   "cell_type": "code",
   "execution_count": null,
   "id": "fea4ccb3-2350-4fa7-aa52-c8c6ff1650dd",
   "metadata": {
    "tags": []
   },
   "outputs": [],
   "source": [
    "## 2^t c-U operations (with t=m-2)\n",
    "for _ in range(2 ** (m - 2)):\n",
    "    qc_S.cp(pi/2, 0, 1)\n",
    "\n",
    "x_measurement(qc_S, q[0], c[1]) "
   ]
  },
  {
   "cell_type": "code",
   "execution_count": null,
   "id": "7443e170-9d49-412e-9a61-39a2decef0d2",
   "metadata": {
    "tags": []
   },
   "outputs": [],
   "source": [
    "qc_S.draw('mpl')"
   ]
  },
  {
   "cell_type": "code",
   "execution_count": null,
   "id": "699dae65-a55b-4176-9502-dc4fd5fe37b3",
   "metadata": {
    "tags": []
   },
   "outputs": [],
   "source": [
    "import matplotlib.pyplot as plt\n",
    "\n",
    "from qiskit.tools.visualization import plot_histogram\n",
    "from qiskit_aer.primitives import Sampler\n",
    "\n",
    "sampler = Sampler()\n",
    "\n",
    "job = sampler.run(qc_S)\n",
    "result = job.result()\n",
    "\n",
    "dist0 = result.quasi_dists[0]\n",
    "\n",
    "key_new = [str(key/2**m) for key in list(dist0.keys())]\n",
    "dist1 = dict(zip(key_new, dist0.values()))\n",
    "\n",
    "fig, ax = plt.subplots(1,2)\n",
    "plot_histogram(dist0, ax=ax[0])\n",
    "plot_histogram(dist1, ax=ax[1])\n",
    "plt.tight_layout()"
   ]
  },
  {
   "cell_type": "code",
   "execution_count": null,
   "id": "8a312523-6c21-4172-bb41-952045c72647",
   "metadata": {
    "tags": []
   },
   "outputs": [],
   "source": [
    "import math\n",
    "import os\n",
    "\n",
    "from qiskit import QuantumCircuit, QuantumRegister, ClassicalRegister\n",
    "from qiskit.providers.fake_provider import FakeManilaV2, FakeBelemV2\n",
    "from qiskit import transpile\n",
    "from qiskit.tools.visualization import plot_histogram\n",
    "import time\n",
    "from multiprocessing import Pool\n",
    "pi = math.pi\n",
    "\n",
    "from qiskit.providers.ibmq import least_busy\n",
    "backend = least_busy(provider.backends(filters=lambda x: x.configuration().n_qubits >= 2 and\n",
    "not x.configuration().simulator and x.status().operational==True)) # Find the least busy QC\n",
    "\n",
    "transpiled_circuit = transpile(qc_S, backend)\n",
    "t2 = time.time()\n",
    "job = backend.run(transpiled_circuit)\n",
    "counts = job.result().get_counts()\n",
    "print(time.time() - t2)"
   ]
  }
 ],
 "metadata": {
  "kernelspec": {
   "display_name": "Python 3 (ipykernel)",
   "language": "python",
   "name": "python3"
  },
  "language_info": {
   "codemirror_mode": {
    "name": "ipython",
    "version": 3
   },
   "file_extension": ".py",
   "mimetype": "text/x-python",
   "name": "python",
   "nbconvert_exporter": "python",
   "pygments_lexer": "ipython3",
   "version": "3.10.8"
  },
  "widgets": {
   "application/vnd.jupyter.widget-state+json": {
    "state": {
     "0330a20fbc1749b59c2a8e1c3baa3645": {
      "model_module": "@jupyter-widgets/controls",
      "model_module_version": "2.0.0",
      "model_name": "ButtonModel",
      "state": {
       "button_style": "primary",
       "description": "Clear",
       "layout": "IPY_MODEL_4fd4cb1139f9471b994b59c5d0c841a1",
       "style": "IPY_MODEL_332c1df69f4c42e6ab72f009b64a1a8f",
       "tooltip": null
      }
     },
     "0c981a3d89934df592930cd94101484c": {
      "model_module": "@jupyter-widgets/controls",
      "model_module_version": "2.0.0",
      "model_name": "HTMLStyleModel",
      "state": {
       "description_width": "",
       "font_size": null,
       "text_color": null
      }
     },
     "15a646cee0014fd8a801679267d4b3d7": {
      "model_module": "@jupyter-widgets/controls",
      "model_module_version": "2.0.0",
      "model_name": "GridBoxModel",
      "state": {
       "children": [
        "IPY_MODEL_0330a20fbc1749b59c2a8e1c3baa3645"
       ],
       "layout": "IPY_MODEL_ed094a2a95e5479a86aaeb758a0b1c60"
      }
     },
     "332c1df69f4c42e6ab72f009b64a1a8f": {
      "model_module": "@jupyter-widgets/controls",
      "model_module_version": "2.0.0",
      "model_name": "ButtonStyleModel",
      "state": {
       "font_family": null,
       "font_size": null,
       "font_style": null,
       "font_variant": null,
       "font_weight": null,
       "text_color": null,
       "text_decoration": null
      }
     },
     "37112b41e2ed488698b82aa8326d6251": {
      "model_module": "@jupyter-widgets/base",
      "model_module_version": "2.0.0",
      "model_name": "LayoutModel",
      "state": {
       "width": "95px"
      }
     },
     "4bde0716ff2a43abb72290236bd3f1dc": {
      "model_module": "@jupyter-widgets/base",
      "model_module_version": "2.0.0",
      "model_name": "LayoutModel",
      "state": {
       "width": "145px"
      }
     },
     "4fd4cb1139f9471b994b59c5d0c841a1": {
      "model_module": "@jupyter-widgets/base",
      "model_module_version": "2.0.0",
      "model_name": "LayoutModel",
      "state": {
       "grid_area": "right",
       "padding": "0px 0px 0px 0px",
       "width": "70px"
      }
     },
     "692c976d72c84a29b40a2704fdc828df": {
      "model_module": "@jupyter-widgets/controls",
      "model_module_version": "2.0.0",
      "model_name": "HTMLStyleModel",
      "state": {
       "description_width": "",
       "font_size": null,
       "text_color": null
      }
     },
     "7e88909d1112454c8e39aa842da6ef37": {
      "model_module": "@jupyter-widgets/controls",
      "model_module_version": "2.0.0",
      "model_name": "HTMLModel",
      "state": {
       "layout": "IPY_MODEL_f58319d85bc149f4b76e20fc2871e014",
       "style": "IPY_MODEL_fdb3bec911aa4e49a9bd89447e9ef9f5",
       "value": "<h5>Message</h5>"
      }
     },
     "8b20b22012cd44f985a19cd9d8519af5": {
      "model_module": "@jupyter-widgets/controls",
      "model_module_version": "2.0.0",
      "model_name": "HTMLModel",
      "state": {
       "layout": "IPY_MODEL_c5815fb405184922ab19c4640c30471e",
       "style": "IPY_MODEL_d9972821ed2741fe86f0f12a8cb85ede",
       "value": "<h5>Job ID</h5>"
      }
     },
     "8e1e6f5281c44949ba365947aec27a34": {
      "model_module": "@jupyter-widgets/controls",
      "model_module_version": "2.0.0",
      "model_name": "HBoxModel",
      "state": {
       "children": [
        "IPY_MODEL_8b20b22012cd44f985a19cd9d8519af5",
        "IPY_MODEL_edf5d7e34fb84bbd95061919358b4a94",
        "IPY_MODEL_d76730b9a2c9447ba3f1ad3ebc989d80",
        "IPY_MODEL_97578a5bdd6b47ce901f656d36a9ff64",
        "IPY_MODEL_7e88909d1112454c8e39aa842da6ef37"
       ],
       "layout": "IPY_MODEL_aab62ae2827a4f95b7011a9d5e9f65d7"
      }
     },
     "8e4946ab62ab45d09a3528b4d9ddfb0c": {
      "model_module": "@jupyter-widgets/base",
      "model_module_version": "2.0.0",
      "model_name": "LayoutModel",
      "state": {
       "margin": "0px 0px 10px 0px"
      }
     },
     "97578a5bdd6b47ce901f656d36a9ff64": {
      "model_module": "@jupyter-widgets/controls",
      "model_module_version": "2.0.0",
      "model_name": "HTMLModel",
      "state": {
       "layout": "IPY_MODEL_f2212ee793d8443aab5525cbea377770",
       "style": "IPY_MODEL_bd1336e7bc7f40d18c849d689e30bffe",
       "value": "<h5>Queue</h5>"
      }
     },
     "9a2f983b559941da92223a8381373f2f": {
      "model_module": "@jupyter-widgets/controls",
      "model_module_version": "2.0.0",
      "model_name": "HTMLModel",
      "state": {
       "layout": "IPY_MODEL_8e4946ab62ab45d09a3528b4d9ddfb0c",
       "style": "IPY_MODEL_e0dc054b81af47bdbddd6e5dba620df3",
       "value": "<p style='font-family: IBM Plex Sans, Arial, Helvetica, sans-serif; font-size: 20px; font-weight: medium;'>Circuit Properties</p>"
      }
     },
     "aab62ae2827a4f95b7011a9d5e9f65d7": {
      "model_module": "@jupyter-widgets/base",
      "model_module_version": "2.0.0",
      "model_name": "LayoutModel",
      "state": {
       "margin": "0px 0px 0px 37px",
       "width": "600px"
      }
     },
     "bd1336e7bc7f40d18c849d689e30bffe": {
      "model_module": "@jupyter-widgets/controls",
      "model_module_version": "2.0.0",
      "model_name": "HTMLStyleModel",
      "state": {
       "description_width": "",
       "font_size": null,
       "text_color": null
      }
     },
     "c5815fb405184922ab19c4640c30471e": {
      "model_module": "@jupyter-widgets/base",
      "model_module_version": "2.0.0",
      "model_name": "LayoutModel",
      "state": {
       "width": "190px"
      }
     },
     "d76730b9a2c9447ba3f1ad3ebc989d80": {
      "model_module": "@jupyter-widgets/controls",
      "model_module_version": "2.0.0",
      "model_name": "HTMLModel",
      "state": {
       "layout": "IPY_MODEL_37112b41e2ed488698b82aa8326d6251",
       "style": "IPY_MODEL_692c976d72c84a29b40a2704fdc828df",
       "value": "<h5>Status</h5>"
      }
     },
     "d9972821ed2741fe86f0f12a8cb85ede": {
      "model_module": "@jupyter-widgets/controls",
      "model_module_version": "2.0.0",
      "model_name": "HTMLStyleModel",
      "state": {
       "description_width": "",
       "font_size": null,
       "text_color": null
      }
     },
     "e0dc054b81af47bdbddd6e5dba620df3": {
      "model_module": "@jupyter-widgets/controls",
      "model_module_version": "2.0.0",
      "model_name": "HTMLStyleModel",
      "state": {
       "description_width": "",
       "font_size": null,
       "text_color": null
      }
     },
     "ed094a2a95e5479a86aaeb758a0b1c60": {
      "model_module": "@jupyter-widgets/base",
      "model_module_version": "2.0.0",
      "model_name": "LayoutModel",
      "state": {
       "grid_template_areas": "\n                                       \". . . . right \"\n                                        ",
       "grid_template_columns": "20% 20% 20% 20% 20%",
       "width": "100%"
      }
     },
     "edf5d7e34fb84bbd95061919358b4a94": {
      "model_module": "@jupyter-widgets/controls",
      "model_module_version": "2.0.0",
      "model_name": "HTMLModel",
      "state": {
       "layout": "IPY_MODEL_4bde0716ff2a43abb72290236bd3f1dc",
       "style": "IPY_MODEL_0c981a3d89934df592930cd94101484c",
       "value": "<h5>Backend</h5>"
      }
     },
     "f2212ee793d8443aab5525cbea377770": {
      "model_module": "@jupyter-widgets/base",
      "model_module_version": "2.0.0",
      "model_name": "LayoutModel",
      "state": {
       "width": "70px"
      }
     },
     "f58319d85bc149f4b76e20fc2871e014": {
      "model_module": "@jupyter-widgets/base",
      "model_module_version": "2.0.0",
      "model_name": "LayoutModel",
      "state": {}
     },
     "fdb3bec911aa4e49a9bd89447e9ef9f5": {
      "model_module": "@jupyter-widgets/controls",
      "model_module_version": "2.0.0",
      "model_name": "HTMLStyleModel",
      "state": {
       "description_width": "",
       "font_size": null,
       "text_color": null
      }
     }
    },
    "version_major": 2,
    "version_minor": 0
   }
  }
 },
 "nbformat": 4,
 "nbformat_minor": 5
}
