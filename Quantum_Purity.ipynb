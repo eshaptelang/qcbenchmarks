{
 "cells": [
  {
   "cell_type": "code",
   "execution_count": 2,
   "id": "57fbdee3-9611-42c7-b631-f6a8b49694c3",
   "metadata": {
    "tags": []
   },
   "outputs": [],
   "source": [
    "# Importing standard Qiskit libraries\n",
    "from qiskit import QuantumCircuit, transpile\n",
    "from qiskit.tools.jupyter import *\n",
    "from qiskit.visualization import *\n",
    "from ibm_quantum_widgets import *\n",
    "import math\n",
    "# qiskit-ibmq-provider has been deprecated.\n",
    "# Please see the Migration Guides in https://ibm.biz/provider_migration_guide for more detail.\n",
    "from qiskit_ibm_runtime import QiskitRuntimeService, Sampler, Estimator, Session, Options\n",
    "from qiskit.quantum_info import *\n",
    "# Loading your IBM Quantum account(s)\n",
    "service = QiskitRuntimeService(channel=\"ibm_quantum\")\n",
    "\n",
    "# Invoke a primitive. For more details see https://qiskit.org/documentation/partners/qiskit_ibm_runtime/tutorials.html\n",
    "# result = Sampler(\"ibmq_qasm_simulator\").run(circuits).result()"
   ]
  },
  {
   "cell_type": "code",
   "execution_count": null,
   "id": "b3c66495-0db0-471a-b668-da343714e18d",
   "metadata": {},
   "outputs": [],
   "source": [
    "a = Statevector([1/math.sqrt(2), 1/math.sqrt(2)])\n",
    "b = purity()"
   ]
  }
 ],
 "metadata": {
  "kernelspec": {
   "display_name": "Python 3 (ipykernel)",
   "language": "python",
   "name": "python3"
  },
  "language_info": {
   "codemirror_mode": {
    "name": "ipython",
    "version": 3
   },
   "file_extension": ".py",
   "mimetype": "text/x-python",
   "name": "python",
   "nbconvert_exporter": "python",
   "pygments_lexer": "ipython3",
   "version": "3.10.8"
  },
  "widgets": {
   "application/vnd.jupyter.widget-state+json": {
    "state": {
     "1d24b80d7cd64bfd94db5bb8bd34facd": {
      "model_module": "@jupyter-widgets/base",
      "model_module_version": "2.0.0",
      "model_name": "LayoutModel",
      "state": {
       "grid_area": "right",
       "padding": "0px 0px 0px 0px",
       "width": "70px"
      }
     },
     "1d57c8313e9f4c5f9235082ad2e17234": {
      "model_module": "@jupyter-widgets/base",
      "model_module_version": "2.0.0",
      "model_name": "LayoutModel",
      "state": {
       "width": "190px"
      }
     },
     "2adeaea959ba4c1890de76b023a00668": {
      "model_module": "@jupyter-widgets/controls",
      "model_module_version": "2.0.0",
      "model_name": "ButtonStyleModel",
      "state": {
       "font_family": null,
       "font_size": null,
       "font_style": null,
       "font_variant": null,
       "font_weight": null,
       "text_color": null,
       "text_decoration": null
      }
     },
     "338655078ff4490594b980bb23c264f0": {
      "model_module": "@jupyter-widgets/controls",
      "model_module_version": "2.0.0",
      "model_name": "HTMLModel",
      "state": {
       "layout": "IPY_MODEL_ea80791c5c2c4b12b2e202113607d8d6",
       "style": "IPY_MODEL_d87ddafa248643fc80e6dae7f56967f5",
       "value": "<h5>Backend</h5>"
      }
     },
     "46b41c27c9644b1aac981e950ec44857": {
      "model_module": "@jupyter-widgets/controls",
      "model_module_version": "2.0.0",
      "model_name": "HTMLModel",
      "state": {
       "layout": "IPY_MODEL_1d57c8313e9f4c5f9235082ad2e17234",
       "style": "IPY_MODEL_92a6bdd79eb34446b52fd4f0f2ab57ea",
       "value": "<h5>Job ID</h5>"
      }
     },
     "63e1de44760846d1ae0dc68a6256b0ff": {
      "model_module": "@jupyter-widgets/controls",
      "model_module_version": "2.0.0",
      "model_name": "HTMLStyleModel",
      "state": {
       "description_width": "",
       "font_size": null,
       "text_color": null
      }
     },
     "7eb04899b65d479a8a1fb167fbeeab60": {
      "model_module": "@jupyter-widgets/base",
      "model_module_version": "2.0.0",
      "model_name": "LayoutModel",
      "state": {
       "grid_template_areas": "\n                                       \". . . . right \"\n                                        ",
       "grid_template_columns": "20% 20% 20% 20% 20%",
       "width": "100%"
      }
     },
     "8fcea9cb5b40471db3a1fbb99403db2d": {
      "model_module": "@jupyter-widgets/base",
      "model_module_version": "2.0.0",
      "model_name": "LayoutModel",
      "state": {
       "margin": "0px 0px 0px 37px",
       "width": "600px"
      }
     },
     "92a6bdd79eb34446b52fd4f0f2ab57ea": {
      "model_module": "@jupyter-widgets/controls",
      "model_module_version": "2.0.0",
      "model_name": "HTMLStyleModel",
      "state": {
       "description_width": "",
       "font_size": null,
       "text_color": null
      }
     },
     "96e5642e71154d879d4f1695f86386e6": {
      "model_module": "@jupyter-widgets/controls",
      "model_module_version": "2.0.0",
      "model_name": "HTMLStyleModel",
      "state": {
       "description_width": "",
       "font_size": null,
       "text_color": null
      }
     },
     "9e2e0a20f698440ebfdd67826eced594": {
      "model_module": "@jupyter-widgets/controls",
      "model_module_version": "2.0.0",
      "model_name": "ButtonModel",
      "state": {
       "button_style": "primary",
       "description": "Clear",
       "layout": "IPY_MODEL_1d24b80d7cd64bfd94db5bb8bd34facd",
       "style": "IPY_MODEL_2adeaea959ba4c1890de76b023a00668",
       "tooltip": null
      }
     },
     "a502f9a203204381b5d9731774854720": {
      "model_module": "@jupyter-widgets/base",
      "model_module_version": "2.0.0",
      "model_name": "LayoutModel",
      "state": {}
     },
     "ad81ef24397d4a96ad4e4486197d24a0": {
      "model_module": "@jupyter-widgets/controls",
      "model_module_version": "2.0.0",
      "model_name": "HTMLModel",
      "state": {
       "layout": "IPY_MODEL_aef178d50a154655be83b2f215e6fe91",
       "style": "IPY_MODEL_ed2ba60e5b0647168c5dd52a823a811f",
       "value": "<p style='font-family: IBM Plex Sans, Arial, Helvetica, sans-serif; font-size: 20px; font-weight: medium;'>Circuit Properties</p>"
      }
     },
     "aef178d50a154655be83b2f215e6fe91": {
      "model_module": "@jupyter-widgets/base",
      "model_module_version": "2.0.0",
      "model_name": "LayoutModel",
      "state": {
       "margin": "0px 0px 10px 0px"
      }
     },
     "b50613e491a9437ca6d690dc58bf873e": {
      "model_module": "@jupyter-widgets/controls",
      "model_module_version": "2.0.0",
      "model_name": "HTMLStyleModel",
      "state": {
       "description_width": "",
       "font_size": null,
       "text_color": null
      }
     },
     "b585c03b78f94d71831317511dc5582f": {
      "model_module": "@jupyter-widgets/controls",
      "model_module_version": "2.0.0",
      "model_name": "HTMLModel",
      "state": {
       "layout": "IPY_MODEL_e86f68e0ca1c4e79ab1b7c725dd92b7c",
       "style": "IPY_MODEL_96e5642e71154d879d4f1695f86386e6",
       "value": "<h5>Status</h5>"
      }
     },
     "c6baf265d8524771a37965363054744a": {
      "model_module": "@jupyter-widgets/base",
      "model_module_version": "2.0.0",
      "model_name": "LayoutModel",
      "state": {
       "width": "70px"
      }
     },
     "cec34f01fad84bcbba884898a49fe87a": {
      "model_module": "@jupyter-widgets/controls",
      "model_module_version": "2.0.0",
      "model_name": "HTMLModel",
      "state": {
       "layout": "IPY_MODEL_c6baf265d8524771a37965363054744a",
       "style": "IPY_MODEL_b50613e491a9437ca6d690dc58bf873e",
       "value": "<h5>Queue</h5>"
      }
     },
     "cf393927ce58400cb1c6c887b395387c": {
      "model_module": "@jupyter-widgets/controls",
      "model_module_version": "2.0.0",
      "model_name": "HTMLModel",
      "state": {
       "layout": "IPY_MODEL_a502f9a203204381b5d9731774854720",
       "style": "IPY_MODEL_63e1de44760846d1ae0dc68a6256b0ff",
       "value": "<h5>Message</h5>"
      }
     },
     "d87ddafa248643fc80e6dae7f56967f5": {
      "model_module": "@jupyter-widgets/controls",
      "model_module_version": "2.0.0",
      "model_name": "HTMLStyleModel",
      "state": {
       "description_width": "",
       "font_size": null,
       "text_color": null
      }
     },
     "dc3d408e988a4650a8ffe5625aa53e45": {
      "model_module": "@jupyter-widgets/controls",
      "model_module_version": "2.0.0",
      "model_name": "HBoxModel",
      "state": {
       "children": [
        "IPY_MODEL_46b41c27c9644b1aac981e950ec44857",
        "IPY_MODEL_338655078ff4490594b980bb23c264f0",
        "IPY_MODEL_b585c03b78f94d71831317511dc5582f",
        "IPY_MODEL_cec34f01fad84bcbba884898a49fe87a",
        "IPY_MODEL_cf393927ce58400cb1c6c887b395387c"
       ],
       "layout": "IPY_MODEL_8fcea9cb5b40471db3a1fbb99403db2d"
      }
     },
     "e86f68e0ca1c4e79ab1b7c725dd92b7c": {
      "model_module": "@jupyter-widgets/base",
      "model_module_version": "2.0.0",
      "model_name": "LayoutModel",
      "state": {
       "width": "95px"
      }
     },
     "ea80791c5c2c4b12b2e202113607d8d6": {
      "model_module": "@jupyter-widgets/base",
      "model_module_version": "2.0.0",
      "model_name": "LayoutModel",
      "state": {
       "width": "145px"
      }
     },
     "ed2ba60e5b0647168c5dd52a823a811f": {
      "model_module": "@jupyter-widgets/controls",
      "model_module_version": "2.0.0",
      "model_name": "HTMLStyleModel",
      "state": {
       "description_width": "",
       "font_size": null,
       "text_color": null
      }
     },
     "f6ab7e57befa4321b0dc02c311a988ae": {
      "model_module": "@jupyter-widgets/controls",
      "model_module_version": "2.0.0",
      "model_name": "GridBoxModel",
      "state": {
       "children": [
        "IPY_MODEL_9e2e0a20f698440ebfdd67826eced594"
       ],
       "layout": "IPY_MODEL_7eb04899b65d479a8a1fb167fbeeab60"
      }
     }
    },
    "version_major": 2,
    "version_minor": 0
   }
  }
 },
 "nbformat": 4,
 "nbformat_minor": 5
}
