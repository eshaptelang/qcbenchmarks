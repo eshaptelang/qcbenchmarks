{
 "cells": [
  {
   "cell_type": "code",
   "execution_count": 6,
   "id": "9a23a082-bec0-4ffb-bcce-429d384d37fd",
   "metadata": {
    "tags": []
   },
   "outputs": [],
   "source": [
    "# Importing standard Qiskit libraries\n",
    "from qiskit import QuantumCircuit, transpile\n",
    "from qiskit.tools.jupyter import *\n",
    "from qiskit.visualization import *\n",
    "from ibm_quantum_widgets import *\n",
    "\n",
    "# qiskit-ibmq-provider has been deprecated.\n",
    "# Please see the Migration Guides in https://ibm.biz/provider_migration_guide for more detail.\n",
    "from qiskit_ibm_runtime import QiskitRuntimeService, Sampler, Estimator, Session, Options\n",
    "\n",
    "# Loading your IBM Quantum account(s)\n",
    "service = QiskitRuntimeService(channel=\"ibm_quantum\")\n",
    "\n",
    "# Invoke a primitive. For more details see https://qiskit.org/documentation/partners/qiskit_ibm_runtime/tutorials.html\n",
    "# result = Sampler(\"ibmq_qasm_simulator\").run(circuits).result()"
   ]
  },
  {
   "cell_type": "code",
   "execution_count": 7,
   "id": "898b0105-436f-496a-bc4b-d69718271042",
   "metadata": {
    "tags": []
   },
   "outputs": [
    {
     "name": "stderr",
     "output_type": "stream",
     "text": [
      "ibmqfactory.load_account:WARNING:2023-07-31 14:37:14,079: Credentials are already in use. The existing account in the session will be replaced.\n"
     ]
    }
   ],
   "source": [
    "%matplotlib inline\n",
    "# Importing standard Qiskit libraries and configuring account\n",
    "from qiskit import QuantumRegister, ClassicalRegister, execute\n",
    "from qiskit import QuantumCircuit, execute, Aer, IBMQ\n",
    "from qiskit.compiler import transpile, assemble\n",
    "from qiskit.tools.jupyter import *\n",
    "from qiskit.visualization import plot_state_city\n",
    "import matplotlib.pyplot as plt\n",
    "# Loading your IBM Q account(s)\n",
    "IBMQ.load_account()\n",
    "import numpy as np"
   ]
  },
  {
   "cell_type": "code",
   "execution_count": 8,
   "id": "2424254a-6d89-41e5-b2c1-7ba4ad02779e",
   "metadata": {
    "tags": []
   },
   "outputs": [
    {
     "name": "stderr",
     "output_type": "stream",
     "text": [
      "ibmqfactory.load_account:WARNING:2023-07-31 14:37:19,038: Credentials are already in use. The existing account in the session will be replaced.\n"
     ]
    }
   ],
   "source": [
    "# Importing standard Qiskit libraries\n",
    "from qiskit.tools.jupyter import *\n",
    "from qiskit.visualization import *\n",
    "from ibm_quantum_widgets import *\n",
    "\n",
    "# qiskit-ibmq-provider has been deprecated.\n",
    "# Please see the Migration Guides in https://ibm.biz/provider_migration_guide for more detail.\n",
    "from qiskit_ibm_runtime import QiskitRuntimeService, Sampler, Estimator, Session, Options\n",
    "\n",
    "# Loading your IBM Quantum account(s)\n",
    "service = QiskitRuntimeService(channel=\"ibm_quantum\")\n",
    "\n",
    "# Invoke a primitive. For more details see https://qiskit.org/documentation/partners/qiskit_ibm_runtime/tutorials.html\n",
    "# result = Sampler(\"ibmq_qasm_simulator\").run(circuits).result()\n",
    "\n",
    "import numpy as np\n",
    "\n",
    "# Importing standard Qiskit libraries\n",
    "from qiskit import QuantumCircuit, transpile, execute, Aer, IBMQ\n",
    "from qiskit.providers.aer import QasmSimulator\n",
    "from qiskit.providers.aer.noise import NoiseModel\n",
    "import matplotlib.pyplot as plt\n",
    "\n",
    "# Loading your IBM Quantum account(s)\n",
    "provider = IBMQ.load_account()"
   ]
  },
  {
   "cell_type": "code",
   "execution_count": 9,
   "id": "19a44505-60c9-4b79-89f2-ad9013d17f85",
   "metadata": {
    "tags": []
   },
   "outputs": [],
   "source": [
    "def real_map(value, leftMin, leftMax, rightMin, rightMax):\n",
    "    # Maps one range to another\n",
    "    # Figure out how 'wide' each range is\n",
    "    leftSpan = leftMax - leftMin\n",
    "    rightSpan = rightMax - rightMin\n",
    "\n",
    "    # Convert the left range into a 0-1 range (float)\n",
    "    valueScaled = float(value - leftMin) / float(leftSpan)\n",
    "\n",
    "    # Convert the 0-1 range into a value in the right range.\n",
    "    return rightMin + (valueScaled * rightSpan)"
   ]
  },
  {
   "cell_type": "code",
   "execution_count": 10,
   "id": "12269dfb-9b9c-44d6-b177-daf7183d780e",
   "metadata": {
    "tags": []
   },
   "outputs": [],
   "source": [
    "def QRandom(a, b, qubits=2):\n",
    "    # Quantum Random Number generator\n",
    "    q = QuantumRegister(qubits, 'q')\n",
    "    circ = QuantumCircuit(q)\n",
    "    c0 = ClassicalRegister(2, 'c0')\n",
    "    circ.add_register(c0)\n",
    "\n",
    "    for i in range(qubits):\n",
    "        circ.h(q[i])\n",
    "\n",
    "\n",
    "    for i in range(qubits):\n",
    "        circ.measure(q[i], c0)\n",
    "\n",
    "    #circ.draw(output='mpl')\n",
    "\n",
    "\n",
    "    from qiskit.providers.ibmq import least_busy\n",
    "    backend = least_busy(provider.backends(filters=lambda x: x.configuration().n_qubits >= 2 and\n",
    "    not x.configuration().simulator and x.status().operational==True)) # Find the least busy QC\n",
    "    \n",
    "    job = execute(circ, backend)\n",
    "    #print(job.status())\n",
    "    result = job.result()\n",
    "    output = result.get_statevector(circ, decimals=5)\n",
    "\n",
    "    n1 = 0\n",
    "    n2 = 0\n",
    "    n3 = 0\n",
    "    for i in range( output.size ):\n",
    "        if abs(output[i]) != 0:\n",
    "            #print(i, output[i])\n",
    "            n1 = i\n",
    "            n2 = np.real(output[i])\n",
    "            n3 = np.imag(output[i])\n",
    "    \n",
    "    y = real_map(n1+n2+n3, -qubits, len(output)-1+qubits, a, b) \n",
    "    plot_state_city(output)\n",
    "    return y"
   ]
  },
  {
   "cell_type": "code",
   "execution_count": null,
   "id": "b970ef65-eab0-406b-96be-f206b07ae95e",
   "metadata": {
    "tags": []
   },
   "outputs": [],
   "source": [
    "x = []\n",
    "for i in range(40):\n",
    "    x.append( QRandom(0, 100,3) )\n",
    "\n",
    "plt.plot(x)"
   ]
  }
 ],
 "metadata": {
  "kernelspec": {
   "display_name": "Python 3 (ipykernel)",
   "language": "python",
   "name": "python3"
  },
  "language_info": {
   "codemirror_mode": {
    "name": "ipython",
    "version": 3
   },
   "file_extension": ".py",
   "mimetype": "text/x-python",
   "name": "python",
   "nbconvert_exporter": "python",
   "pygments_lexer": "ipython3",
   "version": "3.10.8"
  },
  "widgets": {
   "application/vnd.jupyter.widget-state+json": {
    "state": {
     "0cdfd368ccc245e8a0a2cdc669f0876b": {
      "model_module": "@jupyter-widgets/base",
      "model_module_version": "2.0.0",
      "model_name": "LayoutModel",
      "state": {
       "margin": "0px 0px 0px 37px",
       "width": "600px"
      }
     },
     "38e5d30e196b46aab976f2100dbfbef8": {
      "model_module": "@jupyter-widgets/controls",
      "model_module_version": "2.0.0",
      "model_name": "HTMLStyleModel",
      "state": {
       "description_width": "",
       "font_size": null,
       "text_color": null
      }
     },
     "44ddffe813314debb840862bb199c4ed": {
      "model_module": "@jupyter-widgets/controls",
      "model_module_version": "2.0.0",
      "model_name": "HBoxModel",
      "state": {
       "children": [
        "IPY_MODEL_fff38888136243929559a37cba205bef",
        "IPY_MODEL_51c3b5855d4041c7ace61df84fd18d68",
        "IPY_MODEL_f50753c95eab4b37b592b5734142a8c0",
        "IPY_MODEL_5cba1a4cfe674e26ac32bfa255f49adc",
        "IPY_MODEL_d610b6eeb4814673a38e1df42acc1d62"
       ],
       "layout": "IPY_MODEL_0cdfd368ccc245e8a0a2cdc669f0876b"
      }
     },
     "518d32c42f244cd6be08b091b8712c4f": {
      "model_module": "@jupyter-widgets/controls",
      "model_module_version": "2.0.0",
      "model_name": "GridBoxModel",
      "state": {
       "children": [
        "IPY_MODEL_918942292f514190b2fc40d5ae00ef98"
       ],
       "layout": "IPY_MODEL_b973c075478646c3ab922d34df5ae730"
      }
     },
     "51c3b5855d4041c7ace61df84fd18d68": {
      "model_module": "@jupyter-widgets/controls",
      "model_module_version": "2.0.0",
      "model_name": "HTMLModel",
      "state": {
       "layout": "IPY_MODEL_afd642f6d4eb4710a8e957dddb5d9f61",
       "style": "IPY_MODEL_a60783de5f1f49158274e3468211bcaf",
       "value": "<h5>Backend</h5>"
      }
     },
     "5929e28fe2074e7d82b8c5d974cf8776": {
      "model_module": "@jupyter-widgets/base",
      "model_module_version": "2.0.0",
      "model_name": "LayoutModel",
      "state": {
       "width": "190px"
      }
     },
     "5cba1a4cfe674e26ac32bfa255f49adc": {
      "model_module": "@jupyter-widgets/controls",
      "model_module_version": "2.0.0",
      "model_name": "HTMLModel",
      "state": {
       "layout": "IPY_MODEL_87aa73b6f4a64cbfbcd9d7565dc78482",
       "style": "IPY_MODEL_5cef8224c2a04a268cc38fcd82b9f087",
       "value": "<h5>Queue</h5>"
      }
     },
     "5cef8224c2a04a268cc38fcd82b9f087": {
      "model_module": "@jupyter-widgets/controls",
      "model_module_version": "2.0.0",
      "model_name": "HTMLStyleModel",
      "state": {
       "description_width": "",
       "font_size": null,
       "text_color": null
      }
     },
     "724184dcb3fa420ebcbe032b27ce88b3": {
      "model_module": "@jupyter-widgets/controls",
      "model_module_version": "2.0.0",
      "model_name": "HTMLStyleModel",
      "state": {
       "description_width": "",
       "font_size": null,
       "text_color": null
      }
     },
     "87aa73b6f4a64cbfbcd9d7565dc78482": {
      "model_module": "@jupyter-widgets/base",
      "model_module_version": "2.0.0",
      "model_name": "LayoutModel",
      "state": {
       "width": "70px"
      }
     },
     "8aee2eb805d0460c9d28e72e8e4ba681": {
      "model_module": "@jupyter-widgets/controls",
      "model_module_version": "2.0.0",
      "model_name": "HTMLStyleModel",
      "state": {
       "description_width": "",
       "font_size": null,
       "text_color": null
      }
     },
     "918942292f514190b2fc40d5ae00ef98": {
      "model_module": "@jupyter-widgets/controls",
      "model_module_version": "2.0.0",
      "model_name": "ButtonModel",
      "state": {
       "button_style": "primary",
       "description": "Clear",
       "layout": "IPY_MODEL_a5622dea636447dc9d3ed5a1bebe4805",
       "style": "IPY_MODEL_fb1f253091d1459b9c21a9c25c8a990b",
       "tooltip": null
      }
     },
     "9f42999e36d5446784c4bbe1944c470a": {
      "model_module": "@jupyter-widgets/controls",
      "model_module_version": "2.0.0",
      "model_name": "HTMLStyleModel",
      "state": {
       "description_width": "",
       "font_size": null,
       "text_color": null
      }
     },
     "a5622dea636447dc9d3ed5a1bebe4805": {
      "model_module": "@jupyter-widgets/base",
      "model_module_version": "2.0.0",
      "model_name": "LayoutModel",
      "state": {
       "grid_area": "right",
       "padding": "0px 0px 0px 0px",
       "width": "70px"
      }
     },
     "a60783de5f1f49158274e3468211bcaf": {
      "model_module": "@jupyter-widgets/controls",
      "model_module_version": "2.0.0",
      "model_name": "HTMLStyleModel",
      "state": {
       "description_width": "",
       "font_size": null,
       "text_color": null
      }
     },
     "a84932c0a010457a94b5da85ce2a8938": {
      "model_module": "@jupyter-widgets/base",
      "model_module_version": "2.0.0",
      "model_name": "LayoutModel",
      "state": {
       "margin": "0px 0px 10px 0px"
      }
     },
     "afd642f6d4eb4710a8e957dddb5d9f61": {
      "model_module": "@jupyter-widgets/base",
      "model_module_version": "2.0.0",
      "model_name": "LayoutModel",
      "state": {
       "width": "145px"
      }
     },
     "b973c075478646c3ab922d34df5ae730": {
      "model_module": "@jupyter-widgets/base",
      "model_module_version": "2.0.0",
      "model_name": "LayoutModel",
      "state": {
       "grid_template_areas": "\n                                       \". . . . right \"\n                                        ",
       "grid_template_columns": "20% 20% 20% 20% 20%",
       "width": "100%"
      }
     },
     "bb6285cca1d34d1e86e089ea6dec0146": {
      "model_module": "@jupyter-widgets/controls",
      "model_module_version": "2.0.0",
      "model_name": "HTMLModel",
      "state": {
       "layout": "IPY_MODEL_a84932c0a010457a94b5da85ce2a8938",
       "style": "IPY_MODEL_8aee2eb805d0460c9d28e72e8e4ba681",
       "value": "<p style='font-family: IBM Plex Sans, Arial, Helvetica, sans-serif; font-size: 20px; font-weight: medium;'>Circuit Properties</p>"
      }
     },
     "d610b6eeb4814673a38e1df42acc1d62": {
      "model_module": "@jupyter-widgets/controls",
      "model_module_version": "2.0.0",
      "model_name": "HTMLModel",
      "state": {
       "layout": "IPY_MODEL_dd8ec1234fe84bd28eb13549f2b4d059",
       "style": "IPY_MODEL_9f42999e36d5446784c4bbe1944c470a",
       "value": "<h5>Message</h5>"
      }
     },
     "dbf4d398f7294446b79e4809aac94bfb": {
      "model_module": "@jupyter-widgets/base",
      "model_module_version": "2.0.0",
      "model_name": "LayoutModel",
      "state": {
       "width": "95px"
      }
     },
     "dd8ec1234fe84bd28eb13549f2b4d059": {
      "model_module": "@jupyter-widgets/base",
      "model_module_version": "2.0.0",
      "model_name": "LayoutModel",
      "state": {}
     },
     "f50753c95eab4b37b592b5734142a8c0": {
      "model_module": "@jupyter-widgets/controls",
      "model_module_version": "2.0.0",
      "model_name": "HTMLModel",
      "state": {
       "layout": "IPY_MODEL_dbf4d398f7294446b79e4809aac94bfb",
       "style": "IPY_MODEL_724184dcb3fa420ebcbe032b27ce88b3",
       "value": "<h5>Status</h5>"
      }
     },
     "fb1f253091d1459b9c21a9c25c8a990b": {
      "model_module": "@jupyter-widgets/controls",
      "model_module_version": "2.0.0",
      "model_name": "ButtonStyleModel",
      "state": {
       "font_family": null,
       "font_size": null,
       "font_style": null,
       "font_variant": null,
       "font_weight": null,
       "text_color": null,
       "text_decoration": null
      }
     },
     "fff38888136243929559a37cba205bef": {
      "model_module": "@jupyter-widgets/controls",
      "model_module_version": "2.0.0",
      "model_name": "HTMLModel",
      "state": {
       "layout": "IPY_MODEL_5929e28fe2074e7d82b8c5d974cf8776",
       "style": "IPY_MODEL_38e5d30e196b46aab976f2100dbfbef8",
       "value": "<h5>Job ID</h5>"
      }
     }
    },
    "version_major": 2,
    "version_minor": 0
   }
  }
 },
 "nbformat": 4,
 "nbformat_minor": 5
}
