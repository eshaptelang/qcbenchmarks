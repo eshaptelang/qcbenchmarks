{
 "cells": [
  {
   "cell_type": "code",
   "execution_count": 34,
   "id": "f9af2332-2257-4a8f-8897-bb7fc683869a",
   "metadata": {
    "tags": []
   },
   "outputs": [],
   "source": [
    "# Importing standard Qiskit libraries\n",
    "from qiskit import QuantumCircuit, transpile\n",
    "from qiskit.tools.jupyter import *\n",
    "from qiskit.visualization import *\n",
    "from ibm_quantum_widgets import *\n",
    "\n",
    "# qiskit-ibmq-provider has been deprecated.\n",
    "# Please see the Migration Guides in https://ibm.biz/provider_migration_guide for more detail.\n",
    "from qiskit_ibm_runtime import QiskitRuntimeService, Sampler, Estimator, Session, Options\n",
    "\n",
    "# Loading your IBM Quantum account(s)\n",
    "service = QiskitRuntimeService(channel=\"ibm_quantum\")\n",
    "\n",
    "# Invoke a primitive. For more details see https://qiskit.org/documentation/partners/qiskit_ibm_runtime/tutorials.html\n",
    "# result = Sampler(\"ibmq_qasm_simulator\").run(circuits).result()\n",
    "\n",
    "import math\n",
    "import os\n",
    "\n",
    "from qiskit import QuantumCircuit, QuantumRegister, ClassicalRegister\n",
    "from qiskit.providers.fake_provider import FakeManilaV2, FakeBelemV2\n",
    "from qiskit import transpile\n",
    "from qiskit.tools.visualization import plot_histogram\n",
    "import time\n",
    "from multiprocessing import Pool\n",
    "pi = math.pi"
   ]
  },
  {
   "cell_type": "code",
   "execution_count": 35,
   "id": "131e2107-846e-4435-86ec-9e769003cfdf",
   "metadata": {
    "tags": []
   },
   "outputs": [],
   "source": [
    "# useful additional packages \n",
    "import matplotlib.pyplot as plt\n",
    "%matplotlib inline\n",
    "import numpy as np\n",
    "from collections import Counter #Use this to convert results from list to dict for histogram\n",
    "\n",
    "# importing QISKit\n",
    "from qiskit import QuantumCircuit, QuantumRegister, ClassicalRegister\n",
    "from qiskit import execute, Aer, IBMQ\n",
    "from qiskit.providers.ibmq import least_busy\n",
    "from qiskit.tools.visualization import plot_histogram"
   ]
  },
  {
   "cell_type": "code",
   "execution_count": 36,
   "id": "8ddabdea-8256-40f4-b8f7-c88cb3a2b6c4",
   "metadata": {
    "tags": []
   },
   "outputs": [
    {
     "name": "stderr",
     "output_type": "stream",
     "text": [
      "ibmqfactory.load_account:WARNING:2023-08-01 18:29:09,794: Credentials are already in use. The existing account in the session will be replaced.\n"
     ]
    }
   ],
   "source": [
    "from qiskit.tools.jupyter import *\n",
    "from qiskit.visualization import *\n",
    "from ibm_quantum_widgets import *\n",
    "\n",
    "# qiskit-ibmq-provider has been deprecated.\n",
    "# Please see the Migration Guides in https://ibm.biz/provider_migration_guide for more detail.\n",
    "from qiskit_ibm_runtime import QiskitRuntimeService, Sampler, Estimator, Session, Options\n",
    "\n",
    "# Loading your IBM Quantum account(s)\n",
    "service = QiskitRuntimeService(channel=\"ibm_quantum\")\n",
    "\n",
    "# Invoke a primitive. For more details see https://qiskit.org/documentation/partners/qiskit_ibm_runtime/tutorials.html\n",
    "# result = Sampler(\"ibmq_qasm_simulator\").run(circuits).result()\n",
    "\n",
    "import numpy as np\n",
    "\n",
    "# Importing standard Qiskit libraries\n",
    "from qiskit import QuantumCircuit, transpile, execute, Aer, IBMQ\n",
    "from qiskit.providers.aer import QasmSimulator\n",
    "from qiskit.providers.aer.noise import NoiseModel\n",
    "import matplotlib.pyplot as plt\n",
    "\n",
    "# Loading your IBM Quantum account(s)\n",
    "provider = IBMQ.load_account()"
   ]
  },
  {
   "cell_type": "code",
   "execution_count": 37,
   "id": "eed5545d-87c2-4769-9ae7-ac523a79d189",
   "metadata": {
    "tags": []
   },
   "outputs": [],
   "source": [
    "# Use local qasm simulator\n",
    "from qiskit.providers.ibmq import least_busy\n",
    "backend = least_busy(provider.backends(filters=lambda x: x.configuration().n_qubits >= 2 and\n",
    "not x.configuration().simulator and x.status().operational==True)) # Find the least busy QC\n",
    "\n",
    "\n",
    "# Use the IBMQ Quantum Experience\n",
    "# backend = least_busy(IBMQ.backends())\n",
    "\n",
    "N = 50 # Number of bombs\n",
    "steps = 20 # Number of steps for the algorithm, limited by maximum circuit depth\n",
    "eps = np.pi / steps # Algorithm parameter, small\n",
    "\n",
    "# Prototype circuit for bomb generation\n",
    "q_gen = QuantumRegister(1, name='q_gen')\n",
    "c_gen = ClassicalRegister(1, name='c_gen')\n",
    "IFM_gen = QuantumCircuit(q_gen, c_gen, name='IFM_gen')\n",
    "\n",
    "# Prototype circuit for bomb measurement\n",
    "q = QuantumRegister(2, name='q')\n",
    "c = ClassicalRegister(steps+1, name='c')\n",
    "IFM_meas = QuantumCircuit(q, c, name='IFM_meas')"
   ]
  },
  {
   "cell_type": "code",
   "execution_count": 38,
   "id": "5c13f76c-56d2-4d6b-b43d-c29ee6a8ac5c",
   "metadata": {
    "tags": []
   },
   "outputs": [],
   "source": [
    "# Quantum circuits to generate bombs\n",
    "qc = []\n",
    "circuits = [\"IFM_gen\"+str(i) for i in range(N)]\n",
    "# NB: Can't have more than one measurement per circuit\n",
    "for circuit in circuits:\n",
    "    IFM = QuantumCircuit(q_gen, c_gen, name=circuit)\n",
    "    IFM.h(q_gen[0]) #Turn the qubit into |0> + |1>\n",
    "    IFM.measure(q_gen[0], c_gen[0])\n",
    "    qc.append(IFM)\n",
    "_ = [i.qasm() for i in qc] # Suppress the output"
   ]
  },
  {
   "cell_type": "code",
   "execution_count": null,
   "id": "086c65d0-172a-4af0-a2b9-5213bccd4b7c",
   "metadata": {
    "tags": []
   },
   "outputs": [],
   "source": [
    "\n",
    "\n",
    "\n",
    "result = execute(qc, backend=backend, shots=1).result() # Note that we only want one shot\n",
    "bombs = []\n",
    "for circuit in qc:\n",
    "    for key in result.get_counts(circuit): # Hack, there should only be one key, since there was only one shot\n",
    "        bombs.append(int(key))\n",
    "#print(', '.join(('Live' if bomb else 'Dud' for bomb in bombs))) # Uncomment to print out \"truth\" of bombs\n",
    "plot_histogram(Counter(('Live' if bomb else 'Dud' for bomb in bombs))) #Plotting bomb generation results"
   ]
  },
  {
   "cell_type": "code",
   "execution_count": 32,
   "id": "72066e1f-c322-4e8e-a12a-b1f7c87e224b",
   "metadata": {
    "tags": []
   },
   "outputs": [],
   "source": [
    "# Use local qasm simulator\n",
    "backend = FakeManilaV2()\n",
    "qc = []\n",
    "circuits = [\"IFM_meas\"+str(i) for i in range(N)]\n",
    "#Creating one measurement circuit for each bomb\n",
    "for i in range(N):\n",
    "    bomb = bombs[i]\n",
    "    IFM = QuantumCircuit(q, c, name=circuits[i])\n",
    "    for step in range(steps):\n",
    "        IFM.ry(eps, q[0]) #First we rotate the control qubit by epsilon\n",
    "        if bomb: #If the bomb is live, the gate is a controlled X gate\n",
    "            IFM.cx(q[0],q[1])\n",
    "        #If the bomb is a dud, the gate is a controlled identity gate, which does nothing\n",
    "        IFM.measure(q[1], c[step]) #Now we measure to collapse the combined state\n",
    "    IFM.measure(q[0], c[steps])\n",
    "    qc.append(IFM)\n",
    "_ = [i.qasm() for i in qc] # Suppress the output\n",
    "result = execute(qc, backend=backend, shots=1, max_credits=5).result()\n"
   ]
  },
  {
   "cell_type": "code",
   "execution_count": 33,
   "id": "8fd845ca-c7cc-42e7-b0e3-7b5f49b664de",
   "metadata": {
    "tags": []
   },
   "outputs": [
    {
     "data": {
      "image/png": "[encoded data removed]",
      "text/plain": [
       "<Figure size 700x500 with 1 Axes>"
      ]
     },
     "execution_count": 33,
     "metadata": {},
     "output_type": "execute_result"
    }
   ],
   "source": [
    "def get_status(counts):\n",
    "    # Return whether a bomb was a dud, was live but detonated, or was live and undetonated\n",
    "    # Note that registers are returned in reversed order\n",
    "    for key in counts:\n",
    "        if '1' in key[1:]:\n",
    "             #If we ever measure a '1' from the measurement qubit (q1), the bomb was measured and will detonate\n",
    "            return '!!BOOM!!'\n",
    "        elif key[0] == '1':\n",
    "            #If the control qubit (q0) was rotated to '1', the state never entangled because the bomb was a dud\n",
    "            return 'Dud'\n",
    "        else:\n",
    "            #If we only measured '0' for both the control and measurement qubit, the bomb was live but never set off\n",
    "            return 'Live'\n",
    "\n",
    "results = {'Live': 0, 'Dud': 0, \"!!BOOM!!\": 0}\n",
    "for circuit in qc:\n",
    "    status = get_status(result.get_counts(circuit))\n",
    "    results[status] += 1\n",
    "plot_histogram(results)"
   ]
  }
 ],
 "metadata": {
  "kernelspec": {
   "display_name": "Python 3 (ipykernel)",
   "language": "python",
   "name": "python3"
  },
  "language_info": {
   "codemirror_mode": {
    "name": "ipython",
    "version": 3
   },
   "file_extension": ".py",
   "mimetype": "text/x-python",
   "name": "python",
   "nbconvert_exporter": "python",
   "pygments_lexer": "ipython3",
   "version": "3.10.8"
  },
  "widgets": {
   "application/vnd.jupyter.widget-state+json": {
    "state": {
     "02d0997d6d1d4b32a8a0bc8d0e76f837": {
      "model_module": "@jupyter-widgets/controls",
      "model_module_version": "2.0.0",
      "model_name": "HTMLStyleModel",
      "state": {
       "description_width": "",
       "font_size": null,
       "text_color": null
      }
     },
     "0ba278bb2706426c8c6991a80d29e574": {
      "model_module": "@jupyter-widgets/controls",
      "model_module_version": "2.0.0",
      "model_name": "HTMLStyleModel",
      "state": {
       "description_width": "",
       "font_size": null,
       "text_color": null
      }
     },
     "0c0d7f34be394d3f85f493c94450d252": {
      "model_module": "@jupyter-widgets/controls",
      "model_module_version": "2.0.0",
      "model_name": "HTMLStyleModel",
      "state": {
       "description_width": "",
       "font_size": null,
       "text_color": null
      }
     },
     "1dd991c401324006aea26997700778c8": {
      "model_module": "@jupyter-widgets/controls",
      "model_module_version": "2.0.0",
      "model_name": "HTMLStyleModel",
      "state": {
       "description_width": "",
       "font_size": null,
       "text_color": null
      }
     },
     "1e24cf46216a4fa79db136cbda58d8bf": {
      "model_module": "@jupyter-widgets/controls",
      "model_module_version": "2.0.0",
      "model_name": "HTMLModel",
      "state": {
       "layout": "IPY_MODEL_63d6710d9fce48848df6b4645a164f36",
       "style": "IPY_MODEL_02d0997d6d1d4b32a8a0bc8d0e76f837",
       "value": "ibmq_belem"
      }
     },
     "2406d62ea53746ac9be87192272a542b": {
      "model_module": "@jupyter-widgets/controls",
      "model_module_version": "2.0.0",
      "model_name": "HTMLStyleModel",
      "state": {
       "description_width": "",
       "font_size": null,
       "text_color": null
      }
     },
     "2e1c2de29d394d66a286d0d2c3c09473": {
      "model_module": "@jupyter-widgets/controls",
      "model_module_version": "2.0.0",
      "model_name": "HTMLStyleModel",
      "state": {
       "description_width": "",
       "font_size": null,
       "text_color": null
      }
     },
     "2fefb45bcb7c4f7ba0cd2ba3d2e18ca8": {
      "model_module": "@jupyter-widgets/controls",
      "model_module_version": "2.0.0",
      "model_name": "HTMLStyleModel",
      "state": {
       "description_width": "",
       "font_size": null,
       "text_color": null
      }
     },
     "30e71b6775354f2bb34b29ff76e352c6": {
      "model_module": "@jupyter-widgets/controls",
      "model_module_version": "2.0.0",
      "model_name": "HTMLStyleModel",
      "state": {
       "description_width": "",
       "font_size": null,
       "text_color": null
      }
     },
     "34f9eb0bbfb84dd69e6849bf7c9680e6": {
      "model_module": "@jupyter-widgets/controls",
      "model_module_version": "2.0.0",
      "model_name": "HTMLStyleModel",
      "state": {
       "description_width": "",
       "font_size": null,
       "text_color": null
      }
     },
     "350d7ca44a144a739e64946418a96d13": {
      "model_module": "@jupyter-widgets/controls",
      "model_module_version": "2.0.0",
      "model_name": "HBoxModel",
      "state": {
       "children": [
        "IPY_MODEL_9c82e68d88e14d2e8eebb54e4825a63e",
        "IPY_MODEL_cb4e75269c174c78a3b6d1714f93b232",
        "IPY_MODEL_84c55c69ecf84bdea4ed5313f2e939c5",
        "IPY_MODEL_977c9745381e437abbaa4aef35130d3a",
        "IPY_MODEL_4b96e6f795214efcbdd24f05c67604fd"
       ],
       "layout": "IPY_MODEL_b9c5e7a73ea142f699791039d06dc640"
      }
     },
     "378639e74aed469d9876949fa043fbdd": {
      "model_module": "@jupyter-widgets/controls",
      "model_module_version": "2.0.0",
      "model_name": "ButtonStyleModel",
      "state": {
       "font_family": null,
       "font_size": null,
       "font_style": null,
       "font_variant": null,
       "font_weight": null,
       "text_color": null,
       "text_decoration": null
      }
     },
     "39ac733357c846119570d5670acece9d": {
      "model_module": "@jupyter-widgets/base",
      "model_module_version": "2.0.0",
      "model_name": "LayoutModel",
      "state": {
       "width": "190px"
      }
     },
     "3be1249ec8924cd8bf7e25585e56a9e4": {
      "model_module": "@jupyter-widgets/base",
      "model_module_version": "2.0.0",
      "model_name": "LayoutModel",
      "state": {
       "width": "145px"
      }
     },
     "3d5f2ca3628143e5a054c4d578745fbb": {
      "model_module": "@jupyter-widgets/controls",
      "model_module_version": "2.0.0",
      "model_name": "HTMLModel",
      "state": {
       "layout": "IPY_MODEL_efac718d8eb24f7298e7f1461bb0d40f",
       "style": "IPY_MODEL_34f9eb0bbfb84dd69e6849bf7c9680e6",
       "value": "QUEUED"
      }
     },
     "450772d811604bd1a52d9e80d8852f6d": {
      "model_module": "@jupyter-widgets/base",
      "model_module_version": "2.0.0",
      "model_name": "LayoutModel",
      "state": {
       "margin": "0px 5px 0px 0px",
       "width": "32px"
      }
     },
     "4a3271b01a61418fb0b4e03436f53045": {
      "model_module": "@jupyter-widgets/base",
      "model_module_version": "2.0.0",
      "model_name": "LayoutModel",
      "state": {
       "width": "190px"
      }
     },
     "4b96e6f795214efcbdd24f05c67604fd": {
      "model_module": "@jupyter-widgets/controls",
      "model_module_version": "2.0.0",
      "model_name": "HTMLModel",
      "state": {
       "layout": "IPY_MODEL_674091b957344afb873e22cd4b83d292",
       "style": "IPY_MODEL_30e71b6775354f2bb34b29ff76e352c6",
       "value": "<h5>Message</h5>"
      }
     },
     "5e780ec474d4441ab9c4e569bf2d5b74": {
      "model_module": "@jupyter-widgets/controls",
      "model_module_version": "2.0.0",
      "model_name": "HTMLModel",
      "state": {
       "layout": "IPY_MODEL_a3573633d84a48e9ba0be3f771a26ff9",
       "style": "IPY_MODEL_9772c42abb974108b93663e064787aaf",
       "value": "-"
      }
     },
     "63d6710d9fce48848df6b4645a164f36": {
      "model_module": "@jupyter-widgets/base",
      "model_module_version": "2.0.0",
      "model_name": "LayoutModel",
      "state": {
       "width": "145px"
      }
     },
     "674091b957344afb873e22cd4b83d292": {
      "model_module": "@jupyter-widgets/base",
      "model_module_version": "2.0.0",
      "model_name": "LayoutModel",
      "state": {}
     },
     "6a021ef246684308ae23cc8b5bf0f73d": {
      "model_module": "@jupyter-widgets/base",
      "model_module_version": "2.0.0",
      "model_name": "LayoutModel",
      "state": {
       "grid_template_areas": "\n                                       \". . . . right \"\n                                        ",
       "grid_template_columns": "20% 20% 20% 20% 20%",
       "width": "100%"
      }
     },
     "722530aaa0c94e20964d144e839b317b": {
      "model_module": "@jupyter-widgets/controls",
      "model_module_version": "2.0.0",
      "model_name": "HBoxModel",
      "state": {
       "children": [
        "IPY_MODEL_ece200d0f4964c509ac43350764a822a",
        "IPY_MODEL_89ff7069c2cf45479c94866ef9c39fec",
        "IPY_MODEL_1e24cf46216a4fa79db136cbda58d8bf",
        "IPY_MODEL_3d5f2ca3628143e5a054c4d578745fbb",
        "IPY_MODEL_5e780ec474d4441ab9c4e569bf2d5b74",
        "IPY_MODEL_a0eabe71018c49cca63fa835acb3923a"
       ],
       "layout": "IPY_MODEL_8ec76fa8ead4476196b94efff33fc02c"
      }
     },
     "7caeb12253d1488fa33a1e99ad674583": {
      "model_module": "@jupyter-widgets/controls",
      "model_module_version": "2.0.0",
      "model_name": "ButtonModel",
      "state": {
       "button_style": "primary",
       "description": "Clear",
       "layout": "IPY_MODEL_f4773a3f4a2048278a975578965a22ce",
       "style": "IPY_MODEL_378639e74aed469d9876949fa043fbdd",
       "tooltip": null
      }
     },
     "7e3dc276be6941ddadf589871f7ed457": {
      "model_module": "@jupyter-widgets/base",
      "model_module_version": "2.0.0",
      "model_name": "LayoutModel",
      "state": {}
     },
     "84c55c69ecf84bdea4ed5313f2e939c5": {
      "model_module": "@jupyter-widgets/controls",
      "model_module_version": "2.0.0",
      "model_name": "HTMLModel",
      "state": {
       "layout": "IPY_MODEL_d3f58c26c67243d2a767c44a6544d112",
       "style": "IPY_MODEL_0ba278bb2706426c8c6991a80d29e574",
       "value": "<h5>Status</h5>"
      }
     },
     "89ff7069c2cf45479c94866ef9c39fec": {
      "model_module": "@jupyter-widgets/controls",
      "model_module_version": "2.0.0",
      "model_name": "HTMLModel",
      "state": {
       "layout": "IPY_MODEL_39ac733357c846119570d5670acece9d",
       "style": "IPY_MODEL_1dd991c401324006aea26997700778c8",
       "value": "cj4ku3mnq2dtrqsggkj0"
      }
     },
     "8ec76fa8ead4476196b94efff33fc02c": {
      "model_module": "@jupyter-widgets/base",
      "model_module_version": "2.0.0",
      "model_name": "LayoutModel",
      "state": {
       "max_width": "700px",
       "min_width": "700px"
      }
     },
     "9534339a98494ec7a9a28f452ea01dc7": {
      "model_module": "@jupyter-widgets/controls",
      "model_module_version": "2.0.0",
      "model_name": "HTMLStyleModel",
      "state": {
       "description_width": "",
       "font_size": null,
       "text_color": null
      }
     },
     "9772c42abb974108b93663e064787aaf": {
      "model_module": "@jupyter-widgets/controls",
      "model_module_version": "2.0.0",
      "model_name": "HTMLStyleModel",
      "state": {
       "description_width": "",
       "font_size": null,
       "text_color": null
      }
     },
     "977c9745381e437abbaa4aef35130d3a": {
      "model_module": "@jupyter-widgets/controls",
      "model_module_version": "2.0.0",
      "model_name": "HTMLModel",
      "state": {
       "layout": "IPY_MODEL_f2817a8cdeb94e3ab477c8bbe6bcf0e8",
       "style": "IPY_MODEL_9534339a98494ec7a9a28f452ea01dc7",
       "value": "<h5>Queue</h5>"
      }
     },
     "9c82e68d88e14d2e8eebb54e4825a63e": {
      "model_module": "@jupyter-widgets/controls",
      "model_module_version": "2.0.0",
      "model_name": "HTMLModel",
      "state": {
       "layout": "IPY_MODEL_4a3271b01a61418fb0b4e03436f53045",
       "style": "IPY_MODEL_0c0d7f34be394d3f85f493c94450d252",
       "value": "<h5>Job ID</h5>"
      }
     },
     "a0eabe71018c49cca63fa835acb3923a": {
      "model_module": "@jupyter-widgets/controls",
      "model_module_version": "2.0.0",
      "model_name": "HTMLModel",
      "state": {
       "layout": "IPY_MODEL_7e3dc276be6941ddadf589871f7ed457",
       "style": "IPY_MODEL_2406d62ea53746ac9be87192272a542b",
       "value": "<p style=white-space:nowrap;>job is queued</p>"
      }
     },
     "a3573633d84a48e9ba0be3f771a26ff9": {
      "model_module": "@jupyter-widgets/base",
      "model_module_version": "2.0.0",
      "model_name": "LayoutModel",
      "state": {
       "width": "70px"
      }
     },
     "b9c5e7a73ea142f699791039d06dc640": {
      "model_module": "@jupyter-widgets/base",
      "model_module_version": "2.0.0",
      "model_name": "LayoutModel",
      "state": {
       "margin": "0px 0px 0px 37px",
       "width": "600px"
      }
     },
     "cb4e75269c174c78a3b6d1714f93b232": {
      "model_module": "@jupyter-widgets/controls",
      "model_module_version": "2.0.0",
      "model_name": "HTMLModel",
      "state": {
       "layout": "IPY_MODEL_3be1249ec8924cd8bf7e25585e56a9e4",
       "style": "IPY_MODEL_2fefb45bcb7c4f7ba0cd2ba3d2e18ca8",
       "value": "<h5>Backend</h5>"
      }
     },
     "d3f58c26c67243d2a767c44a6544d112": {
      "model_module": "@jupyter-widgets/base",
      "model_module_version": "2.0.0",
      "model_name": "LayoutModel",
      "state": {
       "width": "95px"
      }
     },
     "da4ae639c42e460db7aa48d17a7cc0f6": {
      "model_module": "@jupyter-widgets/controls",
      "model_module_version": "2.0.0",
      "model_name": "HTMLModel",
      "state": {
       "layout": "IPY_MODEL_f726867c072646d3bbac0a6a1bc0c76f",
       "style": "IPY_MODEL_2e1c2de29d394d66a286d0d2c3c09473",
       "value": "<p style='font-family: IBM Plex Sans, Arial, Helvetica, sans-serif; font-size: 20px; font-weight: medium;'>Circuit Properties</p>"
      }
     },
     "dfe90449214a4cc4aeacd91e8586a901": {
      "model_module": "@jupyter-widgets/controls",
      "model_module_version": "2.0.0",
      "model_name": "GridBoxModel",
      "state": {
       "children": [
        "IPY_MODEL_7caeb12253d1488fa33a1e99ad674583"
       ],
       "layout": "IPY_MODEL_6a021ef246684308ae23cc8b5bf0f73d"
      }
     },
     "ecdbe4cdb11c48fdb1844ca371e42eb8": {
      "model_module": "@jupyter-widgets/controls",
      "model_module_version": "2.0.0",
      "model_name": "ButtonStyleModel",
      "state": {
       "button_color": "white",
       "font_family": null,
       "font_size": null,
       "font_style": null,
       "font_variant": null,
       "font_weight": null,
       "text_color": null,
       "text_decoration": null
      }
     },
     "ece200d0f4964c509ac43350764a822a": {
      "model_module": "@jupyter-widgets/controls",
      "model_module_version": "2.0.0",
      "model_name": "ButtonModel",
      "state": {
       "icon": "close",
       "layout": "IPY_MODEL_450772d811604bd1a52d9e80d8852f6d",
       "style": "IPY_MODEL_ecdbe4cdb11c48fdb1844ca371e42eb8",
       "tooltip": null
      }
     },
     "efac718d8eb24f7298e7f1461bb0d40f": {
      "model_module": "@jupyter-widgets/base",
      "model_module_version": "2.0.0",
      "model_name": "LayoutModel",
      "state": {
       "width": "95px"
      }
     },
     "f2817a8cdeb94e3ab477c8bbe6bcf0e8": {
      "model_module": "@jupyter-widgets/base",
      "model_module_version": "2.0.0",
      "model_name": "LayoutModel",
      "state": {
       "width": "70px"
      }
     },
     "f4773a3f4a2048278a975578965a22ce": {
      "model_module": "@jupyter-widgets/base",
      "model_module_version": "2.0.0",
      "model_name": "LayoutModel",
      "state": {
       "grid_area": "right",
       "padding": "0px 0px 0px 0px",
       "width": "70px"
      }
     },
     "f726867c072646d3bbac0a6a1bc0c76f": {
      "model_module": "@jupyter-widgets/base",
      "model_module_version": "2.0.0",
      "model_name": "LayoutModel",
      "state": {
       "margin": "0px 0px 10px 0px"
      }
     }
    },
    "version_major": 2,
    "version_minor": 0
   }
  }
 },
 "nbformat": 4,
 "nbformat_minor": 5
}
