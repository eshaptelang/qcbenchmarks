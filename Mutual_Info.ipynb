{
 "cells": [
  {
   "cell_type": "code",
   "execution_count": 8,
   "id": "d3e5b5c7-6f77-4b83-8a70-102277acc620",
   "metadata": {
    "tags": []
   },
   "outputs": [],
   "source": [
    "# Importing standard Qiskit libraries\n",
    "from qiskit import QuantumCircuit, transpile\n",
    "from qiskit.tools.jupyter import *\n",
    "from qiskit.visualization import *\n",
    "from ibm_quantum_widgets import *\n",
    "import math\n",
    "\n",
    "# qiskit-ibmq-provider has been deprecated.\n",
    "# Please see the Migration Guides in https://ibm.biz/provider_migration_guide for more detail.\n",
    "from qiskit_ibm_runtime import QiskitRuntimeService, Sampler, Estimator, Session, Options\n",
    "from qiskit.quantum_info import *\n",
    "# Loading your IBM Quantum account(s)\n",
    "service = QiskitRuntimeService(channel=\"ibm_quantum\")\n",
    "\n",
    "# Invoke a primitive. For more details see https://qiskit.org/documentation/partners/qiskit_ibm_runtime/tutorials.html\n",
    "# result = Sampler(\"ibmq_qasm_simulator\").run(circuits).result()"
   ]
  },
  {
   "cell_type": "code",
   "execution_count": 10,
   "id": "40b48e41-5cfa-4a7e-887c-47958fb0f79a",
   "metadata": {
    "tags": []
   },
   "outputs": [
    {
     "name": "stdout",
     "output_type": "stream",
     "text": [
      "2.0\n"
     ]
    }
   ],
   "source": [
    "a = Statevector([1/math.sqrt(2), 0, 0, 1/math.sqrt(2)])\n",
    "b = mutual_information(a,base = 2)\n",
    "print(b)"
   ]
  }
 ],
 "metadata": {
  "kernelspec": {
   "display_name": "Python 3 (ipykernel)",
   "language": "python",
   "name": "python3"
  },
  "language_info": {
   "codemirror_mode": {
    "name": "ipython",
    "version": 3
   },
   "file_extension": ".py",
   "mimetype": "text/x-python",
   "name": "python",
   "nbconvert_exporter": "python",
   "pygments_lexer": "ipython3",
   "version": "3.10.8"
  },
  "widgets": {
   "application/vnd.jupyter.widget-state+json": {
    "state": {
     "03011438ce2c4558bb5eafc329ea34ac": {
      "model_module": "@jupyter-widgets/controls",
      "model_module_version": "2.0.0",
      "model_name": "HBoxModel",
      "state": {
       "children": [
        "IPY_MODEL_107a9da6a17e42a4bebcc50df3fa7f68",
        "IPY_MODEL_a357957ef6d642b7b6cab15298f04939",
        "IPY_MODEL_cdd98de6fae94b36af04c30cfc57db25",
        "IPY_MODEL_84d5f9de41ee4c69a5d2bea9b347e04e",
        "IPY_MODEL_4823e9d530ba43ad93ccd922fe3c49f1"
       ],
       "layout": "IPY_MODEL_59664f7fc39a43bf87909f23b8d0ec6d"
      }
     },
     "094a11f8f5d146ed8b615737d8928127": {
      "model_module": "@jupyter-widgets/controls",
      "model_module_version": "2.0.0",
      "model_name": "HTMLStyleModel",
      "state": {
       "description_width": "",
       "font_size": null,
       "text_color": null
      }
     },
     "107a9da6a17e42a4bebcc50df3fa7f68": {
      "model_module": "@jupyter-widgets/controls",
      "model_module_version": "2.0.0",
      "model_name": "HTMLModel",
      "state": {
       "layout": "IPY_MODEL_5dd55aaacd9e4d8cbcdfe4fe22c86047",
       "style": "IPY_MODEL_62986d722272489294bc6c6a365de29b",
       "value": "<h5>Job ID</h5>"
      }
     },
     "214c32743cb64a8f9bda163d11cb58c8": {
      "model_module": "@jupyter-widgets/base",
      "model_module_version": "2.0.0",
      "model_name": "LayoutModel",
      "state": {
       "width": "145px"
      }
     },
     "39193c23508a499199ac4ef4cf18399f": {
      "model_module": "@jupyter-widgets/base",
      "model_module_version": "2.0.0",
      "model_name": "LayoutModel",
      "state": {
       "width": "95px"
      }
     },
     "3a38f1e96f7e4ee299a8ea9fe2670254": {
      "model_module": "@jupyter-widgets/base",
      "model_module_version": "2.0.0",
      "model_name": "LayoutModel",
      "state": {
       "grid_template_areas": "\n                                       \". . . . right \"\n                                        ",
       "grid_template_columns": "20% 20% 20% 20% 20%",
       "width": "100%"
      }
     },
     "45898e91b0184d6f93674ba412535f75": {
      "model_module": "@jupyter-widgets/controls",
      "model_module_version": "2.0.0",
      "model_name": "HTMLModel",
      "state": {
       "layout": "IPY_MODEL_9bd578dd89b543cf999050eabd27e794",
       "style": "IPY_MODEL_600edccbdf6640318e86558119ef1936",
       "value": "<p style='font-family: IBM Plex Sans, Arial, Helvetica, sans-serif; font-size: 20px; font-weight: medium;'>Circuit Properties</p>"
      }
     },
     "4823e9d530ba43ad93ccd922fe3c49f1": {
      "model_module": "@jupyter-widgets/controls",
      "model_module_version": "2.0.0",
      "model_name": "HTMLModel",
      "state": {
       "layout": "IPY_MODEL_5a5b915e05ef41198461bcfdfecfd584",
       "style": "IPY_MODEL_5af4414fb9b349279dd8685d0d1dd563",
       "value": "<h5>Message</h5>"
      }
     },
     "59664f7fc39a43bf87909f23b8d0ec6d": {
      "model_module": "@jupyter-widgets/base",
      "model_module_version": "2.0.0",
      "model_name": "LayoutModel",
      "state": {
       "margin": "0px 0px 0px 37px",
       "width": "600px"
      }
     },
     "59e47528da974a42bd73a99cd67d2a30": {
      "model_module": "@jupyter-widgets/controls",
      "model_module_version": "2.0.0",
      "model_name": "HTMLStyleModel",
      "state": {
       "description_width": "",
       "font_size": null,
       "text_color": null
      }
     },
     "5a5b915e05ef41198461bcfdfecfd584": {
      "model_module": "@jupyter-widgets/base",
      "model_module_version": "2.0.0",
      "model_name": "LayoutModel",
      "state": {}
     },
     "5af4414fb9b349279dd8685d0d1dd563": {
      "model_module": "@jupyter-widgets/controls",
      "model_module_version": "2.0.0",
      "model_name": "HTMLStyleModel",
      "state": {
       "description_width": "",
       "font_size": null,
       "text_color": null
      }
     },
     "5dd55aaacd9e4d8cbcdfe4fe22c86047": {
      "model_module": "@jupyter-widgets/base",
      "model_module_version": "2.0.0",
      "model_name": "LayoutModel",
      "state": {
       "width": "190px"
      }
     },
     "600edccbdf6640318e86558119ef1936": {
      "model_module": "@jupyter-widgets/controls",
      "model_module_version": "2.0.0",
      "model_name": "HTMLStyleModel",
      "state": {
       "description_width": "",
       "font_size": null,
       "text_color": null
      }
     },
     "62986d722272489294bc6c6a365de29b": {
      "model_module": "@jupyter-widgets/controls",
      "model_module_version": "2.0.0",
      "model_name": "HTMLStyleModel",
      "state": {
       "description_width": "",
       "font_size": null,
       "text_color": null
      }
     },
     "6afcd65ed8214a03a7ca1dc99768c98f": {
      "model_module": "@jupyter-widgets/base",
      "model_module_version": "2.0.0",
      "model_name": "LayoutModel",
      "state": {
       "width": "70px"
      }
     },
     "84d5f9de41ee4c69a5d2bea9b347e04e": {
      "model_module": "@jupyter-widgets/controls",
      "model_module_version": "2.0.0",
      "model_name": "HTMLModel",
      "state": {
       "layout": "IPY_MODEL_6afcd65ed8214a03a7ca1dc99768c98f",
       "style": "IPY_MODEL_f0da91295d344ed0ba092b125bea3e02",
       "value": "<h5>Queue</h5>"
      }
     },
     "85c04eaf40bc4a0fadd6dfb267de3eb1": {
      "model_module": "@jupyter-widgets/controls",
      "model_module_version": "2.0.0",
      "model_name": "ButtonModel",
      "state": {
       "button_style": "primary",
       "description": "Clear",
       "layout": "IPY_MODEL_c3c7959f6b944b7daa41225aa29c5b95",
       "style": "IPY_MODEL_abc7d33819764fd4b3506188e29d297a",
       "tooltip": null
      }
     },
     "9bd578dd89b543cf999050eabd27e794": {
      "model_module": "@jupyter-widgets/base",
      "model_module_version": "2.0.0",
      "model_name": "LayoutModel",
      "state": {
       "margin": "0px 0px 10px 0px"
      }
     },
     "a357957ef6d642b7b6cab15298f04939": {
      "model_module": "@jupyter-widgets/controls",
      "model_module_version": "2.0.0",
      "model_name": "HTMLModel",
      "state": {
       "layout": "IPY_MODEL_214c32743cb64a8f9bda163d11cb58c8",
       "style": "IPY_MODEL_59e47528da974a42bd73a99cd67d2a30",
       "value": "<h5>Backend</h5>"
      }
     },
     "abc7d33819764fd4b3506188e29d297a": {
      "model_module": "@jupyter-widgets/controls",
      "model_module_version": "2.0.0",
      "model_name": "ButtonStyleModel",
      "state": {
       "font_family": null,
       "font_size": null,
       "font_style": null,
       "font_variant": null,
       "font_weight": null,
       "text_color": null,
       "text_decoration": null
      }
     },
     "b9f5f7ecaf0f4e96ba6371dea39121f1": {
      "model_module": "@jupyter-widgets/controls",
      "model_module_version": "2.0.0",
      "model_name": "GridBoxModel",
      "state": {
       "children": [
        "IPY_MODEL_85c04eaf40bc4a0fadd6dfb267de3eb1"
       ],
       "layout": "IPY_MODEL_3a38f1e96f7e4ee299a8ea9fe2670254"
      }
     },
     "c3c7959f6b944b7daa41225aa29c5b95": {
      "model_module": "@jupyter-widgets/base",
      "model_module_version": "2.0.0",
      "model_name": "LayoutModel",
      "state": {
       "grid_area": "right",
       "padding": "0px 0px 0px 0px",
       "width": "70px"
      }
     },
     "cdd98de6fae94b36af04c30cfc57db25": {
      "model_module": "@jupyter-widgets/controls",
      "model_module_version": "2.0.0",
      "model_name": "HTMLModel",
      "state": {
       "layout": "IPY_MODEL_39193c23508a499199ac4ef4cf18399f",
       "style": "IPY_MODEL_094a11f8f5d146ed8b615737d8928127",
       "value": "<h5>Status</h5>"
      }
     },
     "f0da91295d344ed0ba092b125bea3e02": {
      "model_module": "@jupyter-widgets/controls",
      "model_module_version": "2.0.0",
      "model_name": "HTMLStyleModel",
      "state": {
       "description_width": "",
       "font_size": null,
       "text_color": null
      }
     }
    },
    "version_major": 2,
    "version_minor": 0
   }
  }
 },
 "nbformat": 4,
 "nbformat_minor": 5
}
