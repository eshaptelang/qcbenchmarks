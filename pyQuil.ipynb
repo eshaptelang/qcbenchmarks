{
 "cells": [
  {
   "cell_type": "code",
   "execution_count": 4,
   "id": "4779416d-58a8-44bc-816a-401880e93792",
   "metadata": {
    "tags": []
   },
   "outputs": [
    {
     "name": "stdout",
     "output_type": "stream",
     "text": [
      "Requirement already satisfied: pyquil in /opt/conda/lib/python3.10/site-packages (3.5.4)\n",
      "Requirement already satisfied: lark<0.12.0,>=0.11.1 in /opt/conda/lib/python3.10/site-packages (from pyquil) (0.11.3)\n",
      "Requirement already satisfied: qcs-api-client<0.22.0,>=0.21.0 in /opt/conda/lib/python3.10/site-packages (from pyquil) (0.21.5)\n",
      "Requirement already satisfied: rpcq<4.0.0,>=3.10.0 in /opt/conda/lib/python3.10/site-packages (from pyquil) (3.11.0)\n",
      "Requirement already satisfied: numpy<2.0,>=1.21 in /opt/conda/lib/python3.10/site-packages (from pyquil) (1.23.5)\n",
      "Requirement already satisfied: scipy<2.0.0,>=1.6.1 in /opt/conda/lib/python3.10/site-packages (from pyquil) (1.9.3)\n",
      "Requirement already satisfied: types-python-dateutil<3.0.0,>=2.8.19 in /opt/conda/lib/python3.10/site-packages (from pyquil) (2.8.19.13)\n",
      "Requirement already satisfied: networkx>=2.5 in /opt/conda/lib/python3.10/site-packages (from pyquil) (2.8.8)\n",
      "Requirement already satisfied: tenacity<9.0.0,>=8.2.2 in /opt/conda/lib/python3.10/site-packages (from pyquil) (8.2.2)\n",
      "Requirement already satisfied: types-retry<0.10.0,>=0.9.9 in /opt/conda/lib/python3.10/site-packages (from pyquil) (0.9.9.3)\n",
      "Requirement already satisfied: deprecated<2.0.0,>=1.2.13 in /opt/conda/lib/python3.10/site-packages (from pyquil) (1.2.14)\n",
      "Requirement already satisfied: types-deprecated<2.0.0.0,>=1.2.9.2 in /opt/conda/lib/python3.10/site-packages (from pyquil) (1.2.9.2)\n",
      "Requirement already satisfied: wrapt<2,>=1.10 in /opt/conda/lib/python3.10/site-packages (from deprecated<2.0.0,>=1.2.13->pyquil) (1.15.0)\n",
      "Requirement already satisfied: httpx<0.24.0,>=0.23.0 in /opt/conda/lib/python3.10/site-packages (from qcs-api-client<0.22.0,>=0.21.0->pyquil) (0.23.3)\n",
      "Requirement already satisfied: iso8601<2.0.0,>=1.0.2 in /opt/conda/lib/python3.10/site-packages (from qcs-api-client<0.22.0,>=0.21.0->pyquil) (1.1.0)\n",
      "Requirement already satisfied: pydantic<2.0.0,>=1.7.2 in /opt/conda/lib/python3.10/site-packages (from qcs-api-client<0.22.0,>=0.21.0->pyquil) (1.10.11)\n",
      "Requirement already satisfied: rfc3339<7.0,>=6.2 in /opt/conda/lib/python3.10/site-packages (from qcs-api-client<0.22.0,>=0.21.0->pyquil) (6.2)\n",
      "Requirement already satisfied: python-dateutil<3.0.0,>=2.8.1 in /opt/conda/lib/python3.10/site-packages (from qcs-api-client<0.22.0,>=0.21.0->pyquil) (2.8.2)\n",
      "Requirement already satisfied: retrying<2.0.0,>=1.3.3 in /opt/conda/lib/python3.10/site-packages (from qcs-api-client<0.22.0,>=0.21.0->pyquil) (1.3.4)\n",
      "Requirement already satisfied: PyJWT<3.0.0,>=2.4.0 in /opt/conda/lib/python3.10/site-packages (from qcs-api-client<0.22.0,>=0.21.0->pyquil) (2.6.0)\n",
      "Collecting attrs<22.0.0,>=21.3.0\n",
      "  Using cached attrs-21.4.0-py2.py3-none-any.whl (60 kB)\n",
      "Requirement already satisfied: toml<0.11.0,>=0.10.2 in /opt/conda/lib/python3.10/site-packages (from qcs-api-client<0.22.0,>=0.21.0->pyquil) (0.10.2)\n",
      "Requirement already satisfied: msgpack<2.0,>=0.6 in /opt/conda/lib/python3.10/site-packages (from rpcq<4.0.0,>=3.10.0->pyquil) (1.0.5)\n",
      "Requirement already satisfied: pyzmq>=17 in /opt/conda/lib/python3.10/site-packages (from rpcq<4.0.0,>=3.10.0->pyquil) (24.0.1)\n",
      "Requirement already satisfied: ruamel.yaml in /opt/conda/lib/python3.10/site-packages (from rpcq<4.0.0,>=3.10.0->pyquil) (0.17.21)\n",
      "Requirement already satisfied: python-rapidjson in /opt/conda/lib/python3.10/site-packages (from rpcq<4.0.0,>=3.10.0->pyquil) (1.10)\n",
      "Requirement already satisfied: httpcore<0.17.0,>=0.15.0 in /opt/conda/lib/python3.10/site-packages (from httpx<0.24.0,>=0.23.0->qcs-api-client<0.22.0,>=0.21.0->pyquil) (0.16.3)\n",
      "Requirement already satisfied: sniffio in /opt/conda/lib/python3.10/site-packages (from httpx<0.24.0,>=0.23.0->qcs-api-client<0.22.0,>=0.21.0->pyquil) (1.3.0)\n",
      "Requirement already satisfied: rfc3986[idna2008]<2,>=1.3 in /opt/conda/lib/python3.10/site-packages (from httpx<0.24.0,>=0.23.0->qcs-api-client<0.22.0,>=0.21.0->pyquil) (1.5.0)\n",
      "Requirement already satisfied: certifi in /opt/conda/lib/python3.10/site-packages (from httpx<0.24.0,>=0.23.0->qcs-api-client<0.22.0,>=0.21.0->pyquil) (2022.9.24)\n",
      "Requirement already satisfied: typing-extensions>=4.2.0 in /opt/conda/lib/python3.10/site-packages (from pydantic<2.0.0,>=1.7.2->qcs-api-client<0.22.0,>=0.21.0->pyquil) (4.5.0)\n",
      "Requirement already satisfied: six>=1.5 in /opt/conda/lib/python3.10/site-packages (from python-dateutil<3.0.0,>=2.8.1->qcs-api-client<0.22.0,>=0.21.0->pyquil) (1.16.0)\n",
      "Requirement already satisfied: ruamel.yaml.clib>=0.2.6 in /opt/conda/lib/python3.10/site-packages (from ruamel.yaml->rpcq<4.0.0,>=3.10.0->pyquil) (0.2.7)\n",
      "Requirement already satisfied: anyio<5.0,>=3.0 in /opt/conda/lib/python3.10/site-packages (from httpcore<0.17.0,>=0.15.0->httpx<0.24.0,>=0.23.0->qcs-api-client<0.22.0,>=0.21.0->pyquil) (3.6.2)\n",
      "Requirement already satisfied: h11<0.15,>=0.13 in /opt/conda/lib/python3.10/site-packages (from httpcore<0.17.0,>=0.15.0->httpx<0.24.0,>=0.23.0->qcs-api-client<0.22.0,>=0.21.0->pyquil) (0.14.0)\n",
      "Requirement already satisfied: idna in /opt/conda/lib/python3.10/site-packages (from rfc3986[idna2008]<2,>=1.3->httpx<0.24.0,>=0.23.0->qcs-api-client<0.22.0,>=0.21.0->pyquil) (3.4)\n",
      "\u001b[33mWARNING: Error parsing requirements for attrs: [Errno 2] No such file or directory: '/opt/conda/lib/python3.10/site-packages/attrs-22.2.0.dist-info/METADATA'\u001b[0m\u001b[33m\n",
      "\u001b[0mInstalling collected packages: attrs\n",
      "  Attempting uninstall: attrs\n",
      "\u001b[33m    WARNING: No metadata found in /opt/conda/lib/python3.10/site-packages\u001b[0m\u001b[33m\n",
      "\u001b[0m    Found existing installation: attrs 22.2.0\n",
      "\u001b[31mERROR: Cannot uninstall attrs 22.2.0, RECORD file not found. You might be able to recover from this via: 'pip install --force-reinstall --no-deps attrs==22.2.0'.\u001b[0m\u001b[31m\n",
      "\u001b[0m\n",
      "\u001b[1m[\u001b[0m\u001b[34;49mnotice\u001b[0m\u001b[1;39;49m]\u001b[0m\u001b[39;49m A new release of pip available: \u001b[0m\u001b[31;49m23.1.1\u001b[0m\u001b[39;49m -> \u001b[0m\u001b[32;49m23.1.2\u001b[0m\n",
      "\u001b[1m[\u001b[0m\u001b[34;49mnotice\u001b[0m\u001b[1;39;49m]\u001b[0m\u001b[39;49m To update, run: \u001b[0m\u001b[32;49mpip install --upgrade pip\u001b[0m\n",
      "Requirement already satisfied: pyquil in /opt/conda/lib/python3.10/site-packages (3.5.4)\n",
      "Requirement already satisfied: types-python-dateutil<3.0.0,>=2.8.19 in /opt/conda/lib/python3.10/site-packages (from pyquil) (2.8.19.13)\n",
      "Requirement already satisfied: numpy<2.0,>=1.21 in /opt/conda/lib/python3.10/site-packages (from pyquil) (1.23.5)\n",
      "Requirement already satisfied: scipy<2.0.0,>=1.6.1 in /opt/conda/lib/python3.10/site-packages (from pyquil) (1.9.3)\n",
      "Requirement already satisfied: networkx>=2.5 in /opt/conda/lib/python3.10/site-packages (from pyquil) (2.8.8)\n",
      "Requirement already satisfied: rpcq<4.0.0,>=3.10.0 in /opt/conda/lib/python3.10/site-packages (from pyquil) (3.11.0)\n",
      "Requirement already satisfied: deprecated<2.0.0,>=1.2.13 in /opt/conda/lib/python3.10/site-packages (from pyquil) (1.2.14)\n",
      "Requirement already satisfied: tenacity<9.0.0,>=8.2.2 in /opt/conda/lib/python3.10/site-packages (from pyquil) (8.2.2)\n",
      "Requirement already satisfied: types-deprecated<2.0.0.0,>=1.2.9.2 in /opt/conda/lib/python3.10/site-packages (from pyquil) (1.2.9.2)\n",
      "Requirement already satisfied: lark<0.12.0,>=0.11.1 in /opt/conda/lib/python3.10/site-packages (from pyquil) (0.11.3)\n",
      "Requirement already satisfied: types-retry<0.10.0,>=0.9.9 in /opt/conda/lib/python3.10/site-packages (from pyquil) (0.9.9.3)\n",
      "Requirement already satisfied: qcs-api-client<0.22.0,>=0.21.0 in /opt/conda/lib/python3.10/site-packages (from pyquil) (0.21.5)\n",
      "Requirement already satisfied: wrapt<2,>=1.10 in /opt/conda/lib/python3.10/site-packages (from deprecated<2.0.0,>=1.2.13->pyquil) (1.15.0)\n",
      "Requirement already satisfied: rfc3339<7.0,>=6.2 in /opt/conda/lib/python3.10/site-packages (from qcs-api-client<0.22.0,>=0.21.0->pyquil) (6.2)\n",
      "Requirement already satisfied: iso8601<2.0.0,>=1.0.2 in /opt/conda/lib/python3.10/site-packages (from qcs-api-client<0.22.0,>=0.21.0->pyquil) (1.1.0)\n",
      "Requirement already satisfied: PyJWT<3.0.0,>=2.4.0 in /opt/conda/lib/python3.10/site-packages (from qcs-api-client<0.22.0,>=0.21.0->pyquil) (2.6.0)\n",
      "Requirement already satisfied: retrying<2.0.0,>=1.3.3 in /opt/conda/lib/python3.10/site-packages (from qcs-api-client<0.22.0,>=0.21.0->pyquil) (1.3.4)\n",
      "Requirement already satisfied: python-dateutil<3.0.0,>=2.8.1 in /opt/conda/lib/python3.10/site-packages (from qcs-api-client<0.22.0,>=0.21.0->pyquil) (2.8.2)\n",
      "Requirement already satisfied: pydantic<2.0.0,>=1.7.2 in /opt/conda/lib/python3.10/site-packages (from qcs-api-client<0.22.0,>=0.21.0->pyquil) (1.10.11)\n",
      "Requirement already satisfied: toml<0.11.0,>=0.10.2 in /opt/conda/lib/python3.10/site-packages (from qcs-api-client<0.22.0,>=0.21.0->pyquil) (0.10.2)\n",
      "Requirement already satisfied: httpx<0.24.0,>=0.23.0 in /opt/conda/lib/python3.10/site-packages (from qcs-api-client<0.22.0,>=0.21.0->pyquil) (0.23.3)\n",
      "Collecting attrs<22.0.0,>=21.3.0\n",
      "  Using cached attrs-21.4.0-py2.py3-none-any.whl (60 kB)\n",
      "Requirement already satisfied: python-rapidjson in /opt/conda/lib/python3.10/site-packages (from rpcq<4.0.0,>=3.10.0->pyquil) (1.10)\n",
      "Requirement already satisfied: pyzmq>=17 in /opt/conda/lib/python3.10/site-packages (from rpcq<4.0.0,>=3.10.0->pyquil) (24.0.1)\n",
      "Requirement already satisfied: msgpack<2.0,>=0.6 in /opt/conda/lib/python3.10/site-packages (from rpcq<4.0.0,>=3.10.0->pyquil) (1.0.5)\n",
      "Requirement already satisfied: ruamel.yaml in /opt/conda/lib/python3.10/site-packages (from rpcq<4.0.0,>=3.10.0->pyquil) (0.17.21)\n",
      "Requirement already satisfied: httpcore<0.17.0,>=0.15.0 in /opt/conda/lib/python3.10/site-packages (from httpx<0.24.0,>=0.23.0->qcs-api-client<0.22.0,>=0.21.0->pyquil) (0.16.3)\n",
      "Requirement already satisfied: sniffio in /opt/conda/lib/python3.10/site-packages (from httpx<0.24.0,>=0.23.0->qcs-api-client<0.22.0,>=0.21.0->pyquil) (1.3.0)\n",
      "Requirement already satisfied: certifi in /opt/conda/lib/python3.10/site-packages (from httpx<0.24.0,>=0.23.0->qcs-api-client<0.22.0,>=0.21.0->pyquil) (2022.9.24)\n",
      "Requirement already satisfied: rfc3986[idna2008]<2,>=1.3 in /opt/conda/lib/python3.10/site-packages (from httpx<0.24.0,>=0.23.0->qcs-api-client<0.22.0,>=0.21.0->pyquil) (1.5.0)\n",
      "Requirement already satisfied: typing-extensions>=4.2.0 in /opt/conda/lib/python3.10/site-packages (from pydantic<2.0.0,>=1.7.2->qcs-api-client<0.22.0,>=0.21.0->pyquil) (4.5.0)\n",
      "Requirement already satisfied: six>=1.5 in /opt/conda/lib/python3.10/site-packages (from python-dateutil<3.0.0,>=2.8.1->qcs-api-client<0.22.0,>=0.21.0->pyquil) (1.16.0)\n",
      "Requirement already satisfied: ruamel.yaml.clib>=0.2.6 in /opt/conda/lib/python3.10/site-packages (from ruamel.yaml->rpcq<4.0.0,>=3.10.0->pyquil) (0.2.7)\n",
      "Requirement already satisfied: h11<0.15,>=0.13 in /opt/conda/lib/python3.10/site-packages (from httpcore<0.17.0,>=0.15.0->httpx<0.24.0,>=0.23.0->qcs-api-client<0.22.0,>=0.21.0->pyquil) (0.14.0)\n",
      "Requirement already satisfied: anyio<5.0,>=3.0 in /opt/conda/lib/python3.10/site-packages (from httpcore<0.17.0,>=0.15.0->httpx<0.24.0,>=0.23.0->qcs-api-client<0.22.0,>=0.21.0->pyquil) (3.6.2)\n",
      "Requirement already satisfied: idna in /opt/conda/lib/python3.10/site-packages (from rfc3986[idna2008]<2,>=1.3->httpx<0.24.0,>=0.23.0->qcs-api-client<0.22.0,>=0.21.0->pyquil) (3.4)\n",
      "\u001b[33mWARNING: Error parsing requirements for attrs: [Errno 2] No such file or directory: '/opt/conda/lib/python3.10/site-packages/attrs-22.2.0.dist-info/METADATA'\u001b[0m\u001b[33m\n",
      "\u001b[0mInstalling collected packages: attrs\n",
      "  Attempting uninstall: attrs\n",
      "\u001b[33m    WARNING: No metadata found in /opt/conda/lib/python3.10/site-packages\u001b[0m\u001b[33m\n",
      "\u001b[0m    Found existing installation: attrs 22.2.0\n",
      "\u001b[31mERROR: Cannot uninstall attrs 22.2.0, RECORD file not found. You might be able to recover from this via: 'pip install --force-reinstall --no-deps attrs==22.2.0'.\u001b[0m\u001b[31m\n",
      "\u001b[0m\n",
      "\u001b[1m[\u001b[0m\u001b[34;49mnotice\u001b[0m\u001b[1;39;49m]\u001b[0m\u001b[39;49m A new release of pip available: \u001b[0m\u001b[31;49m23.1.1\u001b[0m\u001b[39;49m -> \u001b[0m\u001b[32;49m23.1.2\u001b[0m\n",
      "\u001b[1m[\u001b[0m\u001b[34;49mnotice\u001b[0m\u001b[1;39;49m]\u001b[0m\u001b[39;49m To update, run: \u001b[0m\u001b[32;49mpip install --upgrade pip\u001b[0m\n"
     ]
    }
   ],
   "source": [
    "# Importing standard Qiskit libraries\n",
    "from qiskit import QuantumCircuit, transpile\n",
    "from qiskit.tools.jupyter import *\n",
    "from qiskit.visualization import *\n",
    "from ibm_quantum_widgets import *\n",
    "\n",
    "# qiskit-ibmq-provider has been deprecated.\n",
    "# Please see the Migration Guides in https://ibm.biz/provider_migration_guide for more detail.\n",
    "from qiskit_ibm_runtime import QiskitRuntimeService, Sampler, Estimator, Session, Options\n",
    "\n",
    "# Loading your IBM Quantum account(s)\n",
    "service = QiskitRuntimeService(channel=\"ibm_quantum\")\n",
    "\n",
    "!pip install pyquil\n",
    "!pip install --upgrade pyquil\n",
    "\n",
    "\n",
    "# Invoke a primitive. For more details see https://qiskit.org/documentation/partners/qiskit_ibm_runtime/tutorials.html\n",
    "# result = Sampler(\"ibmq_qasm_simulator\").run(circuits).result()"
   ]
  },
  {
   "cell_type": "code",
   "execution_count": 11,
   "id": "982b66ef-217a-42eb-9543-c76d0be73738",
   "metadata": {
    "tags": []
   },
   "outputs": [],
   "source": [
    "from pyquil import Program, get_qc\n",
    "from pyquil.gates import *\n",
    "from pyquil.quilbase import Declare\n",
    "from pyquil import get_qc, Program\n",
    "from pyquil.gates import CNOT, Z, MEASURE\n",
    "from pyquil.api import local_forest_runtime\n",
    "from pyquil.quilbase import Declare"
   ]
  },
  {
   "cell_type": "code",
   "execution_count": 14,
   "id": "f112b1de-0100-4b39-b95d-c187c732ce18",
   "metadata": {
    "tags": []
   },
   "outputs": [],
   "source": [
    "prog = Program(\n",
    "    Declare(\"ro\", \"BIT\", 2),\n",
    "    Z(0),\n",
    "    CNOT(0, 1),\n",
    "    MEASURE(0, (\"ro\", 0)),\n",
    "    MEASURE(1, (\"ro\", 1)),\n",
    ").wrap_in_numshots_loop(10)"
   ]
  },
  {
   "cell_type": "code",
   "execution_count": 15,
   "id": "5fe86f0e-261d-4706-90e2-8dc1c678590b",
   "metadata": {
    "tags": []
   },
   "outputs": [],
   "source": [
    "p = Program(\n",
    "    Declare(\"ro\", \"BIT\", 2),\n",
    "    H(0),\n",
    "    CNOT(0, 1),\n",
    "    MEASURE(0, (\"ro\", 0)),\n",
    "    MEASURE(1, (\"ro\", 1)),\n",
    ").wrap_in_numshots_loop(10)"
   ]
  },
  {
   "cell_type": "code",
   "execution_count": 16,
   "id": "0324875a-5f38-4d12-a63d-f036b001d387",
   "metadata": {
    "tags": []
   },
   "outputs": [
    {
     "name": "stdout",
     "output_type": "stream",
     "text": [
      "Traceback \u001b[1;36m(most recent call last)\u001b[0m:\n",
      "\u001b[0m  Cell \u001b[0;32mIn[16], line 1\u001b[0m\n",
      "    qc = get_qc('9q-square-qvm')\u001b[0m\n",
      "\u001b[0m  File \u001b[0;32m/opt/conda/lib/python3.10/site-packages/pyquil/api/_quantum_computer.py:836\u001b[0m in \u001b[0;35mget_qc\u001b[0m\n",
      "    return _get_9q_square_qvm(\u001b[0m\n",
      "\u001b[0m  File \u001b[0;32m/opt/conda/lib/python3.10/site-packages/pyquil/api/_quantum_computer.py:633\u001b[0m in \u001b[0;35m_get_9q_square_qvm\u001b[0m\n",
      "    return _get_qvm_with_topology(\u001b[0m\n",
      "\u001b[0m  File \u001b[0;32m/opt/conda/lib/python3.10/site-packages/pyquil/api/_quantum_computer.py:598\u001b[0m in \u001b[0;35m_get_qvm_with_topology\u001b[0m\n",
      "    return _get_qvm_qc(\u001b[0m\n",
      "\u001b[0m  File \u001b[0;32m/opt/conda/lib/python3.10/site-packages/pyquil/api/_quantum_computer.py:551\u001b[0m in \u001b[0;35m_get_qvm_qc\u001b[0m\n",
      "    qam=_get_qvm_or_pyqvm(\u001b[0m\n",
      "\u001b[0m  File \u001b[0;32m/opt/conda/lib/python3.10/site-packages/pyquil/api/_quantum_computer.py:517\u001b[0m in \u001b[0;35m_get_qvm_or_pyqvm\u001b[0m\n",
      "    return QVM(noise_model=noise_model, timeout=execution_timeout, client_configuration=client_configuration)\u001b[0m\n",
      "\u001b[0m  File \u001b[0;32m/opt/conda/lib/python3.10/site-packages/pyquil/api/_qvm.py:116\u001b[0m in \u001b[0;35m__init__\u001b[0m\n",
      "    self.connect()\u001b[0m\n",
      "\u001b[0m  File \u001b[0;32m/opt/conda/lib/python3.10/site-packages/pyquil/api/_qvm.py:120\u001b[0m in \u001b[0;35mconnect\u001b[0m\n",
      "    version = self.get_version_info()\u001b[0m\n",
      "\u001b[0m  File \u001b[0;32m/opt/conda/lib/python3.10/site-packages/pyquil/api/_qvm.py:175\u001b[0m in \u001b[0;35mget_version_info\u001b[0m\n",
      "    return self._qvm_client.get_version()\u001b[0m\n",
      "\u001b[0m  File \u001b[0;32m/opt/conda/lib/python3.10/site-packages/pyquil/api/_qvm_client.py:176\u001b[0m in \u001b[0;35mget_version\u001b[0m\n",
      "    return self._post_json({\"type\": \"version\"}).text.split()[0]\u001b[0m\n",
      "\u001b[0m  File \u001b[0;32m/opt/conda/lib/python3.10/site-packages/pyquil/api/_qvm_client.py:259\u001b[0m in \u001b[0;35m_post_json\u001b[0m\n",
      "    response = http.post(\"/\", json=json)\u001b[0m\n",
      "\u001b[0m  File \u001b[0;32m/opt/conda/lib/python3.10/site-packages/httpx/_client.py:1136\u001b[0m in \u001b[0;35mpost\u001b[0m\n",
      "    return self.request(\u001b[0m\n",
      "\u001b[0m  File \u001b[0;32m/opt/conda/lib/python3.10/site-packages/httpx/_client.py:821\u001b[0m in \u001b[0;35mrequest\u001b[0m\n",
      "    return self.send(request, auth=auth, follow_redirects=follow_redirects)\u001b[0m\n",
      "\u001b[0m  File \u001b[0;32m/opt/conda/lib/python3.10/site-packages/httpx/_client.py:908\u001b[0m in \u001b[0;35msend\u001b[0m\n",
      "    response = self._send_handling_auth(\u001b[0m\n",
      "\u001b[0m  File \u001b[0;32m/opt/conda/lib/python3.10/site-packages/httpx/_client.py:936\u001b[0m in \u001b[0;35m_send_handling_auth\u001b[0m\n",
      "    response = self._send_handling_redirects(\u001b[0m\n",
      "\u001b[0m  File \u001b[0;32m/opt/conda/lib/python3.10/site-packages/httpx/_client.py:973\u001b[0m in \u001b[0;35m_send_handling_redirects\u001b[0m\n",
      "    response = self._send_single_request(request)\u001b[0m\n",
      "\u001b[0m  File \u001b[0;32m/opt/conda/lib/python3.10/site-packages/httpx/_client.py:1009\u001b[0m in \u001b[0;35m_send_single_request\u001b[0m\n",
      "    response = transport.handle_request(request)\u001b[0m\n",
      "\u001b[0m  File \u001b[0;32m/opt/conda/lib/python3.10/site-packages/httpx/_transports/default.py:217\u001b[0m in \u001b[0;35mhandle_request\u001b[0m\n",
      "    with map_httpcore_exceptions():\u001b[0m\n",
      "\u001b[0m  File \u001b[0;32m/opt/conda/lib/python3.10/contextlib.py:153\u001b[0m in \u001b[0;35m__exit__\u001b[0m\n",
      "    self.gen.throw(typ, value, traceback)\u001b[0m\n",
      "\u001b[1;36m  File \u001b[1;32m/opt/conda/lib/python3.10/site-packages/httpx/_transports/default.py:77\u001b[1;36m in \u001b[1;35mmap_httpcore_exceptions\u001b[1;36m\n",
      "\u001b[1;33m    raise mapped_exc(message) from exc\u001b[1;36m\n",
      "\u001b[1;31mConnectError\u001b[0m\u001b[1;31m:\u001b[0m [Errno 111] Connection refused\n",
      "\n",
      "Use %tb to get the full traceback.\n"
     ]
    },
    {
     "data": {
      "text/html": [
       "\n",
       "<style>\n",
       ".button {\n",
       "  border: none;\n",
       "  color: white;\n",
       "  padding: 4px 8px;\n",
       "  text-align: center;\n",
       "  text-decoration: none;\n",
       "  display: inline-block;\n",
       "  font-size: 12px;\n",
       "  margin: 4px 2px;\n",
       "  transition-duration: 0.2s;\n",
       "  cursor: pointer;\n",
       "}\n",
       ".iqx-button {\n",
       "  background-color: #0f62fe; \n",
       "  color: white; \n",
       "}\n",
       ".iqx-button:hover {\n",
       "  background-color: #0043ce;\n",
       "  color: white;\n",
       "}\n",
       "</style>\n",
       "<a href=\"https://stackoverflow.com/search?q=ConnectError: [Errno 111] Connection refused\" target='_blank'><button class='button iqx-button'>Search for solution online</button></a>\n"
      ],
      "text/plain": [
       "<IPython.core.display.HTML object>"
      ]
     },
     "metadata": {},
     "output_type": "display_data"
    }
   ],
   "source": [
    "qc = get_qc('9q-square-qvm')\n",
    "result = qc.run(qc.compile(p)).readout_data.get(\"ro\")\n",
    "print(result[0])\n",
    "print(result[1])"
   ]
  },
  {
   "cell_type": "code",
   "execution_count": null,
   "id": "cc03aac8-8802-4801-890f-0ca00d35910a",
   "metadata": {},
   "outputs": [],
   "source": []
  }
 ],
 "metadata": {
  "kernelspec": {
   "display_name": "Python 3 (ipykernel)",
   "language": "python",
   "name": "python3"
  },
  "language_info": {
   "codemirror_mode": {
    "name": "ipython",
    "version": 3
   },
   "file_extension": ".py",
   "mimetype": "text/x-python",
   "name": "python",
   "nbconvert_exporter": "python",
   "pygments_lexer": "ipython3",
   "version": "3.10.8"
  },
  "widgets": {
   "application/vnd.jupyter.widget-state+json": {
    "state": {
     "0690e0a1398944bf8efcf34b566bd947": {
      "model_module": "@jupyter-widgets/controls",
      "model_module_version": "2.0.0",
      "model_name": "HTMLStyleModel",
      "state": {
       "description_width": "",
       "font_size": null,
       "text_color": null
      }
     },
     "06b90a66c28f434c9491062c522a2dfa": {
      "model_module": "@jupyter-widgets/base",
      "model_module_version": "2.0.0",
      "model_name": "LayoutModel",
      "state": {
       "width": "190px"
      }
     },
     "0d073c1b138944f6972df8d6ae136974": {
      "model_module": "@jupyter-widgets/base",
      "model_module_version": "2.0.0",
      "model_name": "LayoutModel",
      "state": {
       "width": "145px"
      }
     },
     "1de75dece04743af8ec253eda864b2c0": {
      "model_module": "@jupyter-widgets/controls",
      "model_module_version": "2.0.0",
      "model_name": "HTMLStyleModel",
      "state": {
       "description_width": "",
       "font_size": null,
       "text_color": null
      }
     },
     "216c314d8673492a96bc18680505c127": {
      "model_module": "@jupyter-widgets/controls",
      "model_module_version": "2.0.0",
      "model_name": "HTMLModel",
      "state": {
       "layout": "IPY_MODEL_dba50ce92bb7432e925cf23b02bd9b97",
       "style": "IPY_MODEL_0690e0a1398944bf8efcf34b566bd947",
       "value": "<p style='font-family: IBM Plex Sans, Arial, Helvetica, sans-serif; font-size: 20px; font-weight: medium;'>Circuit Properties</p>"
      }
     },
     "253f88e121254b8297960c9794bc1ada": {
      "model_module": "@jupyter-widgets/controls",
      "model_module_version": "2.0.0",
      "model_name": "ButtonStyleModel",
      "state": {
       "font_family": null,
       "font_size": null,
       "font_style": null,
       "font_variant": null,
       "font_weight": null,
       "text_color": null,
       "text_decoration": null
      }
     },
     "3a63e4badc8b4191ae7b87d8ce7ce2bc": {
      "model_module": "@jupyter-widgets/base",
      "model_module_version": "2.0.0",
      "model_name": "LayoutModel",
      "state": {
       "grid_template_areas": "\n                                       \". . . . right \"\n                                        ",
       "grid_template_columns": "20% 20% 20% 20% 20%",
       "width": "100%"
      }
     },
     "57f9b24e554849f2bbe9ae487d302f82": {
      "model_module": "@jupyter-widgets/controls",
      "model_module_version": "2.0.0",
      "model_name": "HTMLModel",
      "state": {
       "layout": "IPY_MODEL_0d073c1b138944f6972df8d6ae136974",
       "style": "IPY_MODEL_801ff160d1714f16b5591a1d9a6c46dd",
       "value": "<h5>Backend</h5>"
      }
     },
     "619dc26ad4f64c1880f5a83446bdfb8c": {
      "model_module": "@jupyter-widgets/controls",
      "model_module_version": "2.0.0",
      "model_name": "HTMLModel",
      "state": {
       "layout": "IPY_MODEL_e1862440a6d3435f8931e30737143753",
       "style": "IPY_MODEL_1de75dece04743af8ec253eda864b2c0",
       "value": "<h5>Message</h5>"
      }
     },
     "64706c3cbae34f73aacc99b3afeb42fb": {
      "model_module": "@jupyter-widgets/base",
      "model_module_version": "2.0.0",
      "model_name": "LayoutModel",
      "state": {
       "width": "95px"
      }
     },
     "6d4c660979674b28a317f3b6b8e35873": {
      "model_module": "@jupyter-widgets/controls",
      "model_module_version": "2.0.0",
      "model_name": "HTMLStyleModel",
      "state": {
       "description_width": "",
       "font_size": null,
       "text_color": null
      }
     },
     "6e0af44c06704fbdac7817324d873487": {
      "model_module": "@jupyter-widgets/controls",
      "model_module_version": "2.0.0",
      "model_name": "HBoxModel",
      "state": {
       "children": [
        "IPY_MODEL_b2ecab5e353b4f84ba9a41fa33597514",
        "IPY_MODEL_57f9b24e554849f2bbe9ae487d302f82",
        "IPY_MODEL_bbacf6982d5c4d34ad140c3aab3d9b2a",
        "IPY_MODEL_f7492a033e7e4a7691adb1a53f3f74b6",
        "IPY_MODEL_619dc26ad4f64c1880f5a83446bdfb8c"
       ],
       "layout": "IPY_MODEL_a8dc0aa3274e47df98cc75ce925f2bee"
      }
     },
     "7f62895c4aa3410a8a192d962a80f60b": {
      "model_module": "@jupyter-widgets/controls",
      "model_module_version": "2.0.0",
      "model_name": "ButtonModel",
      "state": {
       "button_style": "primary",
       "description": "Clear",
       "layout": "IPY_MODEL_9f094dbf558942f9b17bd967b96ee2c7",
       "style": "IPY_MODEL_253f88e121254b8297960c9794bc1ada",
       "tooltip": null
      }
     },
     "801ff160d1714f16b5591a1d9a6c46dd": {
      "model_module": "@jupyter-widgets/controls",
      "model_module_version": "2.0.0",
      "model_name": "HTMLStyleModel",
      "state": {
       "description_width": "",
       "font_size": null,
       "text_color": null
      }
     },
     "95cc01d1224b4125bd14920fdc349e34": {
      "model_module": "@jupyter-widgets/controls",
      "model_module_version": "2.0.0",
      "model_name": "HTMLStyleModel",
      "state": {
       "description_width": "",
       "font_size": null,
       "text_color": null
      }
     },
     "9f094dbf558942f9b17bd967b96ee2c7": {
      "model_module": "@jupyter-widgets/base",
      "model_module_version": "2.0.0",
      "model_name": "LayoutModel",
      "state": {
       "grid_area": "right",
       "padding": "0px 0px 0px 0px",
       "width": "70px"
      }
     },
     "a8dc0aa3274e47df98cc75ce925f2bee": {
      "model_module": "@jupyter-widgets/base",
      "model_module_version": "2.0.0",
      "model_name": "LayoutModel",
      "state": {
       "margin": "0px 0px 0px 37px",
       "width": "600px"
      }
     },
     "b2ecab5e353b4f84ba9a41fa33597514": {
      "model_module": "@jupyter-widgets/controls",
      "model_module_version": "2.0.0",
      "model_name": "HTMLModel",
      "state": {
       "layout": "IPY_MODEL_06b90a66c28f434c9491062c522a2dfa",
       "style": "IPY_MODEL_6d4c660979674b28a317f3b6b8e35873",
       "value": "<h5>Job ID</h5>"
      }
     },
     "bbacf6982d5c4d34ad140c3aab3d9b2a": {
      "model_module": "@jupyter-widgets/controls",
      "model_module_version": "2.0.0",
      "model_name": "HTMLModel",
      "state": {
       "layout": "IPY_MODEL_64706c3cbae34f73aacc99b3afeb42fb",
       "style": "IPY_MODEL_d6549132a8aa46568e42390d2bede27d",
       "value": "<h5>Status</h5>"
      }
     },
     "bdac4685f9f6494ba77688d6a22e7254": {
      "model_module": "@jupyter-widgets/controls",
      "model_module_version": "2.0.0",
      "model_name": "GridBoxModel",
      "state": {
       "children": [
        "IPY_MODEL_7f62895c4aa3410a8a192d962a80f60b"
       ],
       "layout": "IPY_MODEL_3a63e4badc8b4191ae7b87d8ce7ce2bc"
      }
     },
     "d6549132a8aa46568e42390d2bede27d": {
      "model_module": "@jupyter-widgets/controls",
      "model_module_version": "2.0.0",
      "model_name": "HTMLStyleModel",
      "state": {
       "description_width": "",
       "font_size": null,
       "text_color": null
      }
     },
     "dba50ce92bb7432e925cf23b02bd9b97": {
      "model_module": "@jupyter-widgets/base",
      "model_module_version": "2.0.0",
      "model_name": "LayoutModel",
      "state": {
       "margin": "0px 0px 10px 0px"
      }
     },
     "e1862440a6d3435f8931e30737143753": {
      "model_module": "@jupyter-widgets/base",
      "model_module_version": "2.0.0",
      "model_name": "LayoutModel",
      "state": {}
     },
     "e2ce7edd2fa34d6c88de0479a54e1994": {
      "model_module": "@jupyter-widgets/base",
      "model_module_version": "2.0.0",
      "model_name": "LayoutModel",
      "state": {
       "width": "70px"
      }
     },
     "f7492a033e7e4a7691adb1a53f3f74b6": {
      "model_module": "@jupyter-widgets/controls",
      "model_module_version": "2.0.0",
      "model_name": "HTMLModel",
      "state": {
       "layout": "IPY_MODEL_e2ce7edd2fa34d6c88de0479a54e1994",
       "style": "IPY_MODEL_95cc01d1224b4125bd14920fdc349e34",
       "value": "<h5>Queue</h5>"
      }
     }
    },
    "version_major": 2,
    "version_minor": 0
   }
  }
 },
 "nbformat": 4,
 "nbformat_minor": 5
}
