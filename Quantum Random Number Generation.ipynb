{
 "cells": [
  {
   "cell_type": "code",
   "execution_count": 2,
   "id": "c1401e01-ecfe-4bdc-b7d4-bc0fd59c7314",
   "metadata": {},
   "outputs": [],
   "source": [
    "# Importing standard Qiskit libraries\n",
    "from qiskit import QuantumCircuit, transpile\n",
    "from qiskit.tools.jupyter import *\n",
    "from qiskit.visualization import *\n",
    "from ibm_quantum_widgets import *\n",
    "\n",
    "# qiskit-ibmq-provider has been deprecated.\n",
    "# Please see the Migration Guides in https://ibm.biz/provider_migration_guide for more detail.\n",
    "from qiskit_ibm_runtime import QiskitRuntimeService, Sampler, Estimator, Session, Options\n",
    "\n",
    "# Loading your IBM Quantum account(s)\n",
    "service = QiskitRuntimeService(channel=\"ibm_quantum\")\n",
    "\n",
    "# Invoke a primitive. For more details see https://qiskit.org/documentation/partners/qiskit_ibm_runtime/tutorials.html\n",
    "# result = Sampler(\"ibmq_qasm_simulator\").run(circuits).result()"
   ]
  },
  {
   "cell_type": "code",
   "execution_count": 3,
   "id": "cdbae6ad-e7fe-4136-ab64-e6b361453ca9",
   "metadata": {
    "tags": []
   },
   "outputs": [
    {
     "name": "stderr",
     "output_type": "stream",
     "text": [
      "/tmp/ipykernel_167/3277775380.py:25: DeprecationWarning: The qiskit.IBMQ entrypoint and the qiskit-ibmq-provider package (accessible from 'qiskit.providers.ibmq`) are deprecated and will be removed in a future release. Instead you should use the qiskit-ibm-provider package which is accessible from 'qiskit_ibm_provider'. You can install it with 'pip install qiskit_ibm_provider'. Just replace 'qiskit.IBMQ' with 'qiskit_ibm_provider.IBMProvider'\n",
      "  provider = IBMQ.load_account()\n"
     ]
    }
   ],
   "source": [
    "# Importing standard Qiskit libraries\n",
    "from qiskit.tools.jupyter import *\n",
    "from qiskit.visualization import *\n",
    "from ibm_quantum_widgets import *\n",
    "\n",
    "# qiskit-ibmq-provider has been deprecated.\n",
    "# Please see the Migration Guides in https://ibm.biz/provider_migration_guide for more detail.\n",
    "from qiskit_ibm_runtime import QiskitRuntimeService, Sampler, Estimator, Session, Options\n",
    "\n",
    "# Loading your IBM Quantum account(s)\n",
    "service = QiskitRuntimeService(channel=\"ibm_quantum\")\n",
    "\n",
    "# Invoke a primitive. For more details see https://qiskit.org/documentation/partners/qiskit_ibm_runtime/tutorials.html\n",
    "# result = Sampler(\"ibmq_qasm_simulator\").run(circuits).result()\n",
    "\n",
    "import numpy as np\n",
    "\n",
    "# Importing standard Qiskit libraries\n",
    "from qiskit import QuantumCircuit, transpile, execute, Aer, IBMQ\n",
    "from qiskit.providers.aer import QasmSimulator\n",
    "from qiskit.providers.aer.noise import NoiseModel\n",
    "import matplotlib.pyplot as plt\n",
    "\n",
    "# Loading your IBM Quantum account(s)\n",
    "provider = IBMQ.load_account()\n"
   ]
  },
  {
   "cell_type": "code",
   "execution_count": 4,
   "id": "75b3d3d0-ec72-42b8-85f6-148e8a03bedf",
   "metadata": {
    "tags": []
   },
   "outputs": [],
   "source": [
    "import math\n",
    "import os\n",
    "\n",
    "from qiskit import QuantumCircuit, QuantumRegister, ClassicalRegister\n",
    "from qiskit.providers.fake_provider import FakeManilaV2, FakeBelemV2\n",
    "from qiskit import transpile\n",
    "from qiskit.tools.visualization import plot_histogram\n",
    "import time\n",
    "from multiprocessing import Pool\n",
    "pi = math.pi\n",
    "backend = FakeManilaV2()\n",
    "# backend = FakeBelemV2()\n",
    "\n",
    "backends = ['fakemanilaV2', 'fakebelemV2']\n",
    "methods = ['sabre', 'stochastic', 'none']"
   ]
  },
  {
   "cell_type": "code",
   "execution_count": 5,
   "id": "ecc2a4c4-2712-4976-b9bf-f35fc781760f",
   "metadata": {
    "tags": []
   },
   "outputs": [
    {
     "name": "stdout",
     "output_type": "stream",
     "text": [
      "Flip 1\n",
      "HEADS\n",
      "\n",
      "Flip 2\n",
      "TAILS\n",
      "\n",
      "Flip 3\n",
      "TAILS\n",
      "\n",
      "Flip 4\n",
      "TAILS\n",
      "\n",
      "Flip 5\n",
      "HEADS\n",
      "\n"
     ]
    }
   ],
   "source": [
    "import random\n",
    "for n in range(5):\n",
    "    print('Flip '+str(n+1))\n",
    "    if random.random()<0.5:\n",
    "        print('HEADS\\n')\n",
    "    else:\n",
    "        print('TAILS\\n')"
   ]
  },
  {
   "cell_type": "code",
   "execution_count": 6,
   "id": "a6760ef6-38e9-495a-aa4c-b649fd36f8f8",
   "metadata": {
    "tags": []
   },
   "outputs": [
    {
     "name": "stdout",
     "output_type": "stream",
     "text": [
      "Flip 1  (system time = 1690904772.9044733)\n",
      "TAILS\n",
      "\n",
      "Flip 2  (system time = 1690904772.9045959)\n",
      "TAILS\n",
      "\n",
      "Flip 3  (system time = 1690904772.9046338)\n",
      "HEADS\n",
      "\n",
      "Flip 4  (system time = 1690904772.9046476)\n",
      "HEADS\n",
      "\n",
      "Flip 5  (system time = 1690904772.9046593)\n",
      "TAILS\n",
      "\n"
     ]
    }
   ],
   "source": [
    "import time\n",
    "for n in range(5):\n",
    "    t = str(time.time())\n",
    "    print('Flip '+str(n+1)+'  (system time = ' + t + ')')\n",
    "    if int(t[-1])%2==0:\n",
    "        print('HEADS\\n')\n",
    "    else:\n",
    "        print('TAILS\\n')"
   ]
  },
  {
   "cell_type": "code",
   "execution_count": 7,
   "id": "91b9e6d6-f5b7-4f3a-a9df-5933774069e6",
   "metadata": {
    "tags": []
   },
   "outputs": [],
   "source": [
    "from qiskit import QuantumRegister, ClassicalRegister, QuantumCircuit\n",
    "\n",
    "q = QuantumRegister(1)\n",
    "c = ClassicalRegister(1)\n",
    "circ = QuantumCircuit(q, c)"
   ]
  },
  {
   "cell_type": "code",
   "execution_count": 8,
   "id": "a30d9e79-b41c-401b-9e6c-aa165cf070dd",
   "metadata": {
    "tags": []
   },
   "outputs": [
    {
     "data": {
      "text/plain": [
       "<qiskit.circuit.instructionset.InstructionSet at 0x7f9346bf5fc0>"
      ]
     },
     "execution_count": 8,
     "metadata": {},
     "output_type": "execute_result"
    }
   ],
   "source": [
    "circ.h(q)"
   ]
  },
  {
   "cell_type": "code",
   "execution_count": 9,
   "id": "20d2f2bc-4ea7-490c-96f4-567a13d4f367",
   "metadata": {
    "tags": []
   },
   "outputs": [
    {
     "data": {
      "text/plain": [
       "<qiskit.circuit.instructionset.InstructionSet at 0x7f934684edd0>"
      ]
     },
     "execution_count": 9,
     "metadata": {},
     "output_type": "execute_result"
    }
   ],
   "source": [
    "circ.measure(q, c)"
   ]
  },
  {
   "cell_type": "code",
   "execution_count": 10,
   "id": "5a05339c-d9c6-4802-b390-c1aa350ab2b8",
   "metadata": {
    "tags": []
   },
   "outputs": [
    {
     "name": "stdout",
     "output_type": "stream",
     "text": [
      "['1', '1', '1', '0', '0']\n",
      "Flip with output bit value 1\n",
      "TAILS\n",
      "\n",
      "Flip with output bit value 1\n",
      "TAILS\n",
      "\n",
      "Flip with output bit value 1\n",
      "TAILS\n",
      "\n",
      "Flip with output bit value 0\n",
      "HEADS\n",
      "\n",
      "Flip with output bit value 0\n",
      "HEADS\n",
      "\n"
     ]
    }
   ],
   "source": [
    "from qiskit import BasicAer, execute\n",
    "\n",
    "\n",
    "backend = BasicAer.get_backend('qasm_simulator')\n",
    "job = execute(circ, backend, shots=5, memory=True)\n",
    "\n",
    "data = job.result().get_memory()\n",
    "print(data)\n",
    "for output in data:\n",
    "    print('Flip with output bit value ' +output)\n",
    "    if output=='0':\n",
    "        print('HEADS\\n')\n",
    "    else:\n",
    "        print('TAILS\\n')"
   ]
  },
  {
   "cell_type": "code",
   "execution_count": 11,
   "id": "3011b7ee-6d0e-424c-8954-a08ad1618298",
   "metadata": {},
   "outputs": [
    {
     "name": "stdout",
     "output_type": "stream",
     "text": [
      "0.17336821556091309\n"
     ]
    }
   ],
   "source": [
    "backend = FakeManilaV2()\n",
    "t2 = time.time()\n",
    "job = execute(circ, backend, shots=5, memory=True)\n",
    "print(time.time() - t2)\n",
    "data = job.result().get_memory()"
   ]
  },
  {
   "cell_type": "code",
   "execution_count": null,
   "id": "cf2bcb90-cb07-4a9c-8b2a-5ce0251fb5b9",
   "metadata": {},
   "outputs": [],
   "source": []
  }
 ],
 "metadata": {
  "kernelspec": {
   "display_name": "Python 3 (ipykernel)",
   "language": "python",
   "name": "python3"
  },
  "language_info": {
   "codemirror_mode": {
    "name": "ipython",
    "version": 3
   },
   "file_extension": ".py",
   "mimetype": "text/x-python",
   "name": "python",
   "nbconvert_exporter": "python",
   "pygments_lexer": "ipython3",
   "version": "3.10.8"
  },
  "widgets": {
   "application/vnd.jupyter.widget-state+json": {
    "state": {
     "0af72db3918847098eb3c2bc6ea20141": {
      "model_module": "@jupyter-widgets/base",
      "model_module_version": "2.0.0",
      "model_name": "LayoutModel",
      "state": {
       "width": "145px"
      }
     },
     "15e9d51b74424958933fa2528398be20": {
      "model_module": "@jupyter-widgets/controls",
      "model_module_version": "2.0.0",
      "model_name": "GridBoxModel",
      "state": {
       "children": [
        "IPY_MODEL_6ff2209e4e2e4d29ad3f5e5ea5aa81a6"
       ],
       "layout": "IPY_MODEL_ea339d432f4a4a6c92edbcd6a13bb2c3"
      }
     },
     "30216d47f97e44cf82aeb75711e9d2b7": {
      "model_module": "@jupyter-widgets/controls",
      "model_module_version": "2.0.0",
      "model_name": "HTMLModel",
      "state": {
       "layout": "IPY_MODEL_fb83cd3fb55d49e585e01ce0f9a828ea",
       "style": "IPY_MODEL_f364182d47034e3084d3af7aee7adc90",
       "value": "<h5>Job ID</h5>"
      }
     },
     "35ea6c09cea2433a9f763375d819bbf9": {
      "model_module": "@jupyter-widgets/controls",
      "model_module_version": "2.0.0",
      "model_name": "HTMLStyleModel",
      "state": {
       "description_width": "",
       "font_size": null,
       "text_color": null
      }
     },
     "36ceec46df5541a288248fce2c3a5a83": {
      "model_module": "@jupyter-widgets/controls",
      "model_module_version": "2.0.0",
      "model_name": "HTMLStyleModel",
      "state": {
       "description_width": "",
       "font_size": null,
       "text_color": null
      }
     },
     "3993fc0fd390490687eb62a34082e00f": {
      "model_module": "@jupyter-widgets/controls",
      "model_module_version": "2.0.0",
      "model_name": "HTMLStyleModel",
      "state": {
       "description_width": "",
       "font_size": null,
       "text_color": null
      }
     },
     "483d18d70b1448418fa019379b6a7afa": {
      "model_module": "@jupyter-widgets/controls",
      "model_module_version": "2.0.0",
      "model_name": "HTMLModel",
      "state": {
       "layout": "IPY_MODEL_81836b79f68d463e8ceddf72aeddda05",
       "style": "IPY_MODEL_36ceec46df5541a288248fce2c3a5a83",
       "value": "<h5>Queue</h5>"
      }
     },
     "53d189881f24407f8a3fec47317e0ad7": {
      "model_module": "@jupyter-widgets/base",
      "model_module_version": "2.0.0",
      "model_name": "LayoutModel",
      "state": {}
     },
     "5fee4f4287cc4d55abd51b744810e67f": {
      "model_module": "@jupyter-widgets/base",
      "model_module_version": "2.0.0",
      "model_name": "LayoutModel",
      "state": {
       "margin": "0px 0px 0px 37px",
       "width": "600px"
      }
     },
     "6ff2209e4e2e4d29ad3f5e5ea5aa81a6": {
      "model_module": "@jupyter-widgets/controls",
      "model_module_version": "2.0.0",
      "model_name": "ButtonModel",
      "state": {
       "button_style": "primary",
       "description": "Clear",
       "layout": "IPY_MODEL_8be76ed1df264b04a3cf1ca812f5f1be",
       "style": "IPY_MODEL_86e9a20956b84b0982a0e652d06a7414",
       "tooltip": null
      }
     },
     "74f49d044c11409ea6b46618f607fe11": {
      "model_module": "@jupyter-widgets/controls",
      "model_module_version": "2.0.0",
      "model_name": "HBoxModel",
      "state": {
       "children": [
        "IPY_MODEL_30216d47f97e44cf82aeb75711e9d2b7",
        "IPY_MODEL_cb0bceeec231435f99ced4a1bc875a47",
        "IPY_MODEL_b0af53c39a75485f8ec668e3520b0941",
        "IPY_MODEL_483d18d70b1448418fa019379b6a7afa",
        "IPY_MODEL_cb9f24b3f9c640b7b566c0131f4bf679"
       ],
       "layout": "IPY_MODEL_5fee4f4287cc4d55abd51b744810e67f"
      }
     },
     "81836b79f68d463e8ceddf72aeddda05": {
      "model_module": "@jupyter-widgets/base",
      "model_module_version": "2.0.0",
      "model_name": "LayoutModel",
      "state": {
       "width": "70px"
      }
     },
     "86158666b6ed4f29b35c1e5f8ab29ad3": {
      "model_module": "@jupyter-widgets/controls",
      "model_module_version": "2.0.0",
      "model_name": "HTMLModel",
      "state": {
       "layout": "IPY_MODEL_f2f0438b06cf4e65b0a42d47bcbecf12",
       "style": "IPY_MODEL_f08e1c86e2ac4bcd85616bea9a5f4e1a",
       "value": "<p style='font-family: IBM Plex Sans, Arial, Helvetica, sans-serif; font-size: 20px; font-weight: medium;'>Circuit Properties</p>"
      }
     },
     "86e9a20956b84b0982a0e652d06a7414": {
      "model_module": "@jupyter-widgets/controls",
      "model_module_version": "2.0.0",
      "model_name": "ButtonStyleModel",
      "state": {
       "font_family": null,
       "font_size": null,
       "font_style": null,
       "font_variant": null,
       "font_weight": null,
       "text_color": null,
       "text_decoration": null
      }
     },
     "8be76ed1df264b04a3cf1ca812f5f1be": {
      "model_module": "@jupyter-widgets/base",
      "model_module_version": "2.0.0",
      "model_name": "LayoutModel",
      "state": {
       "grid_area": "right",
       "padding": "0px 0px 0px 0px",
       "width": "70px"
      }
     },
     "8d3fbe82b0b745c5bc336015c2865d3e": {
      "model_module": "@jupyter-widgets/base",
      "model_module_version": "2.0.0",
      "model_name": "LayoutModel",
      "state": {
       "width": "95px"
      }
     },
     "b0af53c39a75485f8ec668e3520b0941": {
      "model_module": "@jupyter-widgets/controls",
      "model_module_version": "2.0.0",
      "model_name": "HTMLModel",
      "state": {
       "layout": "IPY_MODEL_8d3fbe82b0b745c5bc336015c2865d3e",
       "style": "IPY_MODEL_3993fc0fd390490687eb62a34082e00f",
       "value": "<h5>Status</h5>"
      }
     },
     "c0d1faefc1fb477da596d169be652cc8": {
      "model_module": "@jupyter-widgets/controls",
      "model_module_version": "2.0.0",
      "model_name": "HTMLStyleModel",
      "state": {
       "description_width": "",
       "font_size": null,
       "text_color": null
      }
     },
     "cb0bceeec231435f99ced4a1bc875a47": {
      "model_module": "@jupyter-widgets/controls",
      "model_module_version": "2.0.0",
      "model_name": "HTMLModel",
      "state": {
       "layout": "IPY_MODEL_0af72db3918847098eb3c2bc6ea20141",
       "style": "IPY_MODEL_35ea6c09cea2433a9f763375d819bbf9",
       "value": "<h5>Backend</h5>"
      }
     },
     "cb9f24b3f9c640b7b566c0131f4bf679": {
      "model_module": "@jupyter-widgets/controls",
      "model_module_version": "2.0.0",
      "model_name": "HTMLModel",
      "state": {
       "layout": "IPY_MODEL_53d189881f24407f8a3fec47317e0ad7",
       "style": "IPY_MODEL_c0d1faefc1fb477da596d169be652cc8",
       "value": "<h5>Message</h5>"
      }
     },
     "ea339d432f4a4a6c92edbcd6a13bb2c3": {
      "model_module": "@jupyter-widgets/base",
      "model_module_version": "2.0.0",
      "model_name": "LayoutModel",
      "state": {
       "grid_template_areas": "\n                                       \". . . . right \"\n                                        ",
       "grid_template_columns": "20% 20% 20% 20% 20%",
       "width": "100%"
      }
     },
     "f08e1c86e2ac4bcd85616bea9a5f4e1a": {
      "model_module": "@jupyter-widgets/controls",
      "model_module_version": "2.0.0",
      "model_name": "HTMLStyleModel",
      "state": {
       "description_width": "",
       "font_size": null,
       "text_color": null
      }
     },
     "f2f0438b06cf4e65b0a42d47bcbecf12": {
      "model_module": "@jupyter-widgets/base",
      "model_module_version": "2.0.0",
      "model_name": "LayoutModel",
      "state": {
       "margin": "0px 0px 10px 0px"
      }
     },
     "f364182d47034e3084d3af7aee7adc90": {
      "model_module": "@jupyter-widgets/controls",
      "model_module_version": "2.0.0",
      "model_name": "HTMLStyleModel",
      "state": {
       "description_width": "",
       "font_size": null,
       "text_color": null
      }
     },
     "fb83cd3fb55d49e585e01ce0f9a828ea": {
      "model_module": "@jupyter-widgets/base",
      "model_module_version": "2.0.0",
      "model_name": "LayoutModel",
      "state": {
       "width": "190px"
      }
     }
    },
    "version_major": 2,
    "version_minor": 0
   }
  }
 },
 "nbformat": 4,
 "nbformat_minor": 5
}
