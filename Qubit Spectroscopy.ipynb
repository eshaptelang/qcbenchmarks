{
 "cells": [
  {
   "cell_type": "code",
   "execution_count": 26,
   "id": "a9c30305-a92f-4802-b48d-a74f499a3966",
   "metadata": {
    "tags": []
   },
   "outputs": [
    {
     "name": "stderr",
     "output_type": "stream",
     "text": [
      "/tmp/ipykernel_60/3431161861.py:41: DeprecationWarning: The qiskit.IBMQ entrypoint and the qiskit-ibmq-provider package (accessible from 'qiskit.providers.ibmq`) are deprecated and will be removed in a future release. Instead you should use the qiskit-ibm-provider package which is accessible from 'qiskit_ibm_provider'. You can install it with 'pip install qiskit_ibm_provider'. Just replace 'qiskit.IBMQ' with 'qiskit_ibm_provider.IBMProvider'\n",
      "  provider = IBMQ.load_account()\n"
     ]
    },
    {
     "name": "stdout",
     "output_type": "stream",
     "text": [
      "Libraries imported successfully!\n"
     ]
    }
   ],
   "source": [
    "# Importing standard Qiskit libraries\n",
    "from qiskit import QuantumCircuit, transpile\n",
    "from qiskit.tools.jupyter import *\n",
    "from qiskit.visualization import *\n",
    "from ibm_quantum_widgets import *\n",
    "\n",
    "# qiskit-ibmq-provider has been deprecated.\n",
    "# Please see the Migration Guides in https://ibm.biz/provider_migration_guide for more detail.\n",
    "from qiskit_ibm_runtime import QiskitRuntimeService, Sampler, Estimator, Session, Options\n",
    "\n",
    "# Loading your IBM Quantum account(s)\n",
    "service = QiskitRuntimeService(channel=\"ibm_quantum\")\n",
    "\n",
    "# Invoke a primitive. For more details see https://qiskit.org/documentation/partners/qiskit_ibm_runtime/tutorials.html\n",
    "# result = Sampler(\"ibmq_qasm_simulator\").run(circuits).result()\n",
    "\n",
    "import numpy as np\n",
    "from qiskit.qobj.utils import MeasLevel\n",
    "from qiskit_experiments.framework import ParallelExperiment\n",
    "from qiskit_experiments.library import T1\n",
    "from qiskit_experiments.library.characterization.analysis.t1_analysis import T1KerneledAnalysis\n",
    "from qiskit_experiments.library import QubitSpectroscopy\n",
    "\n",
    "# A T1 simulator\n",
    "from qiskit.providers.fake_provider import FakePerth\n",
    "from qiskit_aer import AerSimulator\n",
    "from qiskit_aer.noise import NoiseModel\n",
    "\n",
    "# A kerneled data simulator\n",
    "from qiskit_experiments.test.mock_iq_backend import MockIQBackend\n",
    "from qiskit_experiments.test.mock_iq_helpers import MockIQT1Helper\n",
    "\n",
    "import numpy as np\n",
    "# Importing standard Qiskit libraries\n",
    "from qiskit import QuantumCircuit, execute, transpile, Aer, IBMQ\n",
    "from qiskit.tools.jupyter import *\n",
    "from qiskit.visualization import *\n",
    "from ibm_quantum_widgets import *\n",
    "\n",
    "# Loading your IBM Quantum account(s)\n",
    "provider = IBMQ.load_account()\n",
    "print('Libraries imported successfully!')"
   ]
  },
  {
   "cell_type": "code",
   "execution_count": 29,
   "id": "81afa9b1-f783-4e68-805a-905cefb904da",
   "metadata": {
    "tags": []
   },
   "outputs": [
    {
     "name": "stdout",
     "output_type": "stream",
     "text": [
      "---------------------------------------------------\n",
      "Experiment: QubitSpectroscopy\n",
      "Experiment ID: 73294667-c93a-4d73-8262-79e25bbf4c84\n",
      "Status: ExperimentStatus.QUEUED\n",
      "Backend: ibmq_belem\n",
      "Data: 0\n",
      "Analysis Results: 0\n",
      "Figures: 0\n"
     ]
    },
    {
     "name": "stderr",
     "output_type": "stream",
     "text": [
      "Job was cancelled before completion [Job ID: cit9s210lhfmb5qloseg]\n"
     ]
    }
   ],
   "source": [
    "x = QubitSpectroscopy(physical_qubits=(0,), frequencies = [0.2,0.23,0.27])\n",
    "\n",
    "from qiskit.providers.ibmq import least_busy\n",
    "backend = least_busy(provider.backends(filters=lambda x: x.configuration().n_qubits >= 2 and\n",
    "not x.configuration().simulator and x.status().operational==True)) # Find the least busy QC\n",
    "\n",
    "results = x.run(backend = backend)\n",
    "print(results)"
   ]
  }
 ],
 "metadata": {
  "kernelspec": {
   "display_name": "Python 3 (ipykernel)",
   "language": "python",
   "name": "python3"
  },
  "language_info": {
   "codemirror_mode": {
    "name": "ipython",
    "version": 3
   },
   "file_extension": ".py",
   "mimetype": "text/x-python",
   "name": "python",
   "nbconvert_exporter": "python",
   "pygments_lexer": "ipython3",
   "version": "3.10.8"
  },
  "widgets": {
   "application/vnd.jupyter.widget-state+json": {
    "state": {
     "011ca7f96dac4609be5fe22a12893ab1": {
      "model_module": "@jupyter-widgets/controls",
      "model_module_version": "2.0.0",
      "model_name": "ButtonStyleModel",
      "state": {
       "button_color": "white",
       "font_family": null,
       "font_size": null,
       "font_style": null,
       "font_variant": null,
       "font_weight": null,
       "text_color": null,
       "text_decoration": null
      }
     },
     "04c937337b8542d2af2641d59505d2b6": {
      "model_module": "@jupyter-widgets/controls",
      "model_module_version": "2.0.0",
      "model_name": "HTMLStyleModel",
      "state": {
       "description_width": "",
       "font_size": null,
       "text_color": null
      }
     },
     "07863beee3e5420ba129c504855788dc": {
      "model_module": "@jupyter-widgets/controls",
      "model_module_version": "2.0.0",
      "model_name": "HTMLModel",
      "state": {
       "layout": "IPY_MODEL_319a8d4e9580420ca18f114e876482b5",
       "style": "IPY_MODEL_c269813fbdf9476f88c31fd554d16161",
       "value": "QUEUED"
      }
     },
     "0a0221ded4b44608a9fc81eb1924669b": {
      "model_module": "@jupyter-widgets/base",
      "model_module_version": "2.0.0",
      "model_name": "LayoutModel",
      "state": {
       "grid_template_areas": "\n                                       \". . . . right \"\n                                        ",
       "grid_template_columns": "20% 20% 20% 20% 20%",
       "width": "100%"
      }
     },
     "0e5761b60c7540608824a5f26946afab": {
      "model_module": "@jupyter-widgets/base",
      "model_module_version": "2.0.0",
      "model_name": "LayoutModel",
      "state": {
       "margin": "0px 5px 0px 0px",
       "width": "32px"
      }
     },
     "0fe57b64c27c4ac0911c88b449649d54": {
      "model_module": "@jupyter-widgets/controls",
      "model_module_version": "2.0.0",
      "model_name": "HTMLModel",
      "state": {
       "layout": "IPY_MODEL_66ba1abc7bd54bdea876599031f49de6",
       "style": "IPY_MODEL_cf39de5008304564b3f8698bd8f41313",
       "value": "<p style=white-space:nowrap;>job is queued</p>"
      }
     },
     "10a6a9647df94024b569aebc8712bcec": {
      "model_module": "@jupyter-widgets/controls",
      "model_module_version": "2.0.0",
      "model_name": "GridBoxModel",
      "state": {
       "children": [
        "IPY_MODEL_bd9cba004a964b64b80a1e8378be6e13"
       ],
       "layout": "IPY_MODEL_0a0221ded4b44608a9fc81eb1924669b"
      }
     },
     "1301c45ed2f344f094c5b92b42a01d84": {
      "model_module": "@jupyter-widgets/base",
      "model_module_version": "2.0.0",
      "model_name": "LayoutModel",
      "state": {
       "max_width": "700px",
       "min_width": "700px"
      }
     },
     "155473a1af20494ab024b08549c45c71": {
      "model_module": "@jupyter-widgets/base",
      "model_module_version": "2.0.0",
      "model_name": "LayoutModel",
      "state": {
       "width": "190px"
      }
     },
     "211e6ebab90e45cebfb5d11203e486e3": {
      "model_module": "@jupyter-widgets/controls",
      "model_module_version": "2.0.0",
      "model_name": "HTMLModel",
      "state": {
       "layout": "IPY_MODEL_3b8fd25d3db44e798d1ec0275cec29b0",
       "style": "IPY_MODEL_c4bd1821898049729b7afd2948e20b27",
       "value": "<h5>Message</h5>"
      }
     },
     "232814cd4d33464c93bc9463059bdb1a": {
      "model_module": "@jupyter-widgets/controls",
      "model_module_version": "2.0.0",
      "model_name": "HBoxModel",
      "state": {
       "children": [
        "IPY_MODEL_5d2aa131dbdd4e7e861535f677a11a83",
        "IPY_MODEL_7ebe751ecc49436fbafbd7b7728d480c",
        "IPY_MODEL_3c6ebd79c6e4428694c83ceda6b53f54",
        "IPY_MODEL_c7c9882af77149cb8ba3549a113f1880",
        "IPY_MODEL_59cf6bd498e5464f869398abf3b6c757",
        "IPY_MODEL_4fc26e32358b476e823247d33b83e79f"
       ],
       "layout": "IPY_MODEL_d04fb4fffb0b457b9e3ea3db9d3665e4"
      }
     },
     "319a8d4e9580420ca18f114e876482b5": {
      "model_module": "@jupyter-widgets/base",
      "model_module_version": "2.0.0",
      "model_name": "LayoutModel",
      "state": {
       "width": "95px"
      }
     },
     "35aa81cfff1f4298b1a60db3fe7462b4": {
      "model_module": "@jupyter-widgets/base",
      "model_module_version": "2.0.0",
      "model_name": "LayoutModel",
      "state": {
       "grid_area": "right",
       "padding": "0px 0px 0px 0px",
       "width": "70px"
      }
     },
     "383c515f944b4e0d98cc4a33363169f1": {
      "model_module": "@jupyter-widgets/controls",
      "model_module_version": "2.0.0",
      "model_name": "HTMLModel",
      "state": {
       "layout": "IPY_MODEL_3c5ece1bdd5944a7822f874d16265281",
       "style": "IPY_MODEL_ae57d4ed19b94ba98e193b7c23357868",
       "value": "-"
      }
     },
     "3a61ba79d2ba4ebe8675b34e28ef717a": {
      "model_module": "@jupyter-widgets/controls",
      "model_module_version": "2.0.0",
      "model_name": "HTMLModel",
      "state": {
       "layout": "IPY_MODEL_7dd552895a504949bcadb1f69905e795",
       "style": "IPY_MODEL_9a1be9b5f7594642816e4670cb3ede7f",
       "value": "<h5>Queue</h5>"
      }
     },
     "3b8fd25d3db44e798d1ec0275cec29b0": {
      "model_module": "@jupyter-widgets/base",
      "model_module_version": "2.0.0",
      "model_name": "LayoutModel",
      "state": {}
     },
     "3c5ece1bdd5944a7822f874d16265281": {
      "model_module": "@jupyter-widgets/base",
      "model_module_version": "2.0.0",
      "model_name": "LayoutModel",
      "state": {
       "width": "70px"
      }
     },
     "3c6ebd79c6e4428694c83ceda6b53f54": {
      "model_module": "@jupyter-widgets/controls",
      "model_module_version": "2.0.0",
      "model_name": "HTMLModel",
      "state": {
       "layout": "IPY_MODEL_b8dff68dc1cb4402965ffc248ced7b44",
       "style": "IPY_MODEL_860774baeba440ce93d911ce48729859",
       "value": "ibmq_belem"
      }
     },
     "44b33cc27263467fb2827fdfeba2ee87": {
      "model_module": "@jupyter-widgets/controls",
      "model_module_version": "2.0.0",
      "model_name": "HTMLModel",
      "state": {
       "layout": "IPY_MODEL_5e067693315f4e27aad1ab477581d5bb",
       "style": "IPY_MODEL_e1ec3270423d4aa39d39294545d68cc1",
       "value": "<h5>Status</h5>"
      }
     },
     "4959a5784c8f4803894d2777cb368d84": {
      "model_module": "@jupyter-widgets/base",
      "model_module_version": "2.0.0",
      "model_name": "LayoutModel",
      "state": {
       "margin": "0px 0px 10px 0px"
      }
     },
     "4a49904ae88040b985a6bb323f7d5816": {
      "model_module": "@jupyter-widgets/controls",
      "model_module_version": "2.0.0",
      "model_name": "ButtonStyleModel",
      "state": {
       "font_family": null,
       "font_size": null,
       "font_style": null,
       "font_variant": null,
       "font_weight": null,
       "text_color": null,
       "text_decoration": null
      }
     },
     "4fc26e32358b476e823247d33b83e79f": {
      "model_module": "@jupyter-widgets/controls",
      "model_module_version": "2.0.0",
      "model_name": "HTMLModel",
      "state": {
       "layout": "IPY_MODEL_d187326422c846eca01f9702b1db2af0",
       "style": "IPY_MODEL_baab4a5fa1bb445382220b56733905d7",
       "value": "job has been cancelled"
      }
     },
     "59cf6bd498e5464f869398abf3b6c757": {
      "model_module": "@jupyter-widgets/controls",
      "model_module_version": "2.0.0",
      "model_name": "HTMLModel",
      "state": {
       "layout": "IPY_MODEL_f2a1cf6f3b8740a3b4bfae8cb5bbca8c",
       "style": "IPY_MODEL_ada12da391f145f5a4fee18f138db369",
       "value": "-"
      }
     },
     "5d2aa131dbdd4e7e861535f677a11a83": {
      "model_module": "@jupyter-widgets/controls",
      "model_module_version": "2.0.0",
      "model_name": "ButtonModel",
      "state": {
       "icon": "close",
       "layout": "IPY_MODEL_0e5761b60c7540608824a5f26946afab",
       "style": "IPY_MODEL_6b5cefa26c0c4329b086697c9051cfe8",
       "tooltip": null
      }
     },
     "5e067693315f4e27aad1ab477581d5bb": {
      "model_module": "@jupyter-widgets/base",
      "model_module_version": "2.0.0",
      "model_name": "LayoutModel",
      "state": {
       "width": "95px"
      }
     },
     "66ba1abc7bd54bdea876599031f49de6": {
      "model_module": "@jupyter-widgets/base",
      "model_module_version": "2.0.0",
      "model_name": "LayoutModel",
      "state": {}
     },
     "670cc211f31849c99100905a0fd0b1b8": {
      "model_module": "@jupyter-widgets/controls",
      "model_module_version": "2.0.0",
      "model_name": "HTMLStyleModel",
      "state": {
       "description_width": "",
       "font_size": null,
       "text_color": null
      }
     },
     "6af46be5010a43839b3001c8833d6fc5": {
      "model_module": "@jupyter-widgets/controls",
      "model_module_version": "2.0.0",
      "model_name": "HTMLModel",
      "state": {
       "layout": "IPY_MODEL_942efa7e81bc4d87a143fb77c18ffbc3",
       "style": "IPY_MODEL_8642d72654274700aaa6947f6dc15720",
       "value": "ibmq_belem"
      }
     },
     "6b5cefa26c0c4329b086697c9051cfe8": {
      "model_module": "@jupyter-widgets/controls",
      "model_module_version": "2.0.0",
      "model_name": "ButtonStyleModel",
      "state": {
       "button_color": "white",
       "font_family": null,
       "font_size": null,
       "font_style": null,
       "font_variant": null,
       "font_weight": null,
       "text_color": null,
       "text_decoration": null
      }
     },
     "6c91163757994c36a7fb0fe2706198cb": {
      "model_module": "@jupyter-widgets/base",
      "model_module_version": "2.0.0",
      "model_name": "LayoutModel",
      "state": {
       "width": "95px"
      }
     },
     "70e347ef8f094eb08589fefb3d415e2a": {
      "model_module": "@jupyter-widgets/base",
      "model_module_version": "2.0.0",
      "model_name": "LayoutModel",
      "state": {
       "margin": "0px 0px 0px 37px",
       "width": "600px"
      }
     },
     "7dd552895a504949bcadb1f69905e795": {
      "model_module": "@jupyter-widgets/base",
      "model_module_version": "2.0.0",
      "model_name": "LayoutModel",
      "state": {
       "width": "70px"
      }
     },
     "7ebe751ecc49436fbafbd7b7728d480c": {
      "model_module": "@jupyter-widgets/controls",
      "model_module_version": "2.0.0",
      "model_name": "HTMLModel",
      "state": {
       "layout": "IPY_MODEL_e4991b1eab4046f190d47892aeed7d01",
       "style": "IPY_MODEL_670cc211f31849c99100905a0fd0b1b8",
       "value": "cit9s210lhfmb5qloseg"
      }
     },
     "80088ee7d2114d52bd0f52992f58c15f": {
      "model_module": "@jupyter-widgets/controls",
      "model_module_version": "2.0.0",
      "model_name": "HTMLStyleModel",
      "state": {
       "description_width": "",
       "font_size": null,
       "text_color": null
      }
     },
     "860774baeba440ce93d911ce48729859": {
      "model_module": "@jupyter-widgets/controls",
      "model_module_version": "2.0.0",
      "model_name": "HTMLStyleModel",
      "state": {
       "description_width": "",
       "font_size": null,
       "text_color": null
      }
     },
     "8642d72654274700aaa6947f6dc15720": {
      "model_module": "@jupyter-widgets/controls",
      "model_module_version": "2.0.0",
      "model_name": "HTMLStyleModel",
      "state": {
       "description_width": "",
       "font_size": null,
       "text_color": null
      }
     },
     "868247a056b24d00b8d6c4082afccd88": {
      "model_module": "@jupyter-widgets/controls",
      "model_module_version": "2.0.0",
      "model_name": "HTMLStyleModel",
      "state": {
       "description_width": "",
       "font_size": null,
       "text_color": null
      }
     },
     "8dc5c604f5fc4842ad54045f67aeecbc": {
      "model_module": "@jupyter-widgets/base",
      "model_module_version": "2.0.0",
      "model_name": "LayoutModel",
      "state": {
       "width": "190px"
      }
     },
     "942efa7e81bc4d87a143fb77c18ffbc3": {
      "model_module": "@jupyter-widgets/base",
      "model_module_version": "2.0.0",
      "model_name": "LayoutModel",
      "state": {
       "width": "145px"
      }
     },
     "9a1be9b5f7594642816e4670cb3ede7f": {
      "model_module": "@jupyter-widgets/controls",
      "model_module_version": "2.0.0",
      "model_name": "HTMLStyleModel",
      "state": {
       "description_width": "",
       "font_size": null,
       "text_color": null
      }
     },
     "acb392e2365f4c80a5e89366cf17a6d7": {
      "model_module": "@jupyter-widgets/base",
      "model_module_version": "2.0.0",
      "model_name": "LayoutModel",
      "state": {
       "width": "145px"
      }
     },
     "ada12da391f145f5a4fee18f138db369": {
      "model_module": "@jupyter-widgets/controls",
      "model_module_version": "2.0.0",
      "model_name": "HTMLStyleModel",
      "state": {
       "description_width": "",
       "font_size": null,
       "text_color": null
      }
     },
     "ae57d4ed19b94ba98e193b7c23357868": {
      "model_module": "@jupyter-widgets/controls",
      "model_module_version": "2.0.0",
      "model_name": "HTMLStyleModel",
      "state": {
       "description_width": "",
       "font_size": null,
       "text_color": null
      }
     },
     "af445cf711644fdb877b2df3b42cc580": {
      "model_module": "@jupyter-widgets/controls",
      "model_module_version": "2.0.0",
      "model_name": "HTMLStyleModel",
      "state": {
       "description_width": "",
       "font_size": null,
       "text_color": null
      }
     },
     "b5ba9d8e116842fcbcbbd0511f6013ef": {
      "model_module": "@jupyter-widgets/base",
      "model_module_version": "2.0.0",
      "model_name": "LayoutModel",
      "state": {
       "margin": "0px 5px 0px 0px",
       "width": "32px"
      }
     },
     "b8dff68dc1cb4402965ffc248ced7b44": {
      "model_module": "@jupyter-widgets/base",
      "model_module_version": "2.0.0",
      "model_name": "LayoutModel",
      "state": {
       "width": "145px"
      }
     },
     "baab4a5fa1bb445382220b56733905d7": {
      "model_module": "@jupyter-widgets/controls",
      "model_module_version": "2.0.0",
      "model_name": "HTMLStyleModel",
      "state": {
       "description_width": "",
       "font_size": null,
       "text_color": null
      }
     },
     "bd9cba004a964b64b80a1e8378be6e13": {
      "model_module": "@jupyter-widgets/controls",
      "model_module_version": "2.0.0",
      "model_name": "ButtonModel",
      "state": {
       "button_style": "primary",
       "description": "Clear",
       "layout": "IPY_MODEL_35aa81cfff1f4298b1a60db3fe7462b4",
       "style": "IPY_MODEL_4a49904ae88040b985a6bb323f7d5816",
       "tooltip": null
      }
     },
     "bf6b1f3b844b4fc8bf326318ec71b570": {
      "model_module": "@jupyter-widgets/controls",
      "model_module_version": "2.0.0",
      "model_name": "HTMLModel",
      "state": {
       "layout": "IPY_MODEL_acb392e2365f4c80a5e89366cf17a6d7",
       "style": "IPY_MODEL_e93cf9a6d83e411d931426bf7a57b9a9",
       "value": "<h5>Backend</h5>"
      }
     },
     "c269813fbdf9476f88c31fd554d16161": {
      "model_module": "@jupyter-widgets/controls",
      "model_module_version": "2.0.0",
      "model_name": "HTMLStyleModel",
      "state": {
       "description_width": "",
       "font_size": null,
       "text_color": null
      }
     },
     "c304f081916940b5a3a90c2edb1e7638": {
      "model_module": "@jupyter-widgets/controls",
      "model_module_version": "2.0.0",
      "model_name": "HBoxModel",
      "state": {
       "children": [
        "IPY_MODEL_fcd5a0ed90d64f31b63b1bbdd52bf1b5",
        "IPY_MODEL_daa4fc9e2abe4dab98cde101c80620d1",
        "IPY_MODEL_6af46be5010a43839b3001c8833d6fc5",
        "IPY_MODEL_07863beee3e5420ba129c504855788dc",
        "IPY_MODEL_383c515f944b4e0d98cc4a33363169f1",
        "IPY_MODEL_0fe57b64c27c4ac0911c88b449649d54"
       ],
       "layout": "IPY_MODEL_1301c45ed2f344f094c5b92b42a01d84"
      }
     },
     "c4bd1821898049729b7afd2948e20b27": {
      "model_module": "@jupyter-widgets/controls",
      "model_module_version": "2.0.0",
      "model_name": "HTMLStyleModel",
      "state": {
       "description_width": "",
       "font_size": null,
       "text_color": null
      }
     },
     "c7c9882af77149cb8ba3549a113f1880": {
      "model_module": "@jupyter-widgets/controls",
      "model_module_version": "2.0.0",
      "model_name": "HTMLModel",
      "state": {
       "layout": "IPY_MODEL_6c91163757994c36a7fb0fe2706198cb",
       "style": "IPY_MODEL_868247a056b24d00b8d6c4082afccd88",
       "value": "<font style='color:#FFB000'>CANCELLED</font>"
      }
     },
     "cf39de5008304564b3f8698bd8f41313": {
      "model_module": "@jupyter-widgets/controls",
      "model_module_version": "2.0.0",
      "model_name": "HTMLStyleModel",
      "state": {
       "description_width": "",
       "font_size": null,
       "text_color": null
      }
     },
     "d04fb4fffb0b457b9e3ea3db9d3665e4": {
      "model_module": "@jupyter-widgets/base",
      "model_module_version": "2.0.0",
      "model_name": "LayoutModel",
      "state": {
       "max_width": "700px",
       "min_width": "700px"
      }
     },
     "d187326422c846eca01f9702b1db2af0": {
      "model_module": "@jupyter-widgets/base",
      "model_module_version": "2.0.0",
      "model_name": "LayoutModel",
      "state": {}
     },
     "d94bc14c02164f1da61ef3f92640c72c": {
      "model_module": "@jupyter-widgets/controls",
      "model_module_version": "2.0.0",
      "model_name": "HTMLModel",
      "state": {
       "layout": "IPY_MODEL_8dc5c604f5fc4842ad54045f67aeecbc",
       "style": "IPY_MODEL_af445cf711644fdb877b2df3b42cc580",
       "value": "<h5>Job ID</h5>"
      }
     },
     "daa4fc9e2abe4dab98cde101c80620d1": {
      "model_module": "@jupyter-widgets/controls",
      "model_module_version": "2.0.0",
      "model_name": "HTMLModel",
      "state": {
       "layout": "IPY_MODEL_155473a1af20494ab024b08549c45c71",
       "style": "IPY_MODEL_80088ee7d2114d52bd0f52992f58c15f",
       "value": "cit9sd90lhfmb5qlp6b0"
      }
     },
     "dcf5d9f2a14243a49a6c34f11a2e7a40": {
      "model_module": "@jupyter-widgets/controls",
      "model_module_version": "2.0.0",
      "model_name": "HBoxModel",
      "state": {
       "children": [
        "IPY_MODEL_d94bc14c02164f1da61ef3f92640c72c",
        "IPY_MODEL_bf6b1f3b844b4fc8bf326318ec71b570",
        "IPY_MODEL_44b33cc27263467fb2827fdfeba2ee87",
        "IPY_MODEL_3a61ba79d2ba4ebe8675b34e28ef717a",
        "IPY_MODEL_211e6ebab90e45cebfb5d11203e486e3"
       ],
       "layout": "IPY_MODEL_70e347ef8f094eb08589fefb3d415e2a"
      }
     },
     "df48e080090a47b6bd511ef0b5cd19a8": {
      "model_module": "@jupyter-widgets/controls",
      "model_module_version": "2.0.0",
      "model_name": "HTMLModel",
      "state": {
       "layout": "IPY_MODEL_4959a5784c8f4803894d2777cb368d84",
       "style": "IPY_MODEL_04c937337b8542d2af2641d59505d2b6",
       "value": "<p style='font-family: IBM Plex Sans, Arial, Helvetica, sans-serif; font-size: 20px; font-weight: medium;'>Circuit Properties</p>"
      }
     },
     "e1ec3270423d4aa39d39294545d68cc1": {
      "model_module": "@jupyter-widgets/controls",
      "model_module_version": "2.0.0",
      "model_name": "HTMLStyleModel",
      "state": {
       "description_width": "",
       "font_size": null,
       "text_color": null
      }
     },
     "e4991b1eab4046f190d47892aeed7d01": {
      "model_module": "@jupyter-widgets/base",
      "model_module_version": "2.0.0",
      "model_name": "LayoutModel",
      "state": {
       "width": "190px"
      }
     },
     "e93cf9a6d83e411d931426bf7a57b9a9": {
      "model_module": "@jupyter-widgets/controls",
      "model_module_version": "2.0.0",
      "model_name": "HTMLStyleModel",
      "state": {
       "description_width": "",
       "font_size": null,
       "text_color": null
      }
     },
     "f2a1cf6f3b8740a3b4bfae8cb5bbca8c": {
      "model_module": "@jupyter-widgets/base",
      "model_module_version": "2.0.0",
      "model_name": "LayoutModel",
      "state": {
       "width": "70px"
      }
     },
     "fcd5a0ed90d64f31b63b1bbdd52bf1b5": {
      "model_module": "@jupyter-widgets/controls",
      "model_module_version": "2.0.0",
      "model_name": "ButtonModel",
      "state": {
       "icon": "close",
       "layout": "IPY_MODEL_b5ba9d8e116842fcbcbbd0511f6013ef",
       "style": "IPY_MODEL_011ca7f96dac4609be5fe22a12893ab1",
       "tooltip": null
      }
     }
    },
    "version_major": 2,
    "version_minor": 0
   }
  }
 },
 "nbformat": 4,
 "nbformat_minor": 5
}
